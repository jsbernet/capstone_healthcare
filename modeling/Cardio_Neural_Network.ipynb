{
 "cells": [
  {
   "cell_type": "markdown",
   "metadata": {},
   "source": [
    "## Cardio Neural Net"
   ]
  },
  {
   "cell_type": "code",
   "execution_count": 1,
   "metadata": {},
   "outputs": [
    {
     "name": "stderr",
     "output_type": "stream",
     "text": [
      "/Users/jmwanat/anaconda3/envs/tf/lib/python3.7/site-packages/tensorflow/python/framework/dtypes.py:526: FutureWarning: Passing (type, 1) or '1type' as a synonym of type is deprecated; in a future version of numpy, it will be understood as (type, (1,)) / '(1,)type'.\n",
      "  _np_qint8 = np.dtype([(\"qint8\", np.int8, 1)])\n",
      "/Users/jmwanat/anaconda3/envs/tf/lib/python3.7/site-packages/tensorflow/python/framework/dtypes.py:527: FutureWarning: Passing (type, 1) or '1type' as a synonym of type is deprecated; in a future version of numpy, it will be understood as (type, (1,)) / '(1,)type'.\n",
      "  _np_quint8 = np.dtype([(\"quint8\", np.uint8, 1)])\n",
      "/Users/jmwanat/anaconda3/envs/tf/lib/python3.7/site-packages/tensorflow/python/framework/dtypes.py:528: FutureWarning: Passing (type, 1) or '1type' as a synonym of type is deprecated; in a future version of numpy, it will be understood as (type, (1,)) / '(1,)type'.\n",
      "  _np_qint16 = np.dtype([(\"qint16\", np.int16, 1)])\n",
      "/Users/jmwanat/anaconda3/envs/tf/lib/python3.7/site-packages/tensorflow/python/framework/dtypes.py:529: FutureWarning: Passing (type, 1) or '1type' as a synonym of type is deprecated; in a future version of numpy, it will be understood as (type, (1,)) / '(1,)type'.\n",
      "  _np_quint16 = np.dtype([(\"quint16\", np.uint16, 1)])\n",
      "/Users/jmwanat/anaconda3/envs/tf/lib/python3.7/site-packages/tensorflow/python/framework/dtypes.py:530: FutureWarning: Passing (type, 1) or '1type' as a synonym of type is deprecated; in a future version of numpy, it will be understood as (type, (1,)) / '(1,)type'.\n",
      "  _np_qint32 = np.dtype([(\"qint32\", np.int32, 1)])\n",
      "/Users/jmwanat/anaconda3/envs/tf/lib/python3.7/site-packages/tensorflow/python/framework/dtypes.py:535: FutureWarning: Passing (type, 1) or '1type' as a synonym of type is deprecated; in a future version of numpy, it will be understood as (type, (1,)) / '(1,)type'.\n",
      "  np_resource = np.dtype([(\"resource\", np.ubyte, 1)])\n",
      "Using TensorFlow backend.\n"
     ]
    }
   ],
   "source": [
    "# import libraries\n",
    "import tensorflow as tf\n",
    "#import numpy as np\n",
    "import keras\n",
    "import time\n",
    "import pandas as pd\n",
    "\n",
    "from keras.models import Sequential\n",
    "from keras.layers import Dense, Activation\n",
    "from tensorflow.python.keras.callbacks import TensorBoard\n",
    "import time\n",
    "import matplotlib.pyplot as plt\n",
    "import os\n",
    "from keras.callbacks import CSVLogger\n",
    "\n",
    "\n",
    "#reset graph to remove duplicate nodes\n",
    "tf.reset_default_graph()"
   ]
  },
  {
   "cell_type": "markdown",
   "metadata": {},
   "source": [
    "## Import data set and prepare for analysis"
   ]
  },
  {
   "cell_type": "code",
   "execution_count": 2,
   "metadata": {},
   "outputs": [
    {
     "name": "stdout",
     "output_type": "stream",
     "text": [
      "The shape of the X test set is:  (13750, 24)\n",
      "The shape of the X train set is:  (54997, 24)\n",
      "The shape of the Y test set is:  (13750, 2)\n",
      "The shape of the Y train set is:  (54997, 2)\n"
     ]
    }
   ],
   "source": [
    "# initial work with the smaller data set\n",
    "X_test = pd.read_csv('cardio_x_test.csv', sep = ',', encoding = 'unicode_escape')  \n",
    "X_train = pd.read_csv('cardio_x_train.csv', sep = ',', encoding = 'unicode_escape')  \n",
    "y_test = pd.read_csv('cardio_y_test.csv', sep = ',', encoding = 'unicode_escape')  \n",
    "y_train = pd.read_csv('cardio_y_train.csv', sep = ',', encoding = 'unicode_escape')\n",
    "# examine the shape of original input data\n",
    "print('The shape of the X test set is: ', X_test.shape)\n",
    "print('The shape of the X train set is: ',X_train.shape)\n",
    "print('The shape of the Y test set is: ',y_test.shape)\n",
    "print('The shape of the Y train set is: ',y_train.shape)"
   ]
  },
  {
   "cell_type": "code",
   "execution_count": 3,
   "metadata": {},
   "outputs": [],
   "source": [
    "#drop unnecessary columns for model\n",
    "X_train = X_train.drop(['Unnamed: 0', 'id', 'age_days', 'LATITUDE',\n",
    "                 'LONGITUDE','ZIP','FACILITY_NAME','ADDRESS',\n",
    "                 'CITY','STATE','DESCRIPTION','FACILITY_TYPE' ], axis=1)\n",
    "X_test = X_test.drop(['Unnamed: 0', 'id', 'age_days', 'LATITUDE',\n",
    "                 'LONGITUDE','ZIP','FACILITY_NAME','ADDRESS',\n",
    "                 'CITY','STATE','DESCRIPTION','FACILITY_TYPE' ], axis=1)\n",
    "y_train = y_train.drop(['Unnamed: 0'], axis=1)\n",
    "y_test = y_test.drop(['Unnamed: 0'], axis=1)    \n"
   ]
  },
  {
   "cell_type": "code",
   "execution_count": 4,
   "metadata": {},
   "outputs": [],
   "source": [
    "#rename the column in the target train and test sets\n",
    "y_train = y_train.rename(columns={\"x\": \"cardio\"})\n",
    "y_test = y_test.rename(columns={\"x\": \"cardio\"})"
   ]
  },
  {
   "cell_type": "code",
   "execution_count": 5,
   "metadata": {},
   "outputs": [
    {
     "name": "stdout",
     "output_type": "stream",
     "text": [
      "The total number of NaN values in the X test set is:\n",
      " age_years      0\n",
      "gender         0\n",
      "height_cm      0\n",
      "weight_kg      0\n",
      "BMI            0\n",
      "ap_hi          0\n",
      "ap_lo          0\n",
      "cholesterol    0\n",
      "gluc           0\n",
      "smoke          0\n",
      "alcohol        0\n",
      "active         0\n",
      "dtype: int64\n",
      "The total number of NaN values in the X train set is:\n",
      " age_years      0\n",
      "gender         0\n",
      "height_cm      0\n",
      "weight_kg      0\n",
      "BMI            0\n",
      "ap_hi          0\n",
      "ap_lo          0\n",
      "cholesterol    0\n",
      "gluc           0\n",
      "smoke          0\n",
      "alcohol        0\n",
      "active         0\n",
      "dtype: int64\n",
      "The total number of NaN values in the Y test set is:\n",
      " cardio    0\n",
      "dtype: int64\n",
      "The total number of NaN values in the Y train set is:\n",
      " cardio    0\n",
      "dtype: int64\n"
     ]
    }
   ],
   "source": [
    "#total number of NaN values in each column\n",
    "print('The total number of NaN values in the X test set is:\\n', X_test.isnull().sum())\n",
    "print('The total number of NaN values in the X train set is:\\n',X_train.isnull().sum())\n",
    "print('The total number of NaN values in the Y test set is:\\n',y_test.isnull().sum())\n",
    "print('The total number of NaN values in the Y train set is:\\n',y_train.isnull().sum())"
   ]
  },
  {
   "cell_type": "code",
   "execution_count": 6,
   "metadata": {},
   "outputs": [],
   "source": [
    "# mapping function to convert text female/male to integer 1/2\n",
    "convert_to_binary = {'female' : 1, 'male' : 2}\n",
    "\n",
    "# define binary variable for gender\n",
    "X_train['gender'] = X_train['gender'].map(convert_to_binary)\n",
    "X_test['gender'] = X_test['gender'].map(convert_to_binary)"
   ]
  },
  {
   "cell_type": "code",
   "execution_count": 7,
   "metadata": {},
   "outputs": [
    {
     "data": {
      "text/html": [
       "<div>\n",
       "<style scoped>\n",
       "    .dataframe tbody tr th:only-of-type {\n",
       "        vertical-align: middle;\n",
       "    }\n",
       "\n",
       "    .dataframe tbody tr th {\n",
       "        vertical-align: top;\n",
       "    }\n",
       "\n",
       "    .dataframe thead th {\n",
       "        text-align: right;\n",
       "    }\n",
       "</style>\n",
       "<table border=\"1\" class=\"dataframe\">\n",
       "  <thead>\n",
       "    <tr style=\"text-align: right;\">\n",
       "      <th></th>\n",
       "      <th>age_years</th>\n",
       "      <th>gender</th>\n",
       "      <th>height_cm</th>\n",
       "      <th>weight_kg</th>\n",
       "      <th>BMI</th>\n",
       "      <th>ap_hi</th>\n",
       "      <th>ap_lo</th>\n",
       "      <th>cholesterol</th>\n",
       "      <th>gluc</th>\n",
       "      <th>smoke</th>\n",
       "      <th>alcohol</th>\n",
       "      <th>active</th>\n",
       "    </tr>\n",
       "  </thead>\n",
       "  <tbody>\n",
       "    <tr>\n",
       "      <th>0</th>\n",
       "      <td>62</td>\n",
       "      <td>1</td>\n",
       "      <td>160</td>\n",
       "      <td>101.0</td>\n",
       "      <td>39.453125</td>\n",
       "      <td>120</td>\n",
       "      <td>70</td>\n",
       "      <td>1</td>\n",
       "      <td>1</td>\n",
       "      <td>0</td>\n",
       "      <td>0</td>\n",
       "      <td>1</td>\n",
       "    </tr>\n",
       "    <tr>\n",
       "      <th>1</th>\n",
       "      <td>41</td>\n",
       "      <td>2</td>\n",
       "      <td>172</td>\n",
       "      <td>78.0</td>\n",
       "      <td>26.365603</td>\n",
       "      <td>140</td>\n",
       "      <td>80</td>\n",
       "      <td>1</td>\n",
       "      <td>1</td>\n",
       "      <td>0</td>\n",
       "      <td>0</td>\n",
       "      <td>1</td>\n",
       "    </tr>\n",
       "    <tr>\n",
       "      <th>2</th>\n",
       "      <td>57</td>\n",
       "      <td>1</td>\n",
       "      <td>168</td>\n",
       "      <td>80.0</td>\n",
       "      <td>28.344671</td>\n",
       "      <td>140</td>\n",
       "      <td>90</td>\n",
       "      <td>1</td>\n",
       "      <td>1</td>\n",
       "      <td>0</td>\n",
       "      <td>0</td>\n",
       "      <td>1</td>\n",
       "    </tr>\n",
       "    <tr>\n",
       "      <th>3</th>\n",
       "      <td>52</td>\n",
       "      <td>1</td>\n",
       "      <td>161</td>\n",
       "      <td>75.0</td>\n",
       "      <td>28.934069</td>\n",
       "      <td>110</td>\n",
       "      <td>80</td>\n",
       "      <td>2</td>\n",
       "      <td>3</td>\n",
       "      <td>0</td>\n",
       "      <td>0</td>\n",
       "      <td>1</td>\n",
       "    </tr>\n",
       "    <tr>\n",
       "      <th>4</th>\n",
       "      <td>39</td>\n",
       "      <td>1</td>\n",
       "      <td>169</td>\n",
       "      <td>64.0</td>\n",
       "      <td>22.408179</td>\n",
       "      <td>100</td>\n",
       "      <td>70</td>\n",
       "      <td>1</td>\n",
       "      <td>1</td>\n",
       "      <td>0</td>\n",
       "      <td>0</td>\n",
       "      <td>1</td>\n",
       "    </tr>\n",
       "  </tbody>\n",
       "</table>\n",
       "</div>"
      ],
      "text/plain": [
       "   age_years  gender  height_cm  weight_kg        BMI  ap_hi  ap_lo  \\\n",
       "0         62       1        160      101.0  39.453125    120     70   \n",
       "1         41       2        172       78.0  26.365603    140     80   \n",
       "2         57       1        168       80.0  28.344671    140     90   \n",
       "3         52       1        161       75.0  28.934069    110     80   \n",
       "4         39       1        169       64.0  22.408179    100     70   \n",
       "\n",
       "   cholesterol  gluc  smoke  alcohol  active  \n",
       "0            1     1      0        0       1  \n",
       "1            1     1      0        0       1  \n",
       "2            1     1      0        0       1  \n",
       "3            2     3      0        0       1  \n",
       "4            1     1      0        0       1  "
      ]
     },
     "execution_count": 7,
     "metadata": {},
     "output_type": "execute_result"
    }
   ],
   "source": [
    "X_train.head()"
   ]
  },
  {
   "cell_type": "code",
   "execution_count": 8,
   "metadata": {},
   "outputs": [
    {
     "data": {
      "text/html": [
       "<div>\n",
       "<style scoped>\n",
       "    .dataframe tbody tr th:only-of-type {\n",
       "        vertical-align: middle;\n",
       "    }\n",
       "\n",
       "    .dataframe tbody tr th {\n",
       "        vertical-align: top;\n",
       "    }\n",
       "\n",
       "    .dataframe thead th {\n",
       "        text-align: right;\n",
       "    }\n",
       "</style>\n",
       "<table border=\"1\" class=\"dataframe\">\n",
       "  <thead>\n",
       "    <tr style=\"text-align: right;\">\n",
       "      <th></th>\n",
       "      <th>cardio</th>\n",
       "    </tr>\n",
       "  </thead>\n",
       "  <tbody>\n",
       "    <tr>\n",
       "      <th>0</th>\n",
       "      <td>1</td>\n",
       "    </tr>\n",
       "    <tr>\n",
       "      <th>1</th>\n",
       "      <td>0</td>\n",
       "    </tr>\n",
       "    <tr>\n",
       "      <th>2</th>\n",
       "      <td>1</td>\n",
       "    </tr>\n",
       "    <tr>\n",
       "      <th>3</th>\n",
       "      <td>0</td>\n",
       "    </tr>\n",
       "    <tr>\n",
       "      <th>4</th>\n",
       "      <td>0</td>\n",
       "    </tr>\n",
       "  </tbody>\n",
       "</table>\n",
       "</div>"
      ],
      "text/plain": [
       "   cardio\n",
       "0       1\n",
       "1       0\n",
       "2       1\n",
       "3       0\n",
       "4       0"
      ]
     },
     "execution_count": 8,
     "metadata": {},
     "output_type": "execute_result"
    }
   ],
   "source": [
    "y_train.head()"
   ]
  },
  {
   "cell_type": "markdown",
   "metadata": {},
   "source": [
    "## Run 1: Keras Model with 2 layers and 12 and 1 nodes"
   ]
  },
  {
   "cell_type": "code",
   "execution_count": 9,
   "metadata": {},
   "outputs": [
    {
     "data": {
      "text/plain": [
       "12"
      ]
     },
     "execution_count": 9,
     "metadata": {},
     "output_type": "execute_result"
    }
   ],
   "source": [
    "X_train.shape[1]"
   ]
  },
  {
   "cell_type": "code",
   "execution_count": 10,
   "metadata": {},
   "outputs": [
    {
     "name": "stdout",
     "output_type": "stream",
     "text": [
      "WARNING:tensorflow:From /Users/jmwanat/anaconda3/envs/tf/lib/python3.7/site-packages/tensorflow/python/framework/op_def_library.py:263: colocate_with (from tensorflow.python.framework.ops) is deprecated and will be removed in a future version.\n",
      "Instructions for updating:\n",
      "Colocations handled automatically by placer.\n"
     ]
    }
   ],
   "source": [
    "tf.compat.v1.random.set_random_seed(23)\n",
    "\n",
    "#https://keras.io/getting-started/sequential-model-guide/\n",
    "#Instantiate an estimator\n",
    "model = Sequential()\n",
    "#layer 1 with 12 nodes\n",
    "model.add(Dense(12, input_dim=X_train.shape[1]))  #12 nodes\n",
    "model.add(Activation('relu'))\n",
    "#layer 2 with 1 node\n",
    "model.add(Dense(1))                  #1 nodes\n",
    "model.add(Activation('sigmoid'))"
   ]
  },
  {
   "cell_type": "code",
   "execution_count": 11,
   "metadata": {},
   "outputs": [],
   "source": [
    "#Before training a model, you need to configure \n",
    "#the learning process, which is done via the compile method. \n",
    "\n",
    "model.compile(optimizer='adam',\n",
    "              loss='binary_crossentropy',\n",
    "              metrics=['accuracy'])"
   ]
  },
  {
   "cell_type": "code",
   "execution_count": 12,
   "metadata": {},
   "outputs": [
    {
     "name": "stdout",
     "output_type": "stream",
     "text": [
      "WARNING:tensorflow:From /Users/jmwanat/anaconda3/envs/tf/lib/python3.7/site-packages/tensorflow/python/ops/math_ops.py:3066: to_int32 (from tensorflow.python.ops.math_ops) is deprecated and will be removed in a future version.\n",
      "Instructions for updating:\n",
      "Use tf.cast instead.\n",
      "Epoch 1/10\n",
      "54997/54997 [==============================] - 2s 31us/step - loss: 0.9980 - acc: 0.5717\n",
      "Epoch 2/10\n",
      "54997/54997 [==============================] - 1s 20us/step - loss: 0.6066 - acc: 0.6834\n",
      "Epoch 3/10\n",
      "54997/54997 [==============================] - 1s 22us/step - loss: 0.5840 - acc: 0.7091\n",
      "Epoch 4/10\n",
      "54997/54997 [==============================] - 1s 21us/step - loss: 0.5787 - acc: 0.7143\n",
      "Epoch 5/10\n",
      "54997/54997 [==============================] - 1s 22us/step - loss: 0.5750 - acc: 0.7162\n",
      "Epoch 6/10\n",
      "54997/54997 [==============================] - 1s 20us/step - loss: 0.5740 - acc: 0.7191\n",
      "Epoch 7/10\n",
      "54997/54997 [==============================] - 1s 22us/step - loss: 0.5723 - acc: 0.7202\n",
      "Epoch 8/10\n",
      "54997/54997 [==============================] - 1s 21us/step - loss: 0.5722 - acc: 0.7185\n",
      "Epoch 9/10\n",
      "54997/54997 [==============================] - 1s 22us/step - loss: 0.5720 - acc: 0.7183\n",
      "Epoch 10/10\n",
      "54997/54997 [==============================] - 1s 22us/step - loss: 0.5715 - acc: 0.7198\n",
      "13750/13750 [==============================] - 0s 12us/step\n",
      "Total time to train and evaluate model: 12.629\n"
     ]
    }
   ],
   "source": [
    "#https://stackoverflow.com/questions/38445982/how-to-log-keras-loss-output-to-a-file\n",
    "#write model loss and accuracy to csv file\n",
    "csv_logger = CSVLogger('log.csv', append=True, separator=';')\n",
    "#model.fit(X_train, Y_train, callbacks=[csv_logger])\n",
    "\n",
    "t0 = time.time()\n",
    "# Train the model, iterating on the data in batches of 50 samples\n",
    "history = model.fit(X_train, y_train, epochs=10, batch_size=50, callbacks=[csv_logger])\n",
    "# Evaluate the model\n",
    "score = model.evaluate(X_test, y_test, batch_size=50)\n",
    "\n",
    "t1 = time.time()\n",
    "print('Total time to train and evaluate model: {:.3f}'.format(t1-t0))\n",
    "time_keras1 = t1-t0"
   ]
  },
  {
   "cell_type": "code",
   "execution_count": 13,
   "metadata": {},
   "outputs": [
    {
     "data": {
      "text/plain": [
       "[0.569511148929596, 0.7254545482722196]"
      ]
     },
     "execution_count": 13,
     "metadata": {},
     "output_type": "execute_result"
    }
   ],
   "source": [
    "score"
   ]
  },
  {
   "cell_type": "code",
   "execution_count": 14,
   "metadata": {},
   "outputs": [
    {
     "name": "stdout",
     "output_type": "stream",
     "text": [
      "['loss', 'acc']\n"
     ]
    }
   ],
   "source": [
    "print(model.metrics_names)"
   ]
  },
  {
   "cell_type": "code",
   "execution_count": 15,
   "metadata": {},
   "outputs": [
    {
     "name": "stdout",
     "output_type": "stream",
     "text": [
      "Test loss: 0.569511148929596\n",
      "Test accuracy: 0.7254545482722196\n"
     ]
    }
   ],
   "source": [
    "keras_test_loss, keras_test_accuracy = score\n",
    "print('Test loss: {}'.format(keras_test_loss))\n",
    "print('Test accuracy: {}'.format(keras_test_accuracy))"
   ]
  },
  {
   "cell_type": "markdown",
   "metadata": {},
   "source": [
    "## Run 2: Keras Model with 2 layers and 12 and 1 nodes"
   ]
  },
  {
   "cell_type": "code",
   "execution_count": 16,
   "metadata": {},
   "outputs": [],
   "source": [
    "# Clean up the TF session\n",
    "keras.backend.clear_session()\n",
    "#reset graph to remove duplicate nodes\n",
    "tf.reset_default_graph()\n",
    "\n",
    "tf.compat.v1.random.set_random_seed(123)\n",
    "\n",
    "\n",
    "model2 = Sequential()\n",
    "model2.add(Dense(12, input_dim=X_train.shape[1]))  #12 nodes\n",
    "model2.add(Activation('relu'))\n",
    "model2.add(Dense(1))                  #1 nodes\n",
    "model2.add(Activation('sigmoid'))\n"
   ]
  },
  {
   "cell_type": "code",
   "execution_count": 17,
   "metadata": {},
   "outputs": [],
   "source": [
    "#Before training a model, you need to configure \n",
    "#the learning process, which is done via the compile method. \n",
    "\n",
    "model2.compile(optimizer='adam',\n",
    "              loss='binary_crossentropy',\n",
    "              metrics=['accuracy'])"
   ]
  },
  {
   "cell_type": "code",
   "execution_count": 18,
   "metadata": {},
   "outputs": [
    {
     "name": "stdout",
     "output_type": "stream",
     "text": [
      "Epoch 1/10\n",
      "54997/54997 [==============================] - 2s 32us/step - loss: 1.0086 - acc: 0.6023\n",
      "Epoch 2/10\n",
      "54997/54997 [==============================] - 1s 23us/step - loss: 0.5947 - acc: 0.7044\n",
      "Epoch 3/10\n",
      "54997/54997 [==============================] - 1s 21us/step - loss: 0.5852 - acc: 0.7105\n",
      "Epoch 4/10\n",
      "54997/54997 [==============================] - 1s 22us/step - loss: 0.5852 - acc: 0.7083\n",
      "Epoch 5/10\n",
      "54997/54997 [==============================] - 1s 21us/step - loss: 0.5823 - acc: 0.7086\n",
      "Epoch 6/10\n",
      "54997/54997 [==============================] - 1s 21us/step - loss: 0.5854 - acc: 0.7077\n",
      "Epoch 7/10\n",
      "54997/54997 [==============================] - 1s 20us/step - loss: 0.5778 - acc: 0.7125\n",
      "Epoch 8/10\n",
      "54997/54997 [==============================] - 1s 21us/step - loss: 0.5804 - acc: 0.7119\n",
      "Epoch 9/10\n",
      "54997/54997 [==============================] - 1s 20us/step - loss: 0.5791 - acc: 0.7121\n",
      "Epoch 10/10\n",
      "54997/54997 [==============================] - 1s 20us/step - loss: 0.5773 - acc: 0.7124\n",
      "13750/13750 [==============================] - 0s 12us/step\n",
      "Total time to train and evaluate model: 12.490\n"
     ]
    }
   ],
   "source": [
    "#https://stackoverflow.com/questions/38445982/how-to-log-keras-loss-output-to-a-file\n",
    "#write model loss and accuracy to csv file\n",
    "csv_logger = CSVLogger('log2.csv', append=True, separator=';')\n",
    "#model.fit(X_train, Y_train, callbacks=[csv_logger])\n",
    "\n",
    "t0 = time.time()\n",
    "# Train the model, iterating on the data in batches of 50 samples\n",
    "history2 = model2.fit(X_train, y_train, epochs=10, batch_size=50, callbacks=[csv_logger])\n",
    "# Evaluate the model\n",
    "score2 = model2.evaluate(X_test, y_test, batch_size=50)\n",
    "\n",
    "t1 = time.time()\n",
    "print('Total time to train and evaluate model: {:.3f}'.format(t1-t0))\n",
    "time_keras2 = t1-t0"
   ]
  },
  {
   "cell_type": "code",
   "execution_count": 19,
   "metadata": {},
   "outputs": [
    {
     "name": "stdout",
     "output_type": "stream",
     "text": [
      "Test loss: 0.563597826090726\n",
      "Test accuracy: 0.7281454569643194\n"
     ]
    }
   ],
   "source": [
    "keras_test_loss2, keras_test_accuracy2 = score2\n",
    "print('Test loss: {}'.format(keras_test_loss2))\n",
    "print('Test accuracy: {}'.format(keras_test_accuracy2))"
   ]
  },
  {
   "cell_type": "markdown",
   "metadata": {},
   "source": [
    "## Run 3: Keras Model with 2 layers and 12 and 1 nodes"
   ]
  },
  {
   "cell_type": "code",
   "execution_count": 20,
   "metadata": {},
   "outputs": [],
   "source": [
    "# Clean up the TF session\n",
    "keras.backend.clear_session()\n",
    "#reset graph to remove duplicate nodes\n",
    "tf.reset_default_graph()\n",
    "\n",
    "tf.compat.v1.random.set_random_seed(42)\n",
    "\n",
    "\n",
    "model3 = Sequential()\n",
    "model3.add(Dense(12, input_dim=X_train.shape[1]))  #12 nodes\n",
    "model3.add(Activation('relu'))\n",
    "model3.add(Dense(1))                  #1 nodes\n",
    "model3.add(Activation('sigmoid'))\n"
   ]
  },
  {
   "cell_type": "code",
   "execution_count": 21,
   "metadata": {},
   "outputs": [],
   "source": [
    "#Before training a model, you need to configure \n",
    "#the learning process, which is done via the compile method. \n",
    "\n",
    "model3.compile(optimizer='adam',\n",
    "              loss='binary_crossentropy',\n",
    "              metrics=['accuracy'])"
   ]
  },
  {
   "cell_type": "code",
   "execution_count": 22,
   "metadata": {},
   "outputs": [
    {
     "name": "stdout",
     "output_type": "stream",
     "text": [
      "Epoch 1/10\n",
      "54997/54997 [==============================] - 2s 31us/step - loss: 1.3140 - acc: 0.6089\n",
      "Epoch 2/10\n",
      "54997/54997 [==============================] - 1s 22us/step - loss: 0.6180 - acc: 0.6837\n",
      "Epoch 3/10\n",
      "54997/54997 [==============================] - 1s 23us/step - loss: 0.5858 - acc: 0.7059\n",
      "Epoch 4/10\n",
      "54997/54997 [==============================] - 1s 21us/step - loss: 0.5780 - acc: 0.7117\n",
      "Epoch 5/10\n",
      "54997/54997 [==============================] - 1s 20us/step - loss: 0.5725 - acc: 0.7154\n",
      "Epoch 6/10\n",
      "54997/54997 [==============================] - 1s 22us/step - loss: 0.5736 - acc: 0.7151\n",
      "Epoch 7/10\n",
      "54997/54997 [==============================] - 1s 20us/step - loss: 0.5733 - acc: 0.7154\n",
      "Epoch 8/10\n",
      "54997/54997 [==============================] - 1s 20us/step - loss: 0.5721 - acc: 0.7164\n",
      "Epoch 9/10\n",
      "54997/54997 [==============================] - 1s 20us/step - loss: 0.5731 - acc: 0.7146\n",
      "Epoch 10/10\n",
      "54997/54997 [==============================] - 1s 20us/step - loss: 0.5720 - acc: 0.7166\n",
      "13750/13750 [==============================] - 0s 13us/step\n",
      "Total time to train and evaluate model: 12.484\n"
     ]
    }
   ],
   "source": [
    "#https://stackoverflow.com/questions/38445982/how-to-log-keras-loss-output-to-a-file\n",
    "#write model loss and accuracy to csv file\n",
    "csv_logger = CSVLogger('log3.csv', append=True, separator=';')\n",
    "#model.fit(X_train, Y_train, callbacks=[csv_logger])\n",
    "\n",
    "t0 = time.time()\n",
    "# Train the model, iterating on the data in batches of 50 samples\n",
    "history3 = model3.fit(X_train, y_train, epochs=10, batch_size=50, callbacks=[csv_logger])\n",
    "# Evaluate the model\n",
    "score3 = model3.evaluate(X_test, y_test, batch_size=50)\n",
    "\n",
    "t1 = time.time()\n",
    "print('Total time to train and evaluate model: {:.3f}'.format(t1-t0))\n",
    "time_keras3 = t1-t0"
   ]
  },
  {
   "cell_type": "code",
   "execution_count": 23,
   "metadata": {},
   "outputs": [
    {
     "name": "stdout",
     "output_type": "stream",
     "text": [
      "Test loss: 0.5733089323477312\n",
      "Test accuracy: 0.7146181854334744\n"
     ]
    }
   ],
   "source": [
    "keras_test_loss3, keras_test_accuracy3 = score3\n",
    "print('Test loss: {}'.format(keras_test_loss3))\n",
    "print('Test accuracy: {}'.format(keras_test_accuracy3))"
   ]
  },
  {
   "cell_type": "markdown",
   "metadata": {},
   "source": [
    "## Model summary"
   ]
  },
  {
   "cell_type": "code",
   "execution_count": 24,
   "metadata": {},
   "outputs": [
    {
     "data": {
      "text/html": [
       "<div>\n",
       "<style scoped>\n",
       "    .dataframe tbody tr th:only-of-type {\n",
       "        vertical-align: middle;\n",
       "    }\n",
       "\n",
       "    .dataframe tbody tr th {\n",
       "        vertical-align: top;\n",
       "    }\n",
       "\n",
       "    .dataframe thead th {\n",
       "        text-align: right;\n",
       "    }\n",
       "</style>\n",
       "<table border=\"1\" class=\"dataframe\">\n",
       "  <thead>\n",
       "    <tr style=\"text-align: right;\">\n",
       "      <th></th>\n",
       "      <th>Processing Time</th>\n",
       "      <th>Test Loss</th>\n",
       "      <th>Test Accruacy</th>\n",
       "    </tr>\n",
       "  </thead>\n",
       "  <tbody>\n",
       "    <tr>\n",
       "      <th>0</th>\n",
       "      <td>12.629</td>\n",
       "      <td>0.570</td>\n",
       "      <td>0.725</td>\n",
       "    </tr>\n",
       "    <tr>\n",
       "      <th>1</th>\n",
       "      <td>12.490</td>\n",
       "      <td>0.564</td>\n",
       "      <td>0.728</td>\n",
       "    </tr>\n",
       "    <tr>\n",
       "      <th>2</th>\n",
       "      <td>12.484</td>\n",
       "      <td>0.573</td>\n",
       "      <td>0.715</td>\n",
       "    </tr>\n",
       "  </tbody>\n",
       "</table>\n",
       "</div>"
      ],
      "text/plain": [
       "   Processing Time  Test Loss  Test Accruacy\n",
       "0           12.629      0.570          0.725\n",
       "1           12.490      0.564          0.728\n",
       "2           12.484      0.573          0.715"
      ]
     },
     "execution_count": 24,
     "metadata": {},
     "output_type": "execute_result"
    }
   ],
   "source": [
    "keras_summary_models = {\n",
    "    'Processing Time' : [round(time_keras1, 3), round(time_keras2,3), round(time_keras3,3)],\n",
    "    'Test Loss' : [round(keras_test_loss, 3), round(keras_test_loss2, 3), round(keras_test_loss3, 3)],\n",
    "    'Test Accruacy' : [round(keras_test_accuracy, 3), round(keras_test_accuracy2, 3), round(keras_test_accuracy3, 3)]\n",
    "}\n",
    "\n",
    "keras_summary_models_df = pd.DataFrame(keras_summary_models)\n",
    "keras_summary_models_df"
   ]
  },
  {
   "cell_type": "code",
   "execution_count": null,
   "metadata": {},
   "outputs": [],
   "source": []
  }
 ],
 "metadata": {
  "kernelspec": {
   "display_name": "Python 3",
   "language": "python",
   "name": "python3"
  },
  "language_info": {
   "codemirror_mode": {
    "name": "ipython",
    "version": 3
   },
   "file_extension": ".py",
   "mimetype": "text/x-python",
   "name": "python",
   "nbconvert_exporter": "python",
   "pygments_lexer": "ipython3",
   "version": "3.7.6"
  }
 },
 "nbformat": 4,
 "nbformat_minor": 4
}
