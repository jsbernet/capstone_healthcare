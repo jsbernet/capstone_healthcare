{
 "cells": [
  {
   "cell_type": "markdown",
   "metadata": {},
   "source": [
    "## Cardio Gradient Boosting and Random Forests"
   ]
  },
  {
   "cell_type": "code",
   "execution_count": 1,
   "metadata": {},
   "outputs": [],
   "source": [
    "# seed value for random number generators to obtain reproducible results\n",
    "RANDOM_SEED = 1\n",
    "\n",
    "# although we standardize X and y variables on input,\n",
    "# we will fit the intercept term in the models\n",
    "# Expect fitted values to be close to zero\n",
    "SET_FIT_INTERCEPT = True\n",
    "\n",
    "# import base packages into the namespace for this program\n",
    "import numpy as np\n",
    "import pandas as pd\n",
    "\n",
    "# modeling routines from Scikit Learn packages\n",
    "import sklearn.linear_model \n",
    "from sklearn.linear_model import LinearRegression, Ridge, Lasso, ElasticNet\n",
    "from sklearn.metrics import mean_squared_error, r2_score  \n",
    "from math import sqrt  # for root mean-squared error calculation\n",
    "import matplotlib\n",
    "import matplotlib.pyplot as plt  # static plotting\n",
    "import seaborn as sns  # pretty plotting, including heat map\n",
    "from sklearn.model_selection import train_test_split\n",
    "from sklearn.preprocessing import StandardScaler #scale data\n",
    "\n",
    "from sklearn.pipeline import Pipeline\n",
    "from sklearn.ensemble import RandomForestClassifier\n",
    "from sklearn.ensemble import GradientBoostingClassifier\n",
    "from sklearn.model_selection import cross_val_score\n",
    "# specify the k-fold cross-validation design\n",
    "from sklearn.model_selection import KFold\n",
    "\n",
    "from sklearn import metrics\n",
    "from sklearn.metrics import classification_report\n",
    "from sklearn.metrics import roc_curve\n",
    "from sklearn.preprocessing import binarize\n",
    "from sklearn.metrics import precision_recall_curve"
   ]
  },
  {
   "cell_type": "markdown",
   "metadata": {},
   "source": [
    "## Defined functions"
   ]
  },
  {
   "cell_type": "code",
   "execution_count": 2,
   "metadata": {},
   "outputs": [],
   "source": [
    "# define a function to return model metrics for evaluation\n",
    "\n",
    "def model_metrics(y_known, y_pred):\n",
    "    y_test = y_known\n",
    "    y_pred_class = y_pred\n",
    "    confusion = metrics.confusion_matrix(y_test, y_pred_class)\n",
    "    TP = confusion[1, 1]\n",
    "    TN = confusion[0, 0]\n",
    "    FP = confusion[0, 1]\n",
    "    FN = confusion[1, 0]\n",
    "    accuracy = metrics.accuracy_score(y_test, y_pred_class)\n",
    "    class_error = 1 - metrics.accuracy_score(y_test, y_pred_class)\n",
    "    sensitivity = metrics.recall_score(y_test, y_pred_class)\n",
    "    specificity = TN / (TN + FP)\n",
    "    false_positive_rate = FP / float(TN + FP)\n",
    "    precision = TP / float(TP + FP)\n",
    "    f1_score = metrics.f1_score(y_test, y_pred_class)\n",
    "#    F1 = 2*precision*sensitivity/(precision + sensitivity)\n",
    "    print('The model metrics are:',\n",
    "         '\\naccuracy:', accuracy,\n",
    "         '\\nclassification error:', class_error,\n",
    "         '\\nsensitivity:', sensitivity,\n",
    "         '\\nspecificity:', specificity,\n",
    "         '\\nfalse positive rate:', false_positive_rate,\n",
    "         '\\nprecision:', precision,\n",
    "          '\\nF1 score:', f1_score,\n",
    "#          '\\nF1 by hand:', F1,\n",
    "         '\\nconfusion matrix:')\n",
    "    return(confusion)\n"
   ]
  },
  {
   "cell_type": "code",
   "execution_count": 3,
   "metadata": {},
   "outputs": [],
   "source": [
    "# define a function that accepts a threshold and \n",
    "# prints sensitivity and specificity\n",
    "\n",
    "def evaluate_threshold(threshold):\n",
    "    print('Sensitivity:', tpr[thresholds > threshold][-1])\n",
    "    print('Specificity:', 1 - fpr[thresholds > threshold][-1])"
   ]
  },
  {
   "cell_type": "code",
   "execution_count": 4,
   "metadata": {},
   "outputs": [],
   "source": [
    "# define a function that accepts the fpr and tpr values \n",
    "# from the roc_curve function and plot the ROC curve\n",
    "\n",
    "def plot_roc_curve(fpr, tpr, label=None):\n",
    "    plt.plot(fpr, tpr, linewidth=2, label=label)\n",
    "    plt.plot([0, 1], [0, 1], 'k--')\n",
    "    plt.axis([0, 1, 0, 1])\n",
    "    plt.xlabel('False Positive Rate')\n",
    "    plt.ylabel('True Positive Rate')\n",
    "    plt.title('ROC curve for response')\n"
   ]
  },
  {
   "cell_type": "code",
   "execution_count": 5,
   "metadata": {},
   "outputs": [],
   "source": [
    "# define a function that accepts the recall and precision values \n",
    "# from the precision_recall_curve function and plot the PR curve\n",
    "\n",
    "def plot_pr_curve(recall, precision, label=None):\n",
    "    plt.plot(recall, precision, linewidth=2, label=label)\n",
    "#    plt.plot([0, 1], [0, 1], 'k--')\n",
    "    plt.axis([0, 1, 0, 1])\n",
    "    plt.xlabel('Recall')\n",
    "    plt.ylabel('Precision')\n",
    "    plt.title('PR curve for response')"
   ]
  },
  {
   "cell_type": "markdown",
   "metadata": {},
   "source": [
    "## Import data set and prepare for analysis"
   ]
  },
  {
   "cell_type": "markdown",
   "metadata": {},
   "source": [
    "### This uses the data prepared by Erin, but I don't know how to scale this"
   ]
  },
  {
   "cell_type": "code",
   "execution_count": 6,
   "metadata": {},
   "outputs": [
    {
     "name": "stdout",
     "output_type": "stream",
     "text": [
      "The shape of the X test set is:  (13750, 24)\n",
      "The shape of the X train set is:  (54997, 24)\n",
      "The shape of the Y test set is:  (13750, 2)\n",
      "The shape of the Y train set is:  (54997, 2)\n"
     ]
    }
   ],
   "source": [
    "# initial work with the smaller data set\n",
    "X_test = pd.read_csv('cardio_x_test.csv', sep = ',', encoding = 'unicode_escape')  \n",
    "X_train = pd.read_csv('cardio_x_train.csv', sep = ',', encoding = 'unicode_escape')  \n",
    "y_test = pd.read_csv('cardio_y_test.csv', sep = ',', encoding = 'unicode_escape')  \n",
    "y_train = pd.read_csv('cardio_y_train.csv', sep = ',', encoding = 'unicode_escape')\n",
    "# examine the shape of original input data\n",
    "print('The shape of the X test set is: ', X_test.shape)\n",
    "print('The shape of the X train set is: ',X_train.shape)\n",
    "print('The shape of the Y test set is: ',y_test.shape)\n",
    "print('The shape of the Y train set is: ',y_train.shape)"
   ]
  },
  {
   "cell_type": "code",
   "execution_count": 7,
   "metadata": {},
   "outputs": [],
   "source": [
    "#drop unnecessary columns for model\n",
    "X_train = X_train.drop(['Unnamed: 0', 'id', 'age_days', 'LATITUDE',\n",
    "                 'LONGITUDE','ZIP','FACILITY_NAME','ADDRESS',\n",
    "                 'CITY','STATE','DESCRIPTION','FACILITY_TYPE' ], axis=1)\n",
    "X_test = X_test.drop(['Unnamed: 0', 'id', 'age_days', 'LATITUDE',\n",
    "                 'LONGITUDE','ZIP','FACILITY_NAME','ADDRESS',\n",
    "                 'CITY','STATE','DESCRIPTION','FACILITY_TYPE' ], axis=1)\n",
    "y_train = y_train.drop(['Unnamed: 0'], axis=1)\n",
    "y_test = y_test.drop(['Unnamed: 0'], axis=1)    \n"
   ]
  },
  {
   "cell_type": "code",
   "execution_count": 8,
   "metadata": {},
   "outputs": [],
   "source": [
    "#rename the column in the target train and test sets\n",
    "y_train = y_train.rename(columns={\"x\": \"cardio\"})\n",
    "y_test = y_test.rename(columns={\"x\": \"cardio\"})"
   ]
  },
  {
   "cell_type": "code",
   "execution_count": 9,
   "metadata": {},
   "outputs": [
    {
     "name": "stdout",
     "output_type": "stream",
     "text": [
      "The total number of NaN values in the X test set is:\n",
      " age_years      0\n",
      "gender         0\n",
      "height_cm      0\n",
      "weight_kg      0\n",
      "BMI            0\n",
      "ap_hi          0\n",
      "ap_lo          0\n",
      "cholesterol    0\n",
      "gluc           0\n",
      "smoke          0\n",
      "alcohol        0\n",
      "active         0\n",
      "dtype: int64\n",
      "The total number of NaN values in the X train set is:\n",
      " age_years      0\n",
      "gender         0\n",
      "height_cm      0\n",
      "weight_kg      0\n",
      "BMI            0\n",
      "ap_hi          0\n",
      "ap_lo          0\n",
      "cholesterol    0\n",
      "gluc           0\n",
      "smoke          0\n",
      "alcohol        0\n",
      "active         0\n",
      "dtype: int64\n",
      "The total number of NaN values in the Y test set is:\n",
      " cardio    0\n",
      "dtype: int64\n",
      "The total number of NaN values in the Y train set is:\n",
      " cardio    0\n",
      "dtype: int64\n"
     ]
    }
   ],
   "source": [
    "#total number of NaN values in each column\n",
    "print('The total number of NaN values in the X test set is:\\n', X_test.isnull().sum())\n",
    "print('The total number of NaN values in the X train set is:\\n',X_train.isnull().sum())\n",
    "print('The total number of NaN values in the Y test set is:\\n',y_test.isnull().sum())\n",
    "print('The total number of NaN values in the Y train set is:\\n',y_train.isnull().sum())\n"
   ]
  },
  {
   "cell_type": "code",
   "execution_count": 10,
   "metadata": {},
   "outputs": [],
   "source": [
    "# mapping function to convert text female/male to integer 1/2\n",
    "convert_to_binary = {'female' : 1, 'male' : 2}\n",
    "\n",
    "# define binary variable for gender\n",
    "X_train['gender'] = X_train['gender'].map(convert_to_binary)\n",
    "X_test['gender'] = X_test['gender'].map(convert_to_binary)"
   ]
  },
  {
   "cell_type": "code",
   "execution_count": 11,
   "metadata": {},
   "outputs": [
    {
     "data": {
      "text/html": [
       "<div>\n",
       "<style scoped>\n",
       "    .dataframe tbody tr th:only-of-type {\n",
       "        vertical-align: middle;\n",
       "    }\n",
       "\n",
       "    .dataframe tbody tr th {\n",
       "        vertical-align: top;\n",
       "    }\n",
       "\n",
       "    .dataframe thead th {\n",
       "        text-align: right;\n",
       "    }\n",
       "</style>\n",
       "<table border=\"1\" class=\"dataframe\">\n",
       "  <thead>\n",
       "    <tr style=\"text-align: right;\">\n",
       "      <th></th>\n",
       "      <th>age_years</th>\n",
       "      <th>gender</th>\n",
       "      <th>height_cm</th>\n",
       "      <th>weight_kg</th>\n",
       "      <th>BMI</th>\n",
       "      <th>ap_hi</th>\n",
       "      <th>ap_lo</th>\n",
       "      <th>cholesterol</th>\n",
       "      <th>gluc</th>\n",
       "      <th>smoke</th>\n",
       "      <th>alcohol</th>\n",
       "      <th>active</th>\n",
       "    </tr>\n",
       "  </thead>\n",
       "  <tbody>\n",
       "    <tr>\n",
       "      <th>0</th>\n",
       "      <td>62</td>\n",
       "      <td>1</td>\n",
       "      <td>160</td>\n",
       "      <td>101.0</td>\n",
       "      <td>39.453125</td>\n",
       "      <td>120</td>\n",
       "      <td>70</td>\n",
       "      <td>1</td>\n",
       "      <td>1</td>\n",
       "      <td>0</td>\n",
       "      <td>0</td>\n",
       "      <td>1</td>\n",
       "    </tr>\n",
       "    <tr>\n",
       "      <th>1</th>\n",
       "      <td>41</td>\n",
       "      <td>2</td>\n",
       "      <td>172</td>\n",
       "      <td>78.0</td>\n",
       "      <td>26.365603</td>\n",
       "      <td>140</td>\n",
       "      <td>80</td>\n",
       "      <td>1</td>\n",
       "      <td>1</td>\n",
       "      <td>0</td>\n",
       "      <td>0</td>\n",
       "      <td>1</td>\n",
       "    </tr>\n",
       "    <tr>\n",
       "      <th>2</th>\n",
       "      <td>57</td>\n",
       "      <td>1</td>\n",
       "      <td>168</td>\n",
       "      <td>80.0</td>\n",
       "      <td>28.344671</td>\n",
       "      <td>140</td>\n",
       "      <td>90</td>\n",
       "      <td>1</td>\n",
       "      <td>1</td>\n",
       "      <td>0</td>\n",
       "      <td>0</td>\n",
       "      <td>1</td>\n",
       "    </tr>\n",
       "    <tr>\n",
       "      <th>3</th>\n",
       "      <td>52</td>\n",
       "      <td>1</td>\n",
       "      <td>161</td>\n",
       "      <td>75.0</td>\n",
       "      <td>28.934069</td>\n",
       "      <td>110</td>\n",
       "      <td>80</td>\n",
       "      <td>2</td>\n",
       "      <td>3</td>\n",
       "      <td>0</td>\n",
       "      <td>0</td>\n",
       "      <td>1</td>\n",
       "    </tr>\n",
       "    <tr>\n",
       "      <th>4</th>\n",
       "      <td>39</td>\n",
       "      <td>1</td>\n",
       "      <td>169</td>\n",
       "      <td>64.0</td>\n",
       "      <td>22.408179</td>\n",
       "      <td>100</td>\n",
       "      <td>70</td>\n",
       "      <td>1</td>\n",
       "      <td>1</td>\n",
       "      <td>0</td>\n",
       "      <td>0</td>\n",
       "      <td>1</td>\n",
       "    </tr>\n",
       "  </tbody>\n",
       "</table>\n",
       "</div>"
      ],
      "text/plain": [
       "   age_years  gender  height_cm  weight_kg        BMI  ap_hi  ap_lo  \\\n",
       "0         62       1        160      101.0  39.453125    120     70   \n",
       "1         41       2        172       78.0  26.365603    140     80   \n",
       "2         57       1        168       80.0  28.344671    140     90   \n",
       "3         52       1        161       75.0  28.934069    110     80   \n",
       "4         39       1        169       64.0  22.408179    100     70   \n",
       "\n",
       "   cholesterol  gluc  smoke  alcohol  active  \n",
       "0            1     1      0        0       1  \n",
       "1            1     1      0        0       1  \n",
       "2            1     1      0        0       1  \n",
       "3            2     3      0        0       1  \n",
       "4            1     1      0        0       1  "
      ]
     },
     "execution_count": 11,
     "metadata": {},
     "output_type": "execute_result"
    }
   ],
   "source": [
    "X_train.head()"
   ]
  },
  {
   "cell_type": "code",
   "execution_count": 12,
   "metadata": {},
   "outputs": [
    {
     "data": {
      "text/html": [
       "<div>\n",
       "<style scoped>\n",
       "    .dataframe tbody tr th:only-of-type {\n",
       "        vertical-align: middle;\n",
       "    }\n",
       "\n",
       "    .dataframe tbody tr th {\n",
       "        vertical-align: top;\n",
       "    }\n",
       "\n",
       "    .dataframe thead th {\n",
       "        text-align: right;\n",
       "    }\n",
       "</style>\n",
       "<table border=\"1\" class=\"dataframe\">\n",
       "  <thead>\n",
       "    <tr style=\"text-align: right;\">\n",
       "      <th></th>\n",
       "      <th>cardio</th>\n",
       "    </tr>\n",
       "  </thead>\n",
       "  <tbody>\n",
       "    <tr>\n",
       "      <th>0</th>\n",
       "      <td>1</td>\n",
       "    </tr>\n",
       "    <tr>\n",
       "      <th>1</th>\n",
       "      <td>0</td>\n",
       "    </tr>\n",
       "    <tr>\n",
       "      <th>2</th>\n",
       "      <td>1</td>\n",
       "    </tr>\n",
       "    <tr>\n",
       "      <th>3</th>\n",
       "      <td>0</td>\n",
       "    </tr>\n",
       "    <tr>\n",
       "      <th>4</th>\n",
       "      <td>0</td>\n",
       "    </tr>\n",
       "  </tbody>\n",
       "</table>\n",
       "</div>"
      ],
      "text/plain": [
       "   cardio\n",
       "0       1\n",
       "1       0\n",
       "2       1\n",
       "3       0\n",
       "4       0"
      ]
     },
     "execution_count": 12,
     "metadata": {},
     "output_type": "execute_result"
    }
   ],
   "source": [
    "y_train.head()"
   ]
  },
  {
   "cell_type": "markdown",
   "metadata": {},
   "source": [
    "## Pipeline"
   ]
  },
  {
   "cell_type": "markdown",
   "metadata": {},
   "source": [
    "### Use pipeline to evaluate Random Forest and Gradient Boosting Classifiers"
   ]
  },
  {
   "cell_type": "markdown",
   "metadata": {},
   "source": [
    "Basic pipeline.\n",
    "I'm going to use GridSearchCV separately."
   ]
  },
  {
   "cell_type": "code",
   "execution_count": 13,
   "metadata": {},
   "outputs": [],
   "source": [
    "#For Gradient Boosting Regressor:\n",
    "#The learning_rate hyperparameter scales the contribution of each tree. \n",
    "#If you set it to a low value, such as 0.1, you will need more trees in \n",
    "#the ensemble to fit the training set, but the predictions will usually \n",
    "#generalize better. This is a regularization technique called shrinkage. \n",
    "\n",
    "# create a list of classifiers to be used in the pipeline\n",
    "en_classifiers = [RandomForestClassifier(n_estimators=100, max_leaf_nodes=16, n_jobs=-1, bootstrap=True, random_state=RANDOM_SEED),\n",
    "                  GradientBoostingClassifier(n_estimators=100, max_depth=2, learning_rate=1.0, random_state=RANDOM_SEED)]\n"
   ]
  },
  {
   "cell_type": "code",
   "execution_count": 14,
   "metadata": {},
   "outputs": [
    {
     "name": "stdout",
     "output_type": "stream",
     "text": [
      "\n",
      "----------------------------\n",
      "\n",
      "Classifier evaluation for:\n",
      "RandomForestClassifier(bootstrap=True, ccp_alpha=0.0, class_weight=None,\n",
      "                       criterion='gini', max_depth=None, max_features='auto',\n",
      "                       max_leaf_nodes=16, max_samples=None,\n",
      "                       min_impurity_decrease=0.0, min_impurity_split=None,\n",
      "                       min_samples_leaf=1, min_samples_split=2,\n",
      "                       min_weight_fraction_leaf=0.0, n_estimators=100,\n",
      "                       n_jobs=-1, oob_score=False, random_state=1, verbose=0,\n",
      "                       warm_start=False)\n",
      "Model training score: 0.727\n",
      "Model test score: 0.725\n",
      "RMSE mean: 0.523\n",
      "RMSE standard deviation: 0.004\n",
      "\n",
      "----------------------------\n",
      "\n",
      "Classifier evaluation for:\n",
      "GradientBoostingClassifier(ccp_alpha=0.0, criterion='friedman_mse', init=None,\n",
      "                           learning_rate=1.0, loss='deviance', max_depth=2,\n",
      "                           max_features=None, max_leaf_nodes=None,\n",
      "                           min_impurity_decrease=0.0, min_impurity_split=None,\n",
      "                           min_samples_leaf=1, min_samples_split=2,\n",
      "                           min_weight_fraction_leaf=0.0, n_estimators=100,\n",
      "                           n_iter_no_change=None, presort='deprecated',\n",
      "                           random_state=1, subsample=1.0, tol=0.0001,\n",
      "                           validation_fraction=0.1, verbose=0,\n",
      "                           warm_start=False)\n",
      "Model training score: 0.739\n",
      "Model test score: 0.733\n",
      "RMSE mean: 0.519\n",
      "RMSE standard deviation: 0.005\n"
     ]
    }
   ],
   "source": [
    "#loop through each of the classifiers in the list\n",
    "# use pipeline to instantiate the model and fit to training data\n",
    "# score each model on training and test data sets\n",
    "# use cross validation score to calculate RMSE\n",
    "\n",
    "for classifier in en_classifiers:\n",
    "    pipe = Pipeline(steps=[('classifier', classifier)])\n",
    "    pipe.fit(X_train, y_train.values.ravel())\n",
    "    pipe_scores = cross_val_score(pipe, X_train, y_train.values.ravel(),\n",
    "                         scoring=\"neg_mean_squared_error\", cv=10)\n",
    "    pipe_rmse_scores = np.sqrt(-pipe_scores)\n",
    "    print('\\n----------------------------')\n",
    "    print('\\nClassifier evaluation for:')\n",
    "    print(classifier)\n",
    "    print('Model training score: {:.3f}'.format(pipe.score(X_train, y_train)))\n",
    "    print('Model test score: {:.3f}'.format(pipe.score(X_test, y_test)))\n",
    "    print('RMSE mean: {:.3f}'.format(pipe_rmse_scores.mean()))\n",
    "    print('RMSE standard deviation: {:.3f}'.format(pipe_rmse_scores.std()))"
   ]
  },
  {
   "cell_type": "markdown",
   "metadata": {},
   "source": [
    "## Grid Search"
   ]
  },
  {
   "cell_type": "markdown",
   "metadata": {},
   "source": [
    "### Grid Search for Gradient Boosting Classifier"
   ]
  },
  {
   "cell_type": "markdown",
   "metadata": {},
   "source": [
    "This is using train sets instead of the unsplit data"
   ]
  },
  {
   "cell_type": "code",
   "execution_count": 15,
   "metadata": {},
   "outputs": [
    {
     "data": {
      "text/plain": [
       "GridSearchCV(cv=5, error_score=nan,\n",
       "             estimator=GradientBoostingClassifier(ccp_alpha=0.0,\n",
       "                                                  criterion='friedman_mse',\n",
       "                                                  init=None, learning_rate=1.0,\n",
       "                                                  loss='deviance', max_depth=3,\n",
       "                                                  max_features=None,\n",
       "                                                  max_leaf_nodes=None,\n",
       "                                                  min_impurity_decrease=0.0,\n",
       "                                                  min_impurity_split=None,\n",
       "                                                  min_samples_leaf=1,\n",
       "                                                  min_samples_split=2,\n",
       "                                                  min_weight_fraction_leaf=0.0,\n",
       "                                                  n_estimators=100,\n",
       "                                                  n_iter_no_change=None,\n",
       "                                                  presort='deprecated',\n",
       "                                                  random_state=1, subsample=1.0,\n",
       "                                                  tol=0.0001,\n",
       "                                                  validation_fraction=0.1,\n",
       "                                                  verbose=0, warm_start=False),\n",
       "             iid='deprecated', n_jobs=None,\n",
       "             param_grid=[{'max_features': ['auto', 'log2'],\n",
       "                          'max_leaf_nodes': [2, 6, 10, 14, 16, 20]}],\n",
       "             pre_dispatch='2*n_jobs', refit=True, return_train_score=True,\n",
       "             scoring='neg_mean_squared_error', verbose=0)"
      ]
     },
     "execution_count": 15,
     "metadata": {},
     "output_type": "execute_result"
    }
   ],
   "source": [
    "from sklearn.model_selection import GridSearchCV\n",
    "\n",
    "gbc_param_grid = [\n",
    "    {'max_leaf_nodes': [2,6,10,14,16,20], \n",
    "     'max_features': ['auto', 'log2']}]\n",
    "\n",
    "\n",
    "gbc = GradientBoostingClassifier(n_estimators=100, learning_rate=1.0, random_state=RANDOM_SEED)\n",
    "\n",
    "gbc_grid_search = GridSearchCV(gbc, gbc_param_grid, cv=5,\n",
    "                           scoring='neg_mean_squared_error',\n",
    "                           return_train_score=True)\n",
    "\n",
    "gbc_grid_search.fit(X_train, y_train.values.ravel())"
   ]
  },
  {
   "cell_type": "code",
   "execution_count": 16,
   "metadata": {},
   "outputs": [
    {
     "name": "stdout",
     "output_type": "stream",
     "text": [
      "\n",
      "----------------------------\n",
      "The parameters choosen by Grid Search for Gradient Boosting Classifier:\n",
      " \n"
     ]
    },
    {
     "data": {
      "text/plain": [
       "{'max_features': 'auto', 'max_leaf_nodes': 2}"
      ]
     },
     "execution_count": 16,
     "metadata": {},
     "output_type": "execute_result"
    }
   ],
   "source": [
    "print('\\n----------------------------')\n",
    "print('The parameters choosen by Grid Search for Gradient Boosting Classifier:\\n ')\n",
    "gbc_grid_search.best_params_"
   ]
  },
  {
   "cell_type": "code",
   "execution_count": 17,
   "metadata": {},
   "outputs": [
    {
     "name": "stdout",
     "output_type": "stream",
     "text": [
      "Mean RMSE: 0.5182278094477557 {'max_features': 'auto', 'max_leaf_nodes': 2}\n",
      "Mean RMSE: 0.5208875464543294 {'max_features': 'auto', 'max_leaf_nodes': 6}\n",
      "Mean RMSE: 0.5239676852969414 {'max_features': 'auto', 'max_leaf_nodes': 10}\n",
      "Mean RMSE: 0.5239676852969414 {'max_features': 'auto', 'max_leaf_nodes': 14}\n",
      "Mean RMSE: 0.5239676852969414 {'max_features': 'auto', 'max_leaf_nodes': 16}\n",
      "Mean RMSE: 0.5239676852969414 {'max_features': 'auto', 'max_leaf_nodes': 20}\n",
      "Mean RMSE: 0.518368146411356 {'max_features': 'log2', 'max_leaf_nodes': 2}\n",
      "Mean RMSE: 0.5199092495660604 {'max_features': 'log2', 'max_leaf_nodes': 6}\n",
      "Mean RMSE: 0.5227343838535806 {'max_features': 'log2', 'max_leaf_nodes': 10}\n",
      "Mean RMSE: 0.5227343838535806 {'max_features': 'log2', 'max_leaf_nodes': 14}\n",
      "Mean RMSE: 0.5227343838535806 {'max_features': 'log2', 'max_leaf_nodes': 16}\n",
      "Mean RMSE: 0.5227343838535806 {'max_features': 'log2', 'max_leaf_nodes': 20}\n"
     ]
    }
   ],
   "source": [
    "#print the mean RMSE for each model evaluated\n",
    "#the model with the lowest mean RMSE is best\n",
    "\n",
    "gbc_cvres = gbc_grid_search.cv_results_\n",
    "\n",
    "for mean_score, params in zip(gbc_cvres[\"mean_test_score\"], gbc_cvres[\"params\"]):\n",
    "    print('Mean RMSE:', np.sqrt(-mean_score), params)"
   ]
  },
  {
   "cell_type": "code",
   "execution_count": 18,
   "metadata": {},
   "outputs": [
    {
     "data": {
      "text/plain": [
       "GridSearchCV(cv=5, error_score=nan,\n",
       "             estimator=GradientBoostingClassifier(ccp_alpha=0.0,\n",
       "                                                  criterion='friedman_mse',\n",
       "                                                  init=None, learning_rate=0.1,\n",
       "                                                  loss='deviance', max_depth=3,\n",
       "                                                  max_features='auto',\n",
       "                                                  max_leaf_nodes=2,\n",
       "                                                  min_impurity_decrease=0.0,\n",
       "                                                  min_impurity_split=None,\n",
       "                                                  min_samples_leaf=1,\n",
       "                                                  min_samples_split=2,\n",
       "                                                  min_weight_fraction_leaf=0.0,\n",
       "                                                  n_estimators=100,\n",
       "                                                  n_iter_no_ch...ne,\n",
       "                                                  presort='deprecated',\n",
       "                                                  random_state=1, subsample=1.0,\n",
       "                                                  tol=0.0001,\n",
       "                                                  validation_fraction=0.1,\n",
       "                                                  verbose=0, warm_start=False),\n",
       "             iid='deprecated', n_jobs=None,\n",
       "             param_grid=[{'learning_rate': [0.01, 0.1, 1.0, 10],\n",
       "                          'max_depth': [2, 6, 8, 10, 12],\n",
       "                          'n_estimators': [50, 100, 200]}],\n",
       "             pre_dispatch='2*n_jobs', refit=True, return_train_score=True,\n",
       "             scoring='neg_mean_squared_error', verbose=0)"
      ]
     },
     "execution_count": 18,
     "metadata": {},
     "output_type": "execute_result"
    }
   ],
   "source": [
    "#perform grid search again to find optimal max_depth, learning rate and n_estimators\n",
    "#this takes a while\n",
    "gbc_param_grid = [\n",
    "    {'learning_rate': [0.01, 0.1, 1.0, 10], \n",
    "     'n_estimators': [50,100,200],\n",
    "     'max_depth': [2,6,8,10,12]}]\n",
    "\n",
    "\n",
    "gbc = GradientBoostingClassifier(max_leaf_nodes=2, max_features='auto', random_state=RANDOM_SEED)\n",
    "\n",
    "gbc_grid_search = GridSearchCV(gbc, gbc_param_grid, cv=5,\n",
    "                           scoring='neg_mean_squared_error',\n",
    "                           return_train_score=True)\n",
    "\n",
    "gbc_grid_search.fit(X_train, y_train.values.ravel())"
   ]
  },
  {
   "cell_type": "code",
   "execution_count": 19,
   "metadata": {},
   "outputs": [
    {
     "name": "stdout",
     "output_type": "stream",
     "text": [
      "\n",
      "----------------------------\n",
      "The parameters choosen by Grid Search for Gradient Boosting Classifier:\n",
      " \n"
     ]
    },
    {
     "data": {
      "text/plain": [
       "{'learning_rate': 1.0, 'max_depth': 2, 'n_estimators': 100}"
      ]
     },
     "execution_count": 19,
     "metadata": {},
     "output_type": "execute_result"
    }
   ],
   "source": [
    "print('\\n----------------------------')\n",
    "print('The parameters choosen by Grid Search for Gradient Boosting Classifier:\\n ')\n",
    "gbc_grid_search.best_params_"
   ]
  },
  {
   "cell_type": "code",
   "execution_count": 20,
   "metadata": {
    "scrolled": true
   },
   "outputs": [
    {
     "name": "stdout",
     "output_type": "stream",
     "text": [
      "Mean RMSE: 0.5363150869599007 {'learning_rate': 0.01, 'max_depth': 2, 'n_estimators': 50}\n",
      "Mean RMSE: 0.5363150869599007 {'learning_rate': 0.01, 'max_depth': 2, 'n_estimators': 100}\n",
      "Mean RMSE: 0.5363150869599007 {'learning_rate': 0.01, 'max_depth': 2, 'n_estimators': 200}\n",
      "Mean RMSE: 0.5363150869599007 {'learning_rate': 0.01, 'max_depth': 6, 'n_estimators': 50}\n",
      "Mean RMSE: 0.5363150869599007 {'learning_rate': 0.01, 'max_depth': 6, 'n_estimators': 100}\n",
      "Mean RMSE: 0.5363150869599007 {'learning_rate': 0.01, 'max_depth': 6, 'n_estimators': 200}\n",
      "Mean RMSE: 0.5363150869599007 {'learning_rate': 0.01, 'max_depth': 8, 'n_estimators': 50}\n",
      "Mean RMSE: 0.5363150869599007 {'learning_rate': 0.01, 'max_depth': 8, 'n_estimators': 100}\n",
      "Mean RMSE: 0.5363150869599007 {'learning_rate': 0.01, 'max_depth': 8, 'n_estimators': 200}\n",
      "Mean RMSE: 0.5363150869599007 {'learning_rate': 0.01, 'max_depth': 10, 'n_estimators': 50}\n",
      "Mean RMSE: 0.5363150869599007 {'learning_rate': 0.01, 'max_depth': 10, 'n_estimators': 100}\n",
      "Mean RMSE: 0.5363150869599007 {'learning_rate': 0.01, 'max_depth': 10, 'n_estimators': 200}\n",
      "Mean RMSE: 0.5363150869599007 {'learning_rate': 0.01, 'max_depth': 12, 'n_estimators': 50}\n",
      "Mean RMSE: 0.5363150869599007 {'learning_rate': 0.01, 'max_depth': 12, 'n_estimators': 100}\n",
      "Mean RMSE: 0.5363150869599007 {'learning_rate': 0.01, 'max_depth': 12, 'n_estimators': 200}\n",
      "Mean RMSE: 0.5270127146239753 {'learning_rate': 0.1, 'max_depth': 2, 'n_estimators': 50}\n",
      "Mean RMSE: 0.524470682905175 {'learning_rate': 0.1, 'max_depth': 2, 'n_estimators': 100}\n",
      "Mean RMSE: 0.5215503570096481 {'learning_rate': 0.1, 'max_depth': 2, 'n_estimators': 200}\n",
      "Mean RMSE: 0.5270127146239753 {'learning_rate': 0.1, 'max_depth': 6, 'n_estimators': 50}\n",
      "Mean RMSE: 0.524470682905175 {'learning_rate': 0.1, 'max_depth': 6, 'n_estimators': 100}\n",
      "Mean RMSE: 0.5215503570096481 {'learning_rate': 0.1, 'max_depth': 6, 'n_estimators': 200}\n",
      "Mean RMSE: 0.5270127146239753 {'learning_rate': 0.1, 'max_depth': 8, 'n_estimators': 50}\n",
      "Mean RMSE: 0.524470682905175 {'learning_rate': 0.1, 'max_depth': 8, 'n_estimators': 100}\n",
      "Mean RMSE: 0.5215503570096481 {'learning_rate': 0.1, 'max_depth': 8, 'n_estimators': 200}\n",
      "Mean RMSE: 0.5270127146239753 {'learning_rate': 0.1, 'max_depth': 10, 'n_estimators': 50}\n",
      "Mean RMSE: 0.524470682905175 {'learning_rate': 0.1, 'max_depth': 10, 'n_estimators': 100}\n",
      "Mean RMSE: 0.5215503570096481 {'learning_rate': 0.1, 'max_depth': 10, 'n_estimators': 200}\n",
      "Mean RMSE: 0.5270127146239753 {'learning_rate': 0.1, 'max_depth': 12, 'n_estimators': 50}\n",
      "Mean RMSE: 0.524470682905175 {'learning_rate': 0.1, 'max_depth': 12, 'n_estimators': 100}\n",
      "Mean RMSE: 0.5215503570096481 {'learning_rate': 0.1, 'max_depth': 12, 'n_estimators': 200}\n",
      "Mean RMSE: 0.5187538498204153 {'learning_rate': 1.0, 'max_depth': 2, 'n_estimators': 50}\n",
      "Mean RMSE: 0.5182278094477557 {'learning_rate': 1.0, 'max_depth': 2, 'n_estimators': 100}\n",
      "Mean RMSE: 0.5182804448470583 {'learning_rate': 1.0, 'max_depth': 2, 'n_estimators': 200}\n",
      "Mean RMSE: 0.5187538498204153 {'learning_rate': 1.0, 'max_depth': 6, 'n_estimators': 50}\n",
      "Mean RMSE: 0.5182278094477557 {'learning_rate': 1.0, 'max_depth': 6, 'n_estimators': 100}\n",
      "Mean RMSE: 0.5182804448470583 {'learning_rate': 1.0, 'max_depth': 6, 'n_estimators': 200}\n",
      "Mean RMSE: 0.5187538498204153 {'learning_rate': 1.0, 'max_depth': 8, 'n_estimators': 50}\n",
      "Mean RMSE: 0.5182278094477557 {'learning_rate': 1.0, 'max_depth': 8, 'n_estimators': 100}\n",
      "Mean RMSE: 0.5182804448470583 {'learning_rate': 1.0, 'max_depth': 8, 'n_estimators': 200}\n",
      "Mean RMSE: 0.5187538498204153 {'learning_rate': 1.0, 'max_depth': 10, 'n_estimators': 50}\n",
      "Mean RMSE: 0.5182278094477557 {'learning_rate': 1.0, 'max_depth': 10, 'n_estimators': 100}\n",
      "Mean RMSE: 0.5182804448470583 {'learning_rate': 1.0, 'max_depth': 10, 'n_estimators': 200}\n",
      "Mean RMSE: 0.5187538498204153 {'learning_rate': 1.0, 'max_depth': 12, 'n_estimators': 50}\n",
      "Mean RMSE: 0.5182278094477557 {'learning_rate': 1.0, 'max_depth': 12, 'n_estimators': 100}\n",
      "Mean RMSE: 0.5182804448470583 {'learning_rate': 1.0, 'max_depth': 12, 'n_estimators': 200}\n",
      "Mean RMSE: 0.8440178478558342 {'learning_rate': 10, 'max_depth': 2, 'n_estimators': 50}\n",
      "Mean RMSE: 0.8440178478558342 {'learning_rate': 10, 'max_depth': 2, 'n_estimators': 100}\n",
      "Mean RMSE: 0.8440178478558342 {'learning_rate': 10, 'max_depth': 2, 'n_estimators': 200}\n",
      "Mean RMSE: 0.8440178478558342 {'learning_rate': 10, 'max_depth': 6, 'n_estimators': 50}\n",
      "Mean RMSE: 0.8440178478558342 {'learning_rate': 10, 'max_depth': 6, 'n_estimators': 100}\n",
      "Mean RMSE: 0.8440178478558342 {'learning_rate': 10, 'max_depth': 6, 'n_estimators': 200}\n",
      "Mean RMSE: 0.8440178478558342 {'learning_rate': 10, 'max_depth': 8, 'n_estimators': 50}\n",
      "Mean RMSE: 0.8440178478558342 {'learning_rate': 10, 'max_depth': 8, 'n_estimators': 100}\n",
      "Mean RMSE: 0.8440178478558342 {'learning_rate': 10, 'max_depth': 8, 'n_estimators': 200}\n",
      "Mean RMSE: 0.8440178478558342 {'learning_rate': 10, 'max_depth': 10, 'n_estimators': 50}\n",
      "Mean RMSE: 0.8440178478558342 {'learning_rate': 10, 'max_depth': 10, 'n_estimators': 100}\n",
      "Mean RMSE: 0.8440178478558342 {'learning_rate': 10, 'max_depth': 10, 'n_estimators': 200}\n",
      "Mean RMSE: 0.8440178478558342 {'learning_rate': 10, 'max_depth': 12, 'n_estimators': 50}\n",
      "Mean RMSE: 0.8440178478558342 {'learning_rate': 10, 'max_depth': 12, 'n_estimators': 100}\n",
      "Mean RMSE: 0.8440178478558342 {'learning_rate': 10, 'max_depth': 12, 'n_estimators': 200}\n"
     ]
    }
   ],
   "source": [
    "gbc_cvres = gbc_grid_search.cv_results_\n",
    "\n",
    "for mean_score, params in zip(gbc_cvres[\"mean_test_score\"], gbc_cvres[\"params\"]):\n",
    "    print('Mean RMSE:', np.sqrt(-mean_score), params)"
   ]
  },
  {
   "cell_type": "markdown",
   "metadata": {},
   "source": [
    "### Fitting the best GB model based on GridSearchCV results"
   ]
  },
  {
   "cell_type": "code",
   "execution_count": 21,
   "metadata": {},
   "outputs": [
    {
     "name": "stdout",
     "output_type": "stream",
     "text": [
      "\n",
      "----------------------------\n",
      "Gradient Boosting\n",
      "\n",
      "GradientBoostingClassifier(ccp_alpha=0.0, criterion='friedman_mse', init=None,\n",
      "                           learning_rate=1.0, loss='deviance', max_depth=2,\n",
      "                           max_features='auto', max_leaf_nodes=2,\n",
      "                           min_impurity_decrease=0.0, min_impurity_split=None,\n",
      "                           min_samples_leaf=1, min_samples_split=2,\n",
      "                           min_weight_fraction_leaf=0.0, n_estimators=100,\n",
      "                           n_iter_no_change=None, presort='deprecated',\n",
      "                           random_state=1, subsample=1.0, tol=0.0001,\n",
      "                           validation_fraction=0.1, verbose=0,\n",
      "                           warm_start=False)\n"
     ]
    }
   ],
   "source": [
    "#use the information from GridSearch to fit the best GB model\n",
    "# Instantiate model\n",
    "gbc_best = GradientBoostingClassifier(n_estimators=100, max_depth=2, \n",
    "                                        learning_rate=1.0, max_features='auto', \n",
    "                                        max_leaf_nodes=2, random_state=RANDOM_SEED)\n",
    "\n",
    "# Fit the model\n",
    "gbc = gbc_best.fit(X_train, y_train.values.ravel())\n",
    "\n",
    "print('\\n----------------------------')\n",
    "print('Gradient Boosting\\n')\n",
    "print(gbc)\n",
    "#print('intercept:', lr_intercept)\n",
    "#print('coefficients:', lr_coef)"
   ]
  },
  {
   "cell_type": "code",
   "execution_count": 22,
   "metadata": {},
   "outputs": [],
   "source": [
    "# make predictions for the testing set\n",
    "y_predictions_gbc = gbc.predict(X_test)"
   ]
  },
  {
   "cell_type": "code",
   "execution_count": 23,
   "metadata": {},
   "outputs": [],
   "source": [
    "# make predicted probabilities for the predictions\n",
    "y_predict_prob_gbc = gbc.predict_proba(X_test)"
   ]
  },
  {
   "cell_type": "code",
   "execution_count": 24,
   "metadata": {},
   "outputs": [
    {
     "name": "stdout",
     "output_type": "stream",
     "text": [
      "[[5587 1380]\n",
      " [2314 4469]]\n"
     ]
    }
   ],
   "source": [
    "# the first argument is true values, \n",
    "# the second argument is predicted values\n",
    "# this produces a 2x2 numpy array (matrix)\n",
    "\n",
    "confusion_gbc = metrics.confusion_matrix(y_test, y_predictions_gbc)\n",
    "print(confusion_gbc)"
   ]
  },
  {
   "cell_type": "code",
   "execution_count": 25,
   "metadata": {},
   "outputs": [
    {
     "name": "stdout",
     "output_type": "stream",
     "text": [
      "              precision    recall  f1-score   support\n",
      "\n",
      "           0       0.71      0.80      0.75      6967\n",
      "           1       0.76      0.66      0.71      6783\n",
      "\n",
      "    accuracy                           0.73     13750\n",
      "   macro avg       0.74      0.73      0.73     13750\n",
      "weighted avg       0.74      0.73      0.73     13750\n",
      "\n"
     ]
    }
   ],
   "source": [
    "# precision, recall, F1 score, and count of response variable\n",
    "# of gradient boosting classifier\n",
    "\n",
    "print(classification_report(y_test, y_predictions_gbc))"
   ]
  },
  {
   "cell_type": "code",
   "execution_count": 26,
   "metadata": {},
   "outputs": [
    {
     "name": "stdout",
     "output_type": "stream",
     "text": [
      "The model metrics are: \n",
      "accuracy: 0.7313454545454545 \n",
      "classification error: 0.2686545454545455 \n",
      "sensitivity: 0.6588530148901666 \n",
      "specificity: 0.8019233529496196 \n",
      "false positive rate: 0.19807664705038036 \n",
      "precision: 0.764062232860318 \n",
      "F1 score: 0.7075680810639645 \n",
      "confusion matrix:\n"
     ]
    },
    {
     "data": {
      "text/plain": [
       "array([[5587, 1380],\n",
       "       [2314, 4469]])"
      ]
     },
     "execution_count": 26,
     "metadata": {},
     "output_type": "execute_result"
    }
   ],
   "source": [
    "# evaluate gradient boosting classifer\n",
    "\n",
    "\n",
    "model_metrics(y_test, y_predictions_gbc)\n",
    "\n",
    "#y_predictions_gbr is the predicted response value"
   ]
  },
  {
   "cell_type": "code",
   "execution_count": 27,
   "metadata": {},
   "outputs": [
    {
     "name": "stdout",
     "output_type": "stream",
     "text": [
      "Confusion matrix, without normalization\n",
      "[[5587 1380]\n",
      " [2314 4469]]\n",
      "Normalized confusion matrix\n",
      "[[0.8019 0.1981]\n",
      " [0.3411 0.6589]]\n"
     ]
    },
    {
     "data": {
      "image/png": "[encoded data removed]",
      "text/plain": [
       "<Figure size 432x288 with 2 Axes>"
      ]
     },
     "metadata": {
      "needs_background": "light"
     },
     "output_type": "display_data"
    },
    {
     "data": {
      "image/png": "[encoded data removed]",
      "text/plain": [
       "<Figure size 432x288 with 2 Axes>"
      ]
     },
     "metadata": {
      "needs_background": "light"
     },
     "output_type": "display_data"
    }
   ],
   "source": [
    "#https://scikit-learn.org/stable/auto_examples/model_selection/plot_confusion_matrix.html#sphx-glr-auto-examples-model-selection-plot-confusion-matrix-py\n",
    "from sklearn.metrics import plot_confusion_matrix\n",
    "\n",
    "target_names=['0', '1']\n",
    "np.set_printoptions(precision=4)\n",
    "\n",
    "# Plot non-normalized confusion matrix\n",
    "titles_options = [(\"Confusion matrix, without normalization\", None, \"0.0f\"),\n",
    "                  (\"Normalized confusion matrix\", 'true', None)]\n",
    "for title, normalize, values_format in titles_options:\n",
    "    disp = plot_confusion_matrix(gbc_best, X_test, y_test,\n",
    "                                 display_labels=target_names,\n",
    "                                 cmap=plt.cm.Reds,\n",
    "                                 normalize=normalize,\n",
    "                                 values_format=values_format,\n",
    "                                )\n",
    "    disp.ax_.set_title(title)\n",
    "\n",
    "    print(title)\n",
    "    print(disp.confusion_matrix)\n",
    "    #plt.grid(None)\n",
    "    plt.savefig('GradientBoosting {0}.png'.format(title))\n",
    "\n",
    "    \n",
    "plt.show()"
   ]
  },
  {
   "cell_type": "code",
   "execution_count": 28,
   "metadata": {},
   "outputs": [
    {
     "name": "stdout",
     "output_type": "stream",
     "text": [
      "Training set score: 0.73\n",
      "Test set score: 0.73\n"
     ]
    }
   ],
   "source": [
    "print(\"Training set score: {:.2f}\".format(gbc.score(X_train, y_train)))\n",
    "print(\"Test set score: {:.2f}\".format(gbc.score(X_test, y_test)))"
   ]
  },
  {
   "cell_type": "markdown",
   "metadata": {},
   "source": [
    "## ROC Curve"
   ]
  },
  {
   "cell_type": "code",
   "execution_count": 29,
   "metadata": {},
   "outputs": [],
   "source": [
    "# make predicted probabilities for the predictions\n",
    "# gradient boosting classifier\n",
    "# store the predicted probabilities for class 1 of response\n",
    "\n",
    "y_pred_prob_gbc = gbc.predict_proba(X_test)[:, 1]"
   ]
  },
  {
   "cell_type": "code",
   "execution_count": 30,
   "metadata": {},
   "outputs": [],
   "source": [
    "# the first argument is true values, \n",
    "# the second argument is predicted probabilities\n",
    "\n",
    "# pass y_test and y_pred_prob\n",
    "# do not use y_pred_class, because it will \n",
    "# give incorrect results without generating an error\n",
    "# roc_curve returns 3 objects fpr, tpr, thresholds\n",
    "# fpr: false positive rate\n",
    "# tpr: true positive rate\n",
    "\n",
    "fpr, tpr, thresholds = roc_curve(y_test, y_pred_prob_gbc)"
   ]
  },
  {
   "cell_type": "code",
   "execution_count": 31,
   "metadata": {},
   "outputs": [
    {
     "data": {
      "image/png": "[encoded data removed]",
      "text/plain": [
       "<Figure size 432x288 with 1 Axes>"
      ]
     },
     "metadata": {
      "needs_background": "light"
     },
     "output_type": "display_data"
    }
   ],
   "source": [
    "# plot the ROC curve for the gradient boosting classifer\n",
    "    \n",
    "plot_roc_curve(fpr, tpr)\n",
    "plt.savefig('ROC_GBC_plot.pdf')\n",
    "plt.show()"
   ]
  },
  {
   "cell_type": "code",
   "execution_count": 32,
   "metadata": {},
   "outputs": [
    {
     "name": "stdout",
     "output_type": "stream",
     "text": [
      "When the threshold is set to 0.5\n",
      "Sensitivity: 0.6588530148901666\n",
      "Specificity: 0.8022104205540405\n"
     ]
    }
   ],
   "source": [
    "# evaluate the GBC\n",
    "# sensitivity and specificity when the threshold is set to 0.5\n",
    "\n",
    "print('When the threshold is set to 0.5')\n",
    "evaluate_threshold(0.5)"
   ]
  },
  {
   "cell_type": "code",
   "execution_count": 33,
   "metadata": {},
   "outputs": [
    {
     "name": "stdout",
     "output_type": "stream",
     "text": [
      "\n",
      "The AUC is: 0.7955369875054492\n"
     ]
    }
   ],
   "source": [
    "# AUC is the percentage of the ROC plot that is underneath the curve\n",
    "# first argument is true values, second argument is predicted probabilities\n",
    "# AUC for logistic regression, C = 100\n",
    "\n",
    "roc_auc_y_gbc_class1 = metrics.roc_auc_score(y_test, y_pred_prob_gbc)\n",
    "\n",
    "print('\\nThe AUC is:', roc_auc_y_gbc_class1)"
   ]
  },
  {
   "cell_type": "markdown",
   "metadata": {},
   "source": [
    "### Grid Search for Random Forest Classifier"
   ]
  },
  {
   "cell_type": "code",
   "execution_count": 34,
   "metadata": {},
   "outputs": [
    {
     "data": {
      "text/plain": [
       "GridSearchCV(cv=5, error_score=nan,\n",
       "             estimator=RandomForestClassifier(bootstrap=True, ccp_alpha=0.0,\n",
       "                                              class_weight=None,\n",
       "                                              criterion='gini', max_depth=2,\n",
       "                                              max_features='auto',\n",
       "                                              max_leaf_nodes=None,\n",
       "                                              max_samples=None,\n",
       "                                              min_impurity_decrease=0.0,\n",
       "                                              min_impurity_split=None,\n",
       "                                              min_samples_leaf=1,\n",
       "                                              min_samples_split=2,\n",
       "                                              min_weight_fraction_leaf=0.0,\n",
       "                                              n_estimators=100, n_jobs=-1,\n",
       "                                              oob_score=False, random_state=1,\n",
       "                                              verbose=0, warm_start=False),\n",
       "             iid='deprecated', n_jobs=None,\n",
       "             param_grid=[{'max_features': [1, 2, 3, 4, 5, 6, 7, 8, 9, 10,\n",
       "                                           'sqrt', 'log2', 'auto']}],\n",
       "             pre_dispatch='2*n_jobs', refit=True, return_train_score=True,\n",
       "             scoring='neg_mean_squared_error', verbose=0)"
      ]
     },
     "execution_count": 34,
     "metadata": {},
     "output_type": "execute_result"
    }
   ],
   "source": [
    "rf_param_grid = [\n",
    "    {'max_features': [1,2,3,4,5,6,7,8,9,10,'sqrt', 'log2', 'auto']}]\n",
    "\n",
    "\n",
    "rf = RandomForestClassifier(max_depth=2, n_jobs=-1, bootstrap=True, random_state=RANDOM_SEED)\n",
    "\n",
    "rf_grid_search = GridSearchCV(rf, rf_param_grid, cv=5,\n",
    "                           scoring='neg_mean_squared_error',\n",
    "                           return_train_score=True)\n",
    "\n",
    "rf_grid_search.fit(X_train, y_train.values.ravel())"
   ]
  },
  {
   "cell_type": "code",
   "execution_count": 35,
   "metadata": {},
   "outputs": [
    {
     "name": "stdout",
     "output_type": "stream",
     "text": [
      "\n",
      "----------------------------\n",
      "The parameters choosen by Grid Search for Random Forest Classifier:\n",
      " \n"
     ]
    },
    {
     "data": {
      "text/plain": [
       "{'max_features': 3}"
      ]
     },
     "execution_count": 35,
     "metadata": {},
     "output_type": "execute_result"
    }
   ],
   "source": [
    "print('\\n----------------------------')\n",
    "print('The parameters choosen by Grid Search for Random Forest Classifier:\\n ')\n",
    "rf_grid_search.best_params_"
   ]
  },
  {
   "cell_type": "code",
   "execution_count": 36,
   "metadata": {
    "scrolled": true
   },
   "outputs": [
    {
     "name": "stdout",
     "output_type": "stream",
     "text": [
      "Mean RMSE: 0.5348722360101746 {'max_features': 1}\n",
      "Mean RMSE: 0.5336129588385188 {'max_features': 2}\n",
      "Mean RMSE: 0.5273920975118335 {'max_features': 3}\n",
      "Mean RMSE: 0.5359080605429443 {'max_features': 4}\n",
      "Mean RMSE: 0.5337833139071397 {'max_features': 5}\n",
      "Mean RMSE: 0.5301944954856207 {'max_features': 6}\n",
      "Mean RMSE: 0.535568683405132 {'max_features': 7}\n",
      "Mean RMSE: 0.5356196085450761 {'max_features': 8}\n",
      "Mean RMSE: 0.5356026340364243 {'max_features': 9}\n",
      "Mean RMSE: 0.5357893240539858 {'max_features': 10}\n",
      "Mean RMSE: 0.5273920975118335 {'max_features': 'sqrt'}\n",
      "Mean RMSE: 0.5273920975118335 {'max_features': 'log2'}\n",
      "Mean RMSE: 0.5273920975118335 {'max_features': 'auto'}\n"
     ]
    }
   ],
   "source": [
    "#print the mean RMSE for each model evaluated\n",
    "#the model with the lowest mean RMSE is best\n",
    "\n",
    "rf_cvres = rf_grid_search.cv_results_\n",
    "\n",
    "for mean_score, params in zip(rf_cvres[\"mean_test_score\"], rf_cvres[\"params\"]):\n",
    "    print('Mean RMSE:', np.sqrt(-mean_score), params)"
   ]
  },
  {
   "cell_type": "code",
   "execution_count": 37,
   "metadata": {},
   "outputs": [
    {
     "data": {
      "text/plain": [
       "GridSearchCV(cv=5, error_score=nan,\n",
       "             estimator=RandomForestClassifier(bootstrap=True, ccp_alpha=0.0,\n",
       "                                              class_weight=None,\n",
       "                                              criterion='gini', max_depth=2,\n",
       "                                              max_features=3,\n",
       "                                              max_leaf_nodes=None,\n",
       "                                              max_samples=None,\n",
       "                                              min_impurity_decrease=0.0,\n",
       "                                              min_impurity_split=None,\n",
       "                                              min_samples_leaf=1,\n",
       "                                              min_samples_split=2,\n",
       "                                              min_weight_fraction_leaf=0.0,\n",
       "                                              n_estimators=100, n_jobs=-1,\n",
       "                                              oob_score=False, random_state=1,\n",
       "                                              verbose=0, warm_start=False),\n",
       "             iid='deprecated', n_jobs=None,\n",
       "             param_grid=[{'n_estimators': [50, 100, 200, 300]}],\n",
       "             pre_dispatch='2*n_jobs', refit=True, return_train_score=True,\n",
       "             scoring='neg_mean_squared_error', verbose=0)"
      ]
     },
     "execution_count": 37,
     "metadata": {},
     "output_type": "execute_result"
    }
   ],
   "source": [
    "#perform grid search again to find optimal n_estimators\n",
    "rf_param_grid = [\n",
    "    {'n_estimators': [50,100,200,300]}]\n",
    "\n",
    "\n",
    "rf = RandomForestClassifier(max_depth=2, max_features=3, n_jobs=-1, bootstrap=True, random_state=RANDOM_SEED)\n",
    "\n",
    "rf_grid_search = GridSearchCV(rf, rf_param_grid, cv=5,\n",
    "                           scoring='neg_mean_squared_error',\n",
    "                           return_train_score=True)\n",
    "\n",
    "rf_grid_search.fit(X_train, y_train.values.ravel())"
   ]
  },
  {
   "cell_type": "code",
   "execution_count": 38,
   "metadata": {},
   "outputs": [
    {
     "name": "stdout",
     "output_type": "stream",
     "text": [
      "\n",
      "----------------------------\n",
      "The parameters choosen by Grid Search for Random Forest Classifier:\n",
      " \n"
     ]
    },
    {
     "data": {
      "text/plain": [
       "{'n_estimators': 100}"
      ]
     },
     "execution_count": 38,
     "metadata": {},
     "output_type": "execute_result"
    }
   ],
   "source": [
    "print('\\n----------------------------')\n",
    "print('The parameters choosen by Grid Search for Random Forest Classifier:\\n ')\n",
    "rf_grid_search.best_params_"
   ]
  },
  {
   "cell_type": "code",
   "execution_count": 39,
   "metadata": {},
   "outputs": [
    {
     "name": "stdout",
     "output_type": "stream",
     "text": [
      "Mean RMSE: 0.5278056551836593 {'n_estimators': 50}\n",
      "Mean RMSE: 0.5273920975118335 {'n_estimators': 100}\n",
      "Mean RMSE: 0.5296798547215076 {'n_estimators': 200}\n",
      "Mean RMSE: 0.5302973855252754 {'n_estimators': 300}\n"
     ]
    }
   ],
   "source": [
    "#print the mean RMSE for each model evaluated\n",
    "#the model with the lowest mean RMSE is best\n",
    "\n",
    "rf_cvres = rf_grid_search.cv_results_\n",
    "\n",
    "for mean_score, params in zip(rf_cvres[\"mean_test_score\"], rf_cvres[\"params\"]):\n",
    "    print('Mean RMSE:', np.sqrt(-mean_score), params)"
   ]
  },
  {
   "cell_type": "code",
   "execution_count": 40,
   "metadata": {},
   "outputs": [
    {
     "name": "stdout",
     "output_type": "stream",
     "text": [
      "\n",
      "----------------------------\n",
      "Random Forest\n",
      "\n",
      "RandomForestClassifier(bootstrap=True, ccp_alpha=0.0, class_weight=None,\n",
      "                       criterion='gini', max_depth=2, max_features=3,\n",
      "                       max_leaf_nodes=None, max_samples=None,\n",
      "                       min_impurity_decrease=0.0, min_impurity_split=None,\n",
      "                       min_samples_leaf=1, min_samples_split=2,\n",
      "                       min_weight_fraction_leaf=0.0, n_estimators=100,\n",
      "                       n_jobs=-1, oob_score=False, random_state=1, verbose=0,\n",
      "                       warm_start=False)\n"
     ]
    }
   ],
   "source": [
    "#use the information from GridSearch to fit the best RF model\n",
    "# Instantiate model\n",
    "rf_best = RandomForestClassifier(n_estimators=100, max_depth=2, max_features=3, \n",
    "                                 n_jobs=-1, bootstrap=True, random_state=RANDOM_SEED)\n",
    "\n",
    "# Fit the model\n",
    "rf = rf_best.fit(X_train, y_train.values.ravel())\n",
    "\n",
    "print('\\n----------------------------')\n",
    "print('Random Forest\\n')\n",
    "print(rf)\n",
    "#print('intercept:', lr_intercept)\n",
    "#print('coefficients:', lr_coef)"
   ]
  },
  {
   "cell_type": "code",
   "execution_count": 41,
   "metadata": {},
   "outputs": [],
   "source": [
    "# make predictions for the testing set\n",
    "y_predictions_rf = rf.predict(X_test)"
   ]
  },
  {
   "cell_type": "code",
   "execution_count": 42,
   "metadata": {},
   "outputs": [],
   "source": [
    "# make predicted probabilities for the predictions\n",
    "y_predict_prob_rf = rf.predict_proba(X_test)"
   ]
  },
  {
   "cell_type": "code",
   "execution_count": 43,
   "metadata": {},
   "outputs": [
    {
     "name": "stdout",
     "output_type": "stream",
     "text": [
      "[[5547 1420]\n",
      " [2405 4378]]\n"
     ]
    }
   ],
   "source": [
    "# the first argument is true values, \n",
    "# the second argument is predicted values\n",
    "# this produces a 2x2 numpy array (matrix)\n",
    "\n",
    "confusion_rf = metrics.confusion_matrix(y_test, y_predictions_rf)\n",
    "print(confusion_rf)"
   ]
  },
  {
   "cell_type": "code",
   "execution_count": 44,
   "metadata": {},
   "outputs": [
    {
     "name": "stdout",
     "output_type": "stream",
     "text": [
      "              precision    recall  f1-score   support\n",
      "\n",
      "           0       0.70      0.80      0.74      6967\n",
      "           1       0.76      0.65      0.70      6783\n",
      "\n",
      "    accuracy                           0.72     13750\n",
      "   macro avg       0.73      0.72      0.72     13750\n",
      "weighted avg       0.73      0.72      0.72     13750\n",
      "\n"
     ]
    }
   ],
   "source": [
    "# precision, recall, F1 score, and count of response variable\n",
    "# of Random Forest classifier\n",
    "\n",
    "print(classification_report(y_test, y_predictions_rf))"
   ]
  },
  {
   "cell_type": "code",
   "execution_count": 45,
   "metadata": {},
   "outputs": [
    {
     "name": "stdout",
     "output_type": "stream",
     "text": [
      "The model metrics are: \n",
      "accuracy: 0.7218181818181818 \n",
      "classification error: 0.2781818181818182 \n",
      "sensitivity: 0.645437122217308 \n",
      "specificity: 0.7961820008612028 \n",
      "false positive rate: 0.2038179991387972 \n",
      "precision: 0.7550879613659883 \n",
      "F1 score: 0.6959701136634608 \n",
      "confusion matrix:\n"
     ]
    },
    {
     "data": {
      "text/plain": [
       "array([[5547, 1420],\n",
       "       [2405, 4378]])"
      ]
     },
     "execution_count": 45,
     "metadata": {},
     "output_type": "execute_result"
    }
   ],
   "source": [
    "# evaluate random forest classifer\n",
    "\n",
    "\n",
    "model_metrics(y_test, y_predictions_rf)\n",
    "\n",
    "#y_predictions_gbr is the predicted response value"
   ]
  },
  {
   "cell_type": "code",
   "execution_count": 46,
   "metadata": {},
   "outputs": [
    {
     "name": "stdout",
     "output_type": "stream",
     "text": [
      "Confusion matrix, without normalization\n",
      "[[5547 1420]\n",
      " [2405 4378]]\n",
      "Normalized confusion matrix\n",
      "[[0.7962 0.2038]\n",
      " [0.3546 0.6454]]\n"
     ]
    },
    {
     "data": {
      "image/png": "[encoded data removed]",
      "text/plain": [
       "<Figure size 432x288 with 2 Axes>"
      ]
     },
     "metadata": {
      "needs_background": "light"
     },
     "output_type": "display_data"
    },
    {
     "data": {
      "image/png": "[encoded data removed]",
      "text/plain": [
       "<Figure size 432x288 with 2 Axes>"
      ]
     },
     "metadata": {
      "needs_background": "light"
     },
     "output_type": "display_data"
    }
   ],
   "source": [
    "#https://scikit-learn.org/stable/auto_examples/model_selection/plot_confusion_matrix.html#sphx-glr-auto-examples-model-selection-plot-confusion-matrix-py\n",
    "from sklearn.metrics import plot_confusion_matrix\n",
    "\n",
    "target_names=['0', '1']\n",
    "np.set_printoptions(precision=4)\n",
    "\n",
    "# Plot non-normalized confusion matrix\n",
    "titles_options = [(\"Confusion matrix, without normalization\", None, \"0.0f\"),\n",
    "                  (\"Normalized confusion matrix\", 'true', None)]\n",
    "for title, normalize, values_format in titles_options:\n",
    "    disp = plot_confusion_matrix(rf_best, X_test, y_test,\n",
    "                                 display_labels=target_names,\n",
    "                                 cmap=plt.cm.Reds,\n",
    "                                 normalize=normalize,\n",
    "                                 values_format=values_format,\n",
    "                                )\n",
    "    disp.ax_.set_title(title)\n",
    "\n",
    "    print(title)\n",
    "    print(disp.confusion_matrix)\n",
    "    #plt.grid(None)\n",
    "    plt.savefig('RandomForest {0}.png'.format(title))\n",
    "\n",
    "    \n",
    "plt.show()"
   ]
  },
  {
   "cell_type": "code",
   "execution_count": 47,
   "metadata": {},
   "outputs": [
    {
     "name": "stdout",
     "output_type": "stream",
     "text": [
      "Training set score: 0.72\n",
      "Test set score: 0.72\n"
     ]
    }
   ],
   "source": [
    "print(\"Training set score: {:.2f}\".format(rf.score(X_train, y_train)))\n",
    "print(\"Test set score: {:.2f}\".format(rf.score(X_test, y_test)))"
   ]
  },
  {
   "cell_type": "markdown",
   "metadata": {},
   "source": [
    "## ROC Curve"
   ]
  },
  {
   "cell_type": "code",
   "execution_count": 48,
   "metadata": {},
   "outputs": [],
   "source": [
    "# make predicted probabilities for the predictions\n",
    "# random forest classifier\n",
    "# store the predicted probabilities for class 1 of response\n",
    "\n",
    "y_pred_prob_rf = rf.predict_proba(X_test)[:, 1]"
   ]
  },
  {
   "cell_type": "code",
   "execution_count": 49,
   "metadata": {},
   "outputs": [],
   "source": [
    "# the first argument is true values, \n",
    "# the second argument is predicted probabilities\n",
    "\n",
    "# pass y_test and y_pred_prob\n",
    "# do not use y_pred_class, because it will \n",
    "# give incorrect results without generating an error\n",
    "# roc_curve returns 3 objects fpr, tpr, thresholds\n",
    "# fpr: false positive rate\n",
    "# tpr: true positive rate\n",
    "\n",
    "fpr, tpr, thresholds = roc_curve(y_test, y_pred_prob_rf)"
   ]
  },
  {
   "cell_type": "code",
   "execution_count": 50,
   "metadata": {},
   "outputs": [
    {
     "data": {
      "image/png": "[encoded data removed]",
      "text/plain": [
       "<Figure size 432x288 with 1 Axes>"
      ]
     },
     "metadata": {
      "needs_background": "light"
     },
     "output_type": "display_data"
    }
   ],
   "source": [
    "# plot the ROC curve for the random forest classifer\n",
    "    \n",
    "plot_roc_curve(fpr, tpr)\n",
    "plt.savefig('ROC_RF_plot.pdf')\n",
    "plt.show()"
   ]
  },
  {
   "cell_type": "code",
   "execution_count": 51,
   "metadata": {},
   "outputs": [
    {
     "name": "stdout",
     "output_type": "stream",
     "text": [
      "When the threshold is set to 0.5\n",
      "Sensitivity: 0.645437122217308\n",
      "Specificity: 0.7963255346634133\n"
     ]
    }
   ],
   "source": [
    "# evaluate the RFC\n",
    "# sensitivity and specificity when the threshold is set to 0.5\n",
    "\n",
    "print('When the threshold is set to 0.5')\n",
    "evaluate_threshold(0.5)"
   ]
  },
  {
   "cell_type": "code",
   "execution_count": 52,
   "metadata": {},
   "outputs": [
    {
     "name": "stdout",
     "output_type": "stream",
     "text": [
      "\n",
      "The AUC is: 0.7816550384818928\n"
     ]
    }
   ],
   "source": [
    "# AUC is the percentage of the ROC plot that is underneath the curve\n",
    "# first argument is true values, second argument is predicted probabilities\n",
    "# AUC for logistic regression, C = 100\n",
    "\n",
    "roc_auc_y_rf_class1 = metrics.roc_auc_score(y_test, y_pred_prob_rf)\n",
    "\n",
    "print('\\nThe AUC is:', roc_auc_y_rf_class1)"
   ]
  },
  {
   "cell_type": "code",
   "execution_count": null,
   "metadata": {},
   "outputs": [],
   "source": []
  },
  {
   "cell_type": "code",
   "execution_count": null,
   "metadata": {},
   "outputs": [],
   "source": []
  },
  {
   "cell_type": "code",
   "execution_count": null,
   "metadata": {},
   "outputs": [],
   "source": []
  },
  {
   "cell_type": "code",
   "execution_count": null,
   "metadata": {},
   "outputs": [],
   "source": []
  },
  {
   "cell_type": "code",
   "execution_count": null,
   "metadata": {},
   "outputs": [],
   "source": []
  },
  {
   "cell_type": "code",
   "execution_count": null,
   "metadata": {},
   "outputs": [],
   "source": []
  }
 ],
 "metadata": {
  "kernelspec": {
   "display_name": "Python 3",
   "language": "python",
   "name": "python3"
  },
  "language_info": {
   "codemirror_mode": {
    "name": "ipython",
    "version": 3
   },
   "file_extension": ".py",
   "mimetype": "text/x-python",
   "name": "python",
   "nbconvert_exporter": "python",
   "pygments_lexer": "ipython3",
   "version": "3.7.6"
  }
 },
 "nbformat": 4,
 "nbformat_minor": 4
}
