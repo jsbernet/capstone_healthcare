{
 "cells": [
  {
   "cell_type": "markdown",
   "metadata": {},
   "source": [
    "## Cardio Logistic Model"
   ]
  },
  {
   "cell_type": "code",
   "execution_count": 1,
   "metadata": {},
   "outputs": [],
   "source": [
    "# seed value for random number generators to obtain reproducible results\n",
    "#RANDOM_SEED = 1\n",
    "#random seed is set to 42 in train/test split\n",
    "\n",
    "# import base packages \n",
    "import numpy as np\n",
    "import pandas as pd\n",
    "import pandas_profiling\n",
    "import matplotlib\n",
    "import matplotlib.pyplot as plt  # static plotting\n",
    "import seaborn as sns  # pretty plotting, including heat map\n",
    "from sklearn.linear_model import LogisticRegression\n",
    "from sklearn.model_selection import train_test_split\n",
    "from sklearn import metrics\n",
    "from sklearn.metrics import classification_report\n",
    "from sklearn.metrics import roc_curve\n",
    "from sklearn.preprocessing import binarize\n",
    "from sklearn.metrics import precision_recall_curve\n",
    "from sklearn.naive_bayes import BernoulliNB\n",
    "#from sklearn.cross_validation import cross_val_score\n",
    "from sklearn.model_selection import cross_val_score\n",
    "import math\n"
   ]
  },
  {
   "cell_type": "markdown",
   "metadata": {},
   "source": [
    "## Defined functions"
   ]
  },
  {
   "cell_type": "code",
   "execution_count": 2,
   "metadata": {},
   "outputs": [],
   "source": [
    "# correlation heat map setup for seaborn\n",
    "def corr_chart(df_corr):\n",
    "    corr=df_corr.corr()\n",
    "    #screen top half to get a triangle\n",
    "    top = np.zeros_like(corr, dtype=np.bool)\n",
    "    top[np.triu_indices_from(top)] = True\n",
    "    fig=plt.figure()\n",
    "    fig, ax = plt.subplots(figsize=(12,12))\n",
    "    sns.heatmap(corr, mask=top, cmap='coolwarm', \n",
    "        center = 0, square=True, \n",
    "        linewidths=.5, cbar_kws={'shrink':.5}, \n",
    "        annot = True, annot_kws={'size': 9}, fmt = '.3f')           \n",
    "    plt.xticks(rotation=45) # rotate variable labels on columns (x axis)\n",
    "    plt.yticks(rotation=0) # use horizontal variable labels on rows (y axis)\n",
    "    plt.title('Correlation Heat Map')   \n",
    "    plt.savefig('plot-corr-map.pdf', \n",
    "        bbox_inches = 'tight', dpi=None, facecolor='w', edgecolor='b', \n",
    "        orientation='portrait', papertype=None, format=None, \n",
    "        transparent=True, pad_inches=0.25, frameon=None)      \n",
    "\n",
    "np.set_printoptions(precision=3)"
   ]
  },
  {
   "cell_type": "code",
   "execution_count": 3,
   "metadata": {},
   "outputs": [],
   "source": [
    "# define a function to return model metrics for evaluation\n",
    "\n",
    "def model_metrics(y_known, y_pred):\n",
    "    y_test = y_known\n",
    "    y_pred_class = y_pred\n",
    "    confusion = metrics.confusion_matrix(y_test, y_pred_class)\n",
    "    TP = confusion[1, 1]\n",
    "    TN = confusion[0, 0]\n",
    "    FP = confusion[0, 1]\n",
    "    FN = confusion[1, 0]\n",
    "    accuracy = metrics.accuracy_score(y_test, y_pred_class)\n",
    "    class_error = 1 - metrics.accuracy_score(y_test, y_pred_class)\n",
    "    sensitivity = metrics.recall_score(y_test, y_pred_class)\n",
    "    specificity = TN / (TN + FP)\n",
    "    false_positive_rate = FP / float(TN + FP)\n",
    "    precision = TP / float(TP + FP)\n",
    "    f1_score = metrics.f1_score(y_test, y_pred_class)\n",
    "#    F1 = 2*precision*sensitivity/(precision + sensitivity)\n",
    "    print('The model metrics are:',\n",
    "         '\\naccuracy:', accuracy,\n",
    "         '\\nclassification error:', class_error,\n",
    "         '\\nsensitivity:', sensitivity,\n",
    "         '\\nspecificity:', specificity,\n",
    "         '\\nfalse positive rate:', false_positive_rate,\n",
    "         '\\nprecision:', precision,\n",
    "          '\\nF1 score:', f1_score,\n",
    "#          '\\nF1 by hand:', F1,\n",
    "         '\\nconfusion matrix:')\n",
    "    return(confusion)\n",
    "\n"
   ]
  },
  {
   "cell_type": "code",
   "execution_count": 4,
   "metadata": {},
   "outputs": [],
   "source": [
    "# define a function that accepts a threshold and \n",
    "# prints sensitivity and specificity\n",
    "\n",
    "def evaluate_threshold(threshold):\n",
    "    print('Sensitivity:', tpr[thresholds > threshold][-1])\n",
    "    print('Specificity:', 1 - fpr[thresholds > threshold][-1])"
   ]
  },
  {
   "cell_type": "code",
   "execution_count": 5,
   "metadata": {},
   "outputs": [],
   "source": [
    "# define a function that accepts the fpr and tpr values \n",
    "# from the roc_curve function and plot the ROC curve\n",
    "\n",
    "def plot_roc_curve(fpr, tpr, label=None):\n",
    "    plt.plot(fpr, tpr, linewidth=2, label=label)\n",
    "    plt.plot([0, 1], [0, 1], 'k--')\n",
    "    plt.axis([0, 1, 0, 1])\n",
    "    plt.xlabel('False Positive Rate')\n",
    "    plt.ylabel('True Positive Rate')\n",
    "    plt.title('ROC curve for response')\n"
   ]
  },
  {
   "cell_type": "code",
   "execution_count": 6,
   "metadata": {},
   "outputs": [],
   "source": [
    "# define a function that accepts the recall and precision values \n",
    "# from the precision_recall_curve function and plot the PR curve\n",
    "\n",
    "def plot_pr_curve(recall, precision, label=None):\n",
    "    plt.plot(recall, precision, linewidth=2, label=label)\n",
    "#    plt.plot([0, 1], [0, 1], 'k--')\n",
    "    plt.axis([0, 1, 0, 1])\n",
    "    plt.xlabel('Recall')\n",
    "    plt.ylabel('Precision')\n",
    "    plt.title('PR curve for response')"
   ]
  },
  {
   "cell_type": "markdown",
   "metadata": {},
   "source": [
    "## Import data set and prepare for analysis"
   ]
  },
  {
   "cell_type": "code",
   "execution_count": 7,
   "metadata": {},
   "outputs": [
    {
     "name": "stdout",
     "output_type": "stream",
     "text": [
      "The shape of the X test set is:  (13750, 24)\n",
      "The shape of the X train set is:  (54997, 24)\n",
      "The shape of the Y test set is:  (13750, 2)\n",
      "The shape of the Y train set is:  (54997, 2)\n"
     ]
    }
   ],
   "source": [
    "# initial work with the smaller data set\n",
    "X_test = pd.read_csv('cardio_x_test.csv', sep = ',', encoding = 'unicode_escape')  \n",
    "X_train = pd.read_csv('cardio_x_train.csv', sep = ',', encoding = 'unicode_escape')  \n",
    "y_test = pd.read_csv('cardio_y_test.csv', sep = ',', encoding = 'unicode_escape')  \n",
    "y_train = pd.read_csv('cardio_y_train.csv', sep = ',', encoding = 'unicode_escape')\n",
    "# examine the shape of original input data\n",
    "print('The shape of the X test set is: ', X_test.shape)\n",
    "print('The shape of the X train set is: ',X_train.shape)\n",
    "print('The shape of the Y test set is: ',y_test.shape)\n",
    "print('The shape of the Y train set is: ',y_train.shape)"
   ]
  },
  {
   "cell_type": "code",
   "execution_count": 8,
   "metadata": {
    "scrolled": true
   },
   "outputs": [],
   "source": [
    "#drop unnecessary columns for model\n",
    "X_train = X_train.drop(['Unnamed: 0', 'id', 'age_days', 'LATITUDE',\n",
    "                 'LONGITUDE','ZIP','FACILITY_NAME','ADDRESS',\n",
    "                 'CITY','STATE','DESCRIPTION','FACILITY_TYPE' ], axis=1)\n",
    "X_test = X_test.drop(['Unnamed: 0', 'id', 'age_days', 'LATITUDE',\n",
    "                 'LONGITUDE','ZIP','FACILITY_NAME','ADDRESS',\n",
    "                 'CITY','STATE','DESCRIPTION','FACILITY_TYPE' ], axis=1)\n",
    "y_train = y_train.drop(['Unnamed: 0'], axis=1)\n",
    "y_test = y_test.drop(['Unnamed: 0'], axis=1)    \n"
   ]
  },
  {
   "cell_type": "code",
   "execution_count": 9,
   "metadata": {},
   "outputs": [],
   "source": [
    "y_train = y_train.rename(columns={\"x\": \"cardio\"})\n",
    "y_test = y_test.rename(columns={\"x\": \"cardio\"})"
   ]
  },
  {
   "cell_type": "code",
   "execution_count": 10,
   "metadata": {},
   "outputs": [
    {
     "name": "stdout",
     "output_type": "stream",
     "text": [
      "The total number of NaN values in the X test set is:\n",
      " age_years      0\n",
      "gender         0\n",
      "height_cm      0\n",
      "weight_kg      0\n",
      "BMI            0\n",
      "ap_hi          0\n",
      "ap_lo          0\n",
      "cholesterol    0\n",
      "gluc           0\n",
      "smoke          0\n",
      "alcohol        0\n",
      "active         0\n",
      "dtype: int64\n",
      "The total number of NaN values in the X train set is:\n",
      " age_years      0\n",
      "gender         0\n",
      "height_cm      0\n",
      "weight_kg      0\n",
      "BMI            0\n",
      "ap_hi          0\n",
      "ap_lo          0\n",
      "cholesterol    0\n",
      "gluc           0\n",
      "smoke          0\n",
      "alcohol        0\n",
      "active         0\n",
      "dtype: int64\n",
      "The total number of NaN values in the Y test set is:\n",
      " cardio    0\n",
      "dtype: int64\n",
      "The total number of NaN values in the Y train set is:\n",
      " cardio    0\n",
      "dtype: int64\n"
     ]
    }
   ],
   "source": [
    "#total number of NaN values in each column\n",
    "print('The total number of NaN values in the X test set is:\\n', X_test.isnull().sum())\n",
    "print('The total number of NaN values in the X train set is:\\n',X_train.isnull().sum())\n",
    "print('The total number of NaN values in the Y test set is:\\n',y_test.isnull().sum())\n",
    "print('The total number of NaN values in the Y train set is:\\n',y_train.isnull().sum())\n"
   ]
  },
  {
   "cell_type": "code",
   "execution_count": 11,
   "metadata": {
    "scrolled": false
   },
   "outputs": [
    {
     "data": {
      "text/html": [
       "<div>\n",
       "<style scoped>\n",
       "    .dataframe tbody tr th:only-of-type {\n",
       "        vertical-align: middle;\n",
       "    }\n",
       "\n",
       "    .dataframe tbody tr th {\n",
       "        vertical-align: top;\n",
       "    }\n",
       "\n",
       "    .dataframe thead th {\n",
       "        text-align: right;\n",
       "    }\n",
       "</style>\n",
       "<table border=\"1\" class=\"dataframe\">\n",
       "  <thead>\n",
       "    <tr style=\"text-align: right;\">\n",
       "      <th></th>\n",
       "      <th>age_years</th>\n",
       "      <th>gender</th>\n",
       "      <th>height_cm</th>\n",
       "      <th>weight_kg</th>\n",
       "      <th>BMI</th>\n",
       "      <th>ap_hi</th>\n",
       "      <th>ap_lo</th>\n",
       "      <th>cholesterol</th>\n",
       "      <th>gluc</th>\n",
       "      <th>smoke</th>\n",
       "      <th>alcohol</th>\n",
       "      <th>active</th>\n",
       "    </tr>\n",
       "  </thead>\n",
       "  <tbody>\n",
       "    <tr>\n",
       "      <th>0</th>\n",
       "      <td>62</td>\n",
       "      <td>female</td>\n",
       "      <td>160</td>\n",
       "      <td>101.0</td>\n",
       "      <td>39.453125</td>\n",
       "      <td>120</td>\n",
       "      <td>70</td>\n",
       "      <td>1</td>\n",
       "      <td>1</td>\n",
       "      <td>0</td>\n",
       "      <td>0</td>\n",
       "      <td>1</td>\n",
       "    </tr>\n",
       "    <tr>\n",
       "      <th>1</th>\n",
       "      <td>41</td>\n",
       "      <td>male</td>\n",
       "      <td>172</td>\n",
       "      <td>78.0</td>\n",
       "      <td>26.365603</td>\n",
       "      <td>140</td>\n",
       "      <td>80</td>\n",
       "      <td>1</td>\n",
       "      <td>1</td>\n",
       "      <td>0</td>\n",
       "      <td>0</td>\n",
       "      <td>1</td>\n",
       "    </tr>\n",
       "    <tr>\n",
       "      <th>2</th>\n",
       "      <td>57</td>\n",
       "      <td>female</td>\n",
       "      <td>168</td>\n",
       "      <td>80.0</td>\n",
       "      <td>28.344671</td>\n",
       "      <td>140</td>\n",
       "      <td>90</td>\n",
       "      <td>1</td>\n",
       "      <td>1</td>\n",
       "      <td>0</td>\n",
       "      <td>0</td>\n",
       "      <td>1</td>\n",
       "    </tr>\n",
       "    <tr>\n",
       "      <th>3</th>\n",
       "      <td>52</td>\n",
       "      <td>female</td>\n",
       "      <td>161</td>\n",
       "      <td>75.0</td>\n",
       "      <td>28.934069</td>\n",
       "      <td>110</td>\n",
       "      <td>80</td>\n",
       "      <td>2</td>\n",
       "      <td>3</td>\n",
       "      <td>0</td>\n",
       "      <td>0</td>\n",
       "      <td>1</td>\n",
       "    </tr>\n",
       "    <tr>\n",
       "      <th>4</th>\n",
       "      <td>39</td>\n",
       "      <td>female</td>\n",
       "      <td>169</td>\n",
       "      <td>64.0</td>\n",
       "      <td>22.408179</td>\n",
       "      <td>100</td>\n",
       "      <td>70</td>\n",
       "      <td>1</td>\n",
       "      <td>1</td>\n",
       "      <td>0</td>\n",
       "      <td>0</td>\n",
       "      <td>1</td>\n",
       "    </tr>\n",
       "  </tbody>\n",
       "</table>\n",
       "</div>"
      ],
      "text/plain": [
       "   age_years  gender  height_cm  weight_kg        BMI  ap_hi  ap_lo  \\\n",
       "0         62  female        160      101.0  39.453125    120     70   \n",
       "1         41    male        172       78.0  26.365603    140     80   \n",
       "2         57  female        168       80.0  28.344671    140     90   \n",
       "3         52  female        161       75.0  28.934069    110     80   \n",
       "4         39  female        169       64.0  22.408179    100     70   \n",
       "\n",
       "   cholesterol  gluc  smoke  alcohol  active  \n",
       "0            1     1      0        0       1  \n",
       "1            1     1      0        0       1  \n",
       "2            1     1      0        0       1  \n",
       "3            2     3      0        0       1  \n",
       "4            1     1      0        0       1  "
      ]
     },
     "execution_count": 11,
     "metadata": {},
     "output_type": "execute_result"
    }
   ],
   "source": [
    "X_train.head()"
   ]
  },
  {
   "cell_type": "code",
   "execution_count": 12,
   "metadata": {},
   "outputs": [],
   "source": [
    "# mapping function to convert text female/male to integer 1/2\n",
    "convert_to_binary = {'female' : 1, 'male' : 2}\n",
    "\n",
    "# define binary variable for gender\n",
    "X_train['gender'] = X_train['gender'].map(convert_to_binary)\n",
    "X_test['gender'] = X_test['gender'].map(convert_to_binary)"
   ]
  },
  {
   "cell_type": "code",
   "execution_count": 13,
   "metadata": {
    "scrolled": true
   },
   "outputs": [
    {
     "data": {
      "text/html": [
       "<div>\n",
       "<style scoped>\n",
       "    .dataframe tbody tr th:only-of-type {\n",
       "        vertical-align: middle;\n",
       "    }\n",
       "\n",
       "    .dataframe tbody tr th {\n",
       "        vertical-align: top;\n",
       "    }\n",
       "\n",
       "    .dataframe thead th {\n",
       "        text-align: right;\n",
       "    }\n",
       "</style>\n",
       "<table border=\"1\" class=\"dataframe\">\n",
       "  <thead>\n",
       "    <tr style=\"text-align: right;\">\n",
       "      <th></th>\n",
       "      <th>age_years</th>\n",
       "      <th>gender</th>\n",
       "      <th>height_cm</th>\n",
       "      <th>weight_kg</th>\n",
       "      <th>BMI</th>\n",
       "      <th>ap_hi</th>\n",
       "      <th>ap_lo</th>\n",
       "      <th>cholesterol</th>\n",
       "      <th>gluc</th>\n",
       "      <th>smoke</th>\n",
       "      <th>alcohol</th>\n",
       "      <th>active</th>\n",
       "    </tr>\n",
       "  </thead>\n",
       "  <tbody>\n",
       "    <tr>\n",
       "      <th>0</th>\n",
       "      <td>62</td>\n",
       "      <td>1</td>\n",
       "      <td>160</td>\n",
       "      <td>101.0</td>\n",
       "      <td>39.453125</td>\n",
       "      <td>120</td>\n",
       "      <td>70</td>\n",
       "      <td>1</td>\n",
       "      <td>1</td>\n",
       "      <td>0</td>\n",
       "      <td>0</td>\n",
       "      <td>1</td>\n",
       "    </tr>\n",
       "    <tr>\n",
       "      <th>1</th>\n",
       "      <td>41</td>\n",
       "      <td>2</td>\n",
       "      <td>172</td>\n",
       "      <td>78.0</td>\n",
       "      <td>26.365603</td>\n",
       "      <td>140</td>\n",
       "      <td>80</td>\n",
       "      <td>1</td>\n",
       "      <td>1</td>\n",
       "      <td>0</td>\n",
       "      <td>0</td>\n",
       "      <td>1</td>\n",
       "    </tr>\n",
       "    <tr>\n",
       "      <th>2</th>\n",
       "      <td>57</td>\n",
       "      <td>1</td>\n",
       "      <td>168</td>\n",
       "      <td>80.0</td>\n",
       "      <td>28.344671</td>\n",
       "      <td>140</td>\n",
       "      <td>90</td>\n",
       "      <td>1</td>\n",
       "      <td>1</td>\n",
       "      <td>0</td>\n",
       "      <td>0</td>\n",
       "      <td>1</td>\n",
       "    </tr>\n",
       "    <tr>\n",
       "      <th>3</th>\n",
       "      <td>52</td>\n",
       "      <td>1</td>\n",
       "      <td>161</td>\n",
       "      <td>75.0</td>\n",
       "      <td>28.934069</td>\n",
       "      <td>110</td>\n",
       "      <td>80</td>\n",
       "      <td>2</td>\n",
       "      <td>3</td>\n",
       "      <td>0</td>\n",
       "      <td>0</td>\n",
       "      <td>1</td>\n",
       "    </tr>\n",
       "    <tr>\n",
       "      <th>4</th>\n",
       "      <td>39</td>\n",
       "      <td>1</td>\n",
       "      <td>169</td>\n",
       "      <td>64.0</td>\n",
       "      <td>22.408179</td>\n",
       "      <td>100</td>\n",
       "      <td>70</td>\n",
       "      <td>1</td>\n",
       "      <td>1</td>\n",
       "      <td>0</td>\n",
       "      <td>0</td>\n",
       "      <td>1</td>\n",
       "    </tr>\n",
       "  </tbody>\n",
       "</table>\n",
       "</div>"
      ],
      "text/plain": [
       "   age_years  gender  height_cm  weight_kg        BMI  ap_hi  ap_lo  \\\n",
       "0         62       1        160      101.0  39.453125    120     70   \n",
       "1         41       2        172       78.0  26.365603    140     80   \n",
       "2         57       1        168       80.0  28.344671    140     90   \n",
       "3         52       1        161       75.0  28.934069    110     80   \n",
       "4         39       1        169       64.0  22.408179    100     70   \n",
       "\n",
       "   cholesterol  gluc  smoke  alcohol  active  \n",
       "0            1     1      0        0       1  \n",
       "1            1     1      0        0       1  \n",
       "2            1     1      0        0       1  \n",
       "3            2     3      0        0       1  \n",
       "4            1     1      0        0       1  "
      ]
     },
     "execution_count": 13,
     "metadata": {},
     "output_type": "execute_result"
    }
   ],
   "source": [
    "X_train.head()"
   ]
  },
  {
   "cell_type": "code",
   "execution_count": 14,
   "metadata": {
    "scrolled": true
   },
   "outputs": [
    {
     "data": {
      "text/html": [
       "<div>\n",
       "<style scoped>\n",
       "    .dataframe tbody tr th:only-of-type {\n",
       "        vertical-align: middle;\n",
       "    }\n",
       "\n",
       "    .dataframe tbody tr th {\n",
       "        vertical-align: top;\n",
       "    }\n",
       "\n",
       "    .dataframe thead th {\n",
       "        text-align: right;\n",
       "    }\n",
       "</style>\n",
       "<table border=\"1\" class=\"dataframe\">\n",
       "  <thead>\n",
       "    <tr style=\"text-align: right;\">\n",
       "      <th></th>\n",
       "      <th>cardio</th>\n",
       "    </tr>\n",
       "  </thead>\n",
       "  <tbody>\n",
       "    <tr>\n",
       "      <th>0</th>\n",
       "      <td>1</td>\n",
       "    </tr>\n",
       "    <tr>\n",
       "      <th>1</th>\n",
       "      <td>0</td>\n",
       "    </tr>\n",
       "    <tr>\n",
       "      <th>2</th>\n",
       "      <td>1</td>\n",
       "    </tr>\n",
       "    <tr>\n",
       "      <th>3</th>\n",
       "      <td>0</td>\n",
       "    </tr>\n",
       "    <tr>\n",
       "      <th>4</th>\n",
       "      <td>0</td>\n",
       "    </tr>\n",
       "  </tbody>\n",
       "</table>\n",
       "</div>"
      ],
      "text/plain": [
       "   cardio\n",
       "0       1\n",
       "1       0\n",
       "2       1\n",
       "3       0\n",
       "4       0"
      ]
     },
     "execution_count": 14,
     "metadata": {},
     "output_type": "execute_result"
    }
   ],
   "source": [
    "y_train.head()\n"
   ]
  },
  {
   "cell_type": "markdown",
   "metadata": {},
   "source": [
    "## Split the data into train and test sets"
   ]
  },
  {
   "cell_type": "code",
   "execution_count": 15,
   "metadata": {},
   "outputs": [],
   "source": [
    "#this can be deleted later, was here to create data set with cardio data\n",
    "\n"
   ]
  },
  {
   "cell_type": "code",
   "execution_count": 16,
   "metadata": {},
   "outputs": [],
   "source": [
    "# read csv file into a dataframe\n",
    "#cardio = pd.read_csv('Cardio_train_clean.csv', sep = ',')  \n",
    "# examine the shape of original input data\n",
    "#print(cardio.shape)\n",
    "\n",
    "#cardio.head()"
   ]
  },
  {
   "cell_type": "code",
   "execution_count": 17,
   "metadata": {},
   "outputs": [],
   "source": [
    "#cardio = cardio.drop(['id', 'age_days', 'height_m',\n",
    "#                     'height_inches', 'height_feet', 'weight_lb'], axis=1)"
   ]
  },
  {
   "cell_type": "code",
   "execution_count": 18,
   "metadata": {},
   "outputs": [],
   "source": [
    "#split data and response \n",
    "\n",
    "#model_data_df_X = cardio.drop('cardio', axis=1)\n",
    "#model_data_df_y = cardio.cardio.copy()"
   ]
  },
  {
   "cell_type": "code",
   "execution_count": 19,
   "metadata": {},
   "outputs": [],
   "source": [
    "#from sklearn.model_selection import train_test_split\n",
    "\n",
    "#X_train, X_test, y_train, y_test = train_test_split(\n",
    "#   model_data_df_X, model_data_df_y, test_size=0.2, random_state=42)"
   ]
  },
  {
   "cell_type": "markdown",
   "metadata": {},
   "source": [
    "## Logistic Regression Model, C = 100"
   ]
  },
  {
   "cell_type": "code",
   "execution_count": 20,
   "metadata": {},
   "outputs": [
    {
     "data": {
      "text/plain": [
       "LogisticRegression(C=100, class_weight=None, dual=False, fit_intercept=True,\n",
       "                   intercept_scaling=1, l1_ratio=None, max_iter=4000,\n",
       "                   multi_class='auto', n_jobs=None, penalty='l2',\n",
       "                   random_state=None, solver='lbfgs', tol=0.0001, verbose=0,\n",
       "                   warm_start=False)"
      ]
     },
     "execution_count": 20,
     "metadata": {},
     "output_type": "execute_result"
    }
   ],
   "source": [
    "# Create a logistic regression model on the data\n",
    "# C is the hyperparameter controlling the regularization \n",
    "# strength of a Scikit-Learn LogisticRegression model.\n",
    "# The higher the value of C, the less the model is regularized.\n",
    "\n",
    "# Instantiate model\n",
    "log_reg100 = LogisticRegression(C=100, max_iter=4000)\n",
    "\n",
    "# Fit the model\n",
    "log_reg100.fit(X_train, y_train.values.ravel())"
   ]
  },
  {
   "cell_type": "code",
   "execution_count": 21,
   "metadata": {},
   "outputs": [],
   "source": [
    "# make predictions for the testing set\n",
    "y_predictions100 = log_reg100.predict(X_test)"
   ]
  },
  {
   "cell_type": "code",
   "execution_count": 22,
   "metadata": {},
   "outputs": [
    {
     "data": {
      "text/plain": [
       "array([0, 0, 0, 0, 1, 1, 1, 1, 1, 1])"
      ]
     },
     "execution_count": 22,
     "metadata": {},
     "output_type": "execute_result"
    }
   ],
   "source": [
    "# look at the first 10 entries for predictions\n",
    "y_predictions100[0:10]"
   ]
  },
  {
   "cell_type": "code",
   "execution_count": 23,
   "metadata": {},
   "outputs": [
    {
     "data": {
      "text/html": [
       "<div>\n",
       "<style scoped>\n",
       "    .dataframe tbody tr th:only-of-type {\n",
       "        vertical-align: middle;\n",
       "    }\n",
       "\n",
       "    .dataframe tbody tr th {\n",
       "        vertical-align: top;\n",
       "    }\n",
       "\n",
       "    .dataframe thead th {\n",
       "        text-align: right;\n",
       "    }\n",
       "</style>\n",
       "<table border=\"1\" class=\"dataframe\">\n",
       "  <thead>\n",
       "    <tr style=\"text-align: right;\">\n",
       "      <th></th>\n",
       "      <th>cardio</th>\n",
       "    </tr>\n",
       "  </thead>\n",
       "  <tbody>\n",
       "    <tr>\n",
       "      <th>0</th>\n",
       "      <td>0</td>\n",
       "    </tr>\n",
       "    <tr>\n",
       "      <th>1</th>\n",
       "      <td>0</td>\n",
       "    </tr>\n",
       "    <tr>\n",
       "      <th>2</th>\n",
       "      <td>0</td>\n",
       "    </tr>\n",
       "    <tr>\n",
       "      <th>3</th>\n",
       "      <td>0</td>\n",
       "    </tr>\n",
       "    <tr>\n",
       "      <th>4</th>\n",
       "      <td>1</td>\n",
       "    </tr>\n",
       "    <tr>\n",
       "      <th>5</th>\n",
       "      <td>1</td>\n",
       "    </tr>\n",
       "    <tr>\n",
       "      <th>6</th>\n",
       "      <td>1</td>\n",
       "    </tr>\n",
       "    <tr>\n",
       "      <th>7</th>\n",
       "      <td>1</td>\n",
       "    </tr>\n",
       "    <tr>\n",
       "      <th>8</th>\n",
       "      <td>1</td>\n",
       "    </tr>\n",
       "    <tr>\n",
       "      <th>9</th>\n",
       "      <td>1</td>\n",
       "    </tr>\n",
       "  </tbody>\n",
       "</table>\n",
       "</div>"
      ],
      "text/plain": [
       "   cardio\n",
       "0       0\n",
       "1       0\n",
       "2       0\n",
       "3       0\n",
       "4       1\n",
       "5       1\n",
       "6       1\n",
       "7       1\n",
       "8       1\n",
       "9       1"
      ]
     },
     "execution_count": 23,
     "metadata": {},
     "output_type": "execute_result"
    }
   ],
   "source": [
    "# look at the first 10 entries for the true values\n",
    "y_test[0:10]"
   ]
  },
  {
   "cell_type": "code",
   "execution_count": 24,
   "metadata": {},
   "outputs": [],
   "source": [
    "# make predicted probabilities for the predictions\n",
    "y_predict_prob100 = log_reg100.predict_proba(X_test)"
   ]
  },
  {
   "cell_type": "code",
   "execution_count": 25,
   "metadata": {},
   "outputs": [
    {
     "data": {
      "text/plain": [
       "array([[0.794, 0.206],\n",
       "       [0.844, 0.156],\n",
       "       [0.872, 0.128],\n",
       "       [0.514, 0.486],\n",
       "       [0.32 , 0.68 ],\n",
       "       [0.052, 0.948],\n",
       "       [0.432, 0.568],\n",
       "       [0.371, 0.629],\n",
       "       [0.145, 0.855],\n",
       "       [0.493, 0.507]])"
      ]
     },
     "execution_count": 25,
     "metadata": {},
     "output_type": "execute_result"
    }
   ],
   "source": [
    "# Look at the first ten rows of predicted probabilities \n",
    "# of response class membership.\n",
    "# The first column is the predicted probability that the\n",
    "# observation is a member of class 0.\n",
    "# The second column is the predicted probability that the\n",
    "# observation is a member of class 1. \n",
    "\n",
    "y_predict_prob100[0:10]"
   ]
  },
  {
   "cell_type": "code",
   "execution_count": 26,
   "metadata": {},
   "outputs": [
    {
     "name": "stdout",
     "output_type": "stream",
     "text": [
      "[[5461 1506]\n",
      " [2270 4513]]\n"
     ]
    }
   ],
   "source": [
    "# the first argument is true values, \n",
    "# the second argument is predicted values\n",
    "# this produces a 2x2 numpy array (matrix)\n",
    "\n",
    "confusion100 = metrics.confusion_matrix(y_test, y_predictions100)\n",
    "print(confusion100)"
   ]
  },
  {
   "cell_type": "code",
   "execution_count": 27,
   "metadata": {},
   "outputs": [
    {
     "name": "stdout",
     "output_type": "stream",
     "text": [
      "              precision    recall  f1-score   support\n",
      "\n",
      "           0       0.71      0.78      0.74      6967\n",
      "           1       0.75      0.67      0.71      6783\n",
      "\n",
      "    accuracy                           0.73     13750\n",
      "   macro avg       0.73      0.72      0.72     13750\n",
      "weighted avg       0.73      0.73      0.72     13750\n",
      "\n"
     ]
    }
   ],
   "source": [
    "# precision, recall, F1 score, and count of response variable\n",
    "# of logistic regression model, C =100 when threshold set to 0.5\n",
    "\n",
    "print(classification_report(y_test, y_predictions100))"
   ]
  },
  {
   "cell_type": "markdown",
   "metadata": {},
   "source": [
    "## Adjusting the classification threshold"
   ]
  },
  {
   "cell_type": "code",
   "execution_count": 28,
   "metadata": {},
   "outputs": [],
   "source": [
    "# store the predicted probabilities for class 1 of the response\n",
    "# for the logistic regression, C = 100 model\n",
    "y_pred_prob100_class1 = log_reg100.predict_proba(X_test)[:,1]"
   ]
  },
  {
   "cell_type": "code",
   "execution_count": 29,
   "metadata": {},
   "outputs": [
    {
     "data": {
      "text/plain": [
       "array([0.206, 0.156, 0.128, 0.486, 0.68 , 0.948, 0.568, 0.629, 0.855,\n",
       "       0.507])"
      ]
     },
     "execution_count": 29,
     "metadata": {},
     "output_type": "execute_result"
    }
   ],
   "source": [
    "# look at the first ten entries for predicted\n",
    "# probabilities for class 1 \n",
    "y_pred_prob100_class1[0:10]"
   ]
  },
  {
   "cell_type": "code",
   "execution_count": 30,
   "metadata": {},
   "outputs": [],
   "source": [
    "# the default threshold for predicted probabilities to be classified\n",
    "# as 0 or 1 is 0.5\n",
    "# let's see what would happen if the default is set to 0.45\n",
    "# predict response if the predicted probability is greater than 0.45\n",
    "# it will return 1 for all values above 0.45 and 0 otherwise\n",
    "# results are 2D so we slice out the first column\n",
    "\n",
    "y_pred_class100 = binarize(y_pred_prob100_class1.reshape(-1, 1), 0.45)"
   ]
  },
  {
   "cell_type": "code",
   "execution_count": 31,
   "metadata": {},
   "outputs": [
    {
     "data": {
      "text/plain": [
       "array([[0.],\n",
       "       [0.],\n",
       "       [0.],\n",
       "       [1.],\n",
       "       [1.],\n",
       "       [1.],\n",
       "       [1.],\n",
       "       [1.],\n",
       "       [1.],\n",
       "       [1.]])"
      ]
     },
     "execution_count": 31,
     "metadata": {},
     "output_type": "execute_result"
    }
   ],
   "source": [
    "# print the first 10 predicted classes with the lower threshold\n",
    "y_pred_class100[0:10]"
   ]
  },
  {
   "cell_type": "code",
   "execution_count": 32,
   "metadata": {},
   "outputs": [
    {
     "name": "stdout",
     "output_type": "stream",
     "text": [
      "[[5461 1506]\n",
      " [2270 4513]]\n"
     ]
    }
   ],
   "source": [
    "# previous confusion matrix (default threshold of 0.5)\n",
    "print(confusion100)"
   ]
  },
  {
   "cell_type": "code",
   "execution_count": 33,
   "metadata": {},
   "outputs": [
    {
     "name": "stdout",
     "output_type": "stream",
     "text": [
      "[[4990 1977]\n",
      " [1804 4979]]\n"
     ]
    }
   ],
   "source": [
    "# new confusion matrix (threshold set to 0.45)\n",
    "\n",
    "confusion100_threshold1 = metrics.confusion_matrix(y_test, y_pred_class100)\n",
    "print(confusion100_threshold1)"
   ]
  },
  {
   "cell_type": "code",
   "execution_count": 34,
   "metadata": {},
   "outputs": [
    {
     "name": "stdout",
     "output_type": "stream",
     "text": [
      "              precision    recall  f1-score   support\n",
      "\n",
      "           0       0.73      0.72      0.73      6967\n",
      "           1       0.72      0.73      0.72      6783\n",
      "\n",
      "    accuracy                           0.73     13750\n",
      "   macro avg       0.73      0.73      0.73     13750\n",
      "weighted avg       0.73      0.73      0.73     13750\n",
      "\n"
     ]
    }
   ],
   "source": [
    "# precision, recall, F1 score, and count of response variable\n",
    "# of logistic regression model, C =100 when threshold set to 0.45\n",
    "\n",
    "print(classification_report(y_test, y_pred_class100))"
   ]
  },
  {
   "cell_type": "code",
   "execution_count": 35,
   "metadata": {},
   "outputs": [
    {
     "name": "stdout",
     "output_type": "stream",
     "text": [
      "The model metrics are: \n",
      "accuracy: 0.7250181818181818 \n",
      "classification error: 0.2749818181818182 \n",
      "sensitivity: 0.7340409848149786 \n",
      "specificity: 0.7162336730299985 \n",
      "false positive rate: 0.2837663269700014 \n",
      "precision: 0.7157849338700403 \n",
      "F1 score: 0.7247980202343693 \n",
      "confusion matrix:\n"
     ]
    },
    {
     "data": {
      "text/plain": [
       "array([[4990, 1977],\n",
       "       [1804, 4979]])"
      ]
     },
     "execution_count": 35,
     "metadata": {},
     "output_type": "execute_result"
    }
   ],
   "source": [
    "# evaluate logistic regression model, C = 100\n",
    "# when threshold set to 0.45\n",
    "\n",
    "model_metrics(y_test, y_pred_class100)"
   ]
  },
  {
   "cell_type": "code",
   "execution_count": 36,
   "metadata": {
    "scrolled": true
   },
   "outputs": [
    {
     "name": "stdout",
     "output_type": "stream",
     "text": [
      "The model metrics are: \n",
      "accuracy: 0.7253818181818181 \n",
      "classification error: 0.2746181818181819 \n",
      "sensitivity: 0.6653398201385817 \n",
      "specificity: 0.7838380938711067 \n",
      "false positive rate: 0.21616190612889336 \n",
      "precision: 0.7497923243063632 \n",
      "F1 score: 0.7050460865489767 \n",
      "confusion matrix:\n"
     ]
    },
    {
     "data": {
      "text/plain": [
       "array([[5461, 1506],\n",
       "       [2270, 4513]])"
      ]
     },
     "execution_count": 36,
     "metadata": {},
     "output_type": "execute_result"
    }
   ],
   "source": [
    "# evaluate logistic regression model, C = 100\n",
    "# when threshold set to default 0.5\n",
    "\n",
    "model_metrics(y_test, y_predictions100)\n",
    "\n",
    "#y_predictions100 is the predicted response value"
   ]
  },
  {
   "cell_type": "markdown",
   "metadata": {},
   "source": [
    "Best results obtained with threshold set to default of 0.5"
   ]
  },
  {
   "cell_type": "markdown",
   "metadata": {},
   "source": [
    "## Grid Search "
   ]
  },
  {
   "cell_type": "code",
   "execution_count": 37,
   "metadata": {},
   "outputs": [
    {
     "data": {
      "text/plain": [
       "GridSearchCV(cv=5, error_score=nan,\n",
       "             estimator=LogisticRegression(C=1.0, class_weight=None, dual=False,\n",
       "                                          fit_intercept=True,\n",
       "                                          intercept_scaling=1, l1_ratio=None,\n",
       "                                          max_iter=100, multi_class='auto',\n",
       "                                          n_jobs=None, penalty='l2',\n",
       "                                          random_state=None, solver='lbfgs',\n",
       "                                          tol=0.0001, verbose=0,\n",
       "                                          warm_start=False),\n",
       "             iid='deprecated', n_jobs=None,\n",
       "             param_grid=[{'C': [0.1, 0.5, 1, 10, 100],\n",
       "                          'max_iter': [4000, 10000, 15000]}],\n",
       "             pre_dispatch='2*n_jobs', refit=True, return_train_score=True,\n",
       "             scoring='neg_mean_squared_error', verbose=0)"
      ]
     },
     "execution_count": 37,
     "metadata": {},
     "output_type": "execute_result"
    }
   ],
   "source": [
    "from sklearn.model_selection import GridSearchCV\n",
    "\n",
    "# GridSearchCV: specify which hyperparameters you want\n",
    "# it to experiment with, and what values to try out, \n",
    "# and it will evaluate all the possible combinations \n",
    "# of hyperparameter values, using cross-validation\n",
    "\n",
    "\n",
    "param_grid = [\n",
    "    {'C': [0.1, 0.5, 1, 10, 100], 'max_iter':[4000,10000,15000]},\n",
    "  ]\n",
    "\n",
    "logistic_gs = LogisticRegression()\n",
    "\n",
    "grid_search = GridSearchCV(logistic_gs, param_grid, cv=5,\n",
    "                           scoring='neg_mean_squared_error',\n",
    "                           return_train_score=True)\n",
    "\n",
    "grid_search.fit(X_train, y_train.values.ravel())"
   ]
  },
  {
   "cell_type": "code",
   "execution_count": 38,
   "metadata": {},
   "outputs": [
    {
     "name": "stdout",
     "output_type": "stream",
     "text": [
      "\n",
      "----------------------------\n",
      "The parameters choosen by Grid Search for Logistic Regression:\n",
      " \n"
     ]
    },
    {
     "data": {
      "text/plain": [
       "{'C': 0.5, 'max_iter': 4000}"
      ]
     },
     "execution_count": 38,
     "metadata": {},
     "output_type": "execute_result"
    }
   ],
   "source": [
    "print('\\n----------------------------')\n",
    "print('The parameters choosen by Grid Search for Logistic Regression:\\n ')\n",
    "grid_search.best_params_"
   ]
  },
  {
   "cell_type": "code",
   "execution_count": 39,
   "metadata": {},
   "outputs": [
    {
     "data": {
      "text/plain": [
       "LogisticRegression(C=0.5, class_weight=None, dual=False, fit_intercept=True,\n",
       "                   intercept_scaling=1, l1_ratio=None, max_iter=4000,\n",
       "                   multi_class='auto', n_jobs=None, penalty='l2',\n",
       "                   random_state=None, solver='lbfgs', tol=0.0001, verbose=0,\n",
       "                   warm_start=False)"
      ]
     },
     "execution_count": 39,
     "metadata": {},
     "output_type": "execute_result"
    }
   ],
   "source": [
    "grid_search.best_estimator_"
   ]
  },
  {
   "cell_type": "code",
   "execution_count": 40,
   "metadata": {},
   "outputs": [
    {
     "name": "stdout",
     "output_type": "stream",
     "text": [
      "Mean RMSE: 0.5243493848543342 {'C': 0.1, 'max_iter': 4000}\n",
      "Mean RMSE: 0.5243493848543342 {'C': 0.1, 'max_iter': 10000}\n",
      "Mean RMSE: 0.5243493848543342 {'C': 0.1, 'max_iter': 15000}\n",
      "Mean RMSE: 0.5240719019256352 {'C': 0.5, 'max_iter': 4000}\n",
      "Mean RMSE: 0.5240719019256352 {'C': 0.5, 'max_iter': 10000}\n",
      "Mean RMSE: 0.5240719019256352 {'C': 0.5, 'max_iter': 15000}\n",
      "Mean RMSE: 0.5242800302551981 {'C': 1, 'max_iter': 4000}\n",
      "Mean RMSE: 0.5242800302551981 {'C': 1, 'max_iter': 10000}\n",
      "Mean RMSE: 0.5242800302551981 {'C': 1, 'max_iter': 15000}\n",
      "Mean RMSE: 0.5243147087015155 {'C': 10, 'max_iter': 4000}\n",
      "Mean RMSE: 0.5243147087015155 {'C': 10, 'max_iter': 10000}\n",
      "Mean RMSE: 0.5243147087015155 {'C': 10, 'max_iter': 15000}\n",
      "Mean RMSE: 0.5243840681711635 {'C': 100, 'max_iter': 4000}\n",
      "Mean RMSE: 0.5243840681711635 {'C': 100, 'max_iter': 10000}\n",
      "Mean RMSE: 0.5243840681711635 {'C': 100, 'max_iter': 15000}\n"
     ]
    }
   ],
   "source": [
    "cvres = grid_search.cv_results_\n",
    "\n",
    "for mean_score, params in zip(cvres[\"mean_test_score\"], cvres[\"params\"]):\n",
    "    print('Mean RMSE:', np.sqrt(-mean_score), params)\n",
    "    \n",
    "# a smaller RMSE value is preferred"
   ]
  },
  {
   "cell_type": "markdown",
   "metadata": {},
   "source": [
    "## Logistic Regression Model, C = 0.5"
   ]
  },
  {
   "cell_type": "code",
   "execution_count": 41,
   "metadata": {},
   "outputs": [
    {
     "name": "stdout",
     "output_type": "stream",
     "text": [
      "\n",
      "----------------------------\n",
      "Logistic Regression\n",
      "\n",
      "LogisticRegression(C=0.5, class_weight=None, dual=False, fit_intercept=True,\n",
      "                   intercept_scaling=1, l1_ratio=None, max_iter=4000,\n",
      "                   multi_class='auto', n_jobs=None, penalty='l2',\n",
      "                   random_state=None, solver='lbfgs', tol=0.0001, verbose=0,\n",
      "                   warm_start=False)\n"
     ]
    }
   ],
   "source": [
    "# Create a logistic regression model on the data\n",
    "# C is the hyperparameter controlling the regularization \n",
    "# strength of a Scikit-Learn LogisticRegression model.\n",
    "# The higher the value of C, the less the model is regularized.\n",
    "\n",
    "# Instantiate model\n",
    "log_reg_5 = LogisticRegression(C=0.5, max_iter=4000)\n",
    "\n",
    "# Fit the model\n",
    "lr = log_reg_5.fit(X_train, y_train.values.ravel())\n",
    "\n",
    "print('\\n----------------------------')\n",
    "print('Logistic Regression\\n')\n",
    "print(lr)\n",
    "#print('intercept:', lr_intercept)\n",
    "#print('coefficients:', lr_coef)"
   ]
  },
  {
   "cell_type": "code",
   "execution_count": 42,
   "metadata": {},
   "outputs": [],
   "source": [
    "# make predictions for the testing set\n",
    "y_predictions_5 = log_reg_5.predict(X_test)"
   ]
  },
  {
   "cell_type": "code",
   "execution_count": 43,
   "metadata": {},
   "outputs": [],
   "source": [
    "# make predicted probabilities for the predictions\n",
    "y_predict_prob_5 = log_reg_5.predict_proba(X_test)"
   ]
  },
  {
   "cell_type": "code",
   "execution_count": 44,
   "metadata": {},
   "outputs": [
    {
     "name": "stdout",
     "output_type": "stream",
     "text": [
      "[[5468 1499]\n",
      " [2282 4501]]\n"
     ]
    }
   ],
   "source": [
    "# the first argument is true values, \n",
    "# the second argument is predicted values\n",
    "# this produces a 2x2 numpy array (matrix)\n",
    "\n",
    "confusion_5 = metrics.confusion_matrix(y_test, y_predictions_5)\n",
    "print(confusion_5)"
   ]
  },
  {
   "cell_type": "code",
   "execution_count": 45,
   "metadata": {},
   "outputs": [
    {
     "name": "stdout",
     "output_type": "stream",
     "text": [
      "              precision    recall  f1-score   support\n",
      "\n",
      "           0       0.71      0.78      0.74      6967\n",
      "           1       0.75      0.66      0.70      6783\n",
      "\n",
      "    accuracy                           0.73     13750\n",
      "   macro avg       0.73      0.72      0.72     13750\n",
      "weighted avg       0.73      0.73      0.72     13750\n",
      "\n"
     ]
    }
   ],
   "source": [
    "# precision, recall, F1 score, and count of response variable\n",
    "# of logistic regression model, C =0.5 when threshold set to 0.5\n",
    "\n",
    "print(classification_report(y_test, y_predictions_5))"
   ]
  },
  {
   "cell_type": "code",
   "execution_count": 46,
   "metadata": {
    "scrolled": true
   },
   "outputs": [
    {
     "name": "stdout",
     "output_type": "stream",
     "text": [
      "The model metrics are: \n",
      "accuracy: 0.7250181818181818 \n",
      "classification error: 0.2749818181818182 \n",
      "sensitivity: 0.6635706914344686 \n",
      "specificity: 0.7848428304865795 \n",
      "false positive rate: 0.2151571695134204 \n",
      "precision: 0.7501666666666666 \n",
      "F1 score: 0.7042165375889854 \n",
      "confusion matrix:\n"
     ]
    },
    {
     "data": {
      "text/plain": [
       "array([[5468, 1499],\n",
       "       [2282, 4501]])"
      ]
     },
     "execution_count": 46,
     "metadata": {},
     "output_type": "execute_result"
    }
   ],
   "source": [
    "# evaluate logistic regression model, C = 0.5\n",
    "# when threshold set to default 0.5\n",
    "\n",
    "model_metrics(y_test, y_predictions_5)\n",
    "\n",
    "#y_predictions100 is the predicted response value"
   ]
  },
  {
   "cell_type": "code",
   "execution_count": 59,
   "metadata": {},
   "outputs": [
    {
     "name": "stdout",
     "output_type": "stream",
     "text": [
      "Confusion matrix, without normalization\n",
      "[[5468 1499]\n",
      " [2282 4501]]\n",
      "Normalized confusion matrix\n",
      "[[0.7848 0.2152]\n",
      " [0.3364 0.6636]]\n"
     ]
    },
    {
     "data": {
      "image/png": "[encoded data removed]",
      "text/plain": [
       "<Figure size 576x396 with 2 Axes>"
      ]
     },
     "metadata": {},
     "output_type": "display_data"
    },
    {
     "data": {
      "image/png": "[encoded data removed]",
      "text/plain": [
       "<Figure size 576x396 with 2 Axes>"
      ]
     },
     "metadata": {},
     "output_type": "display_data"
    }
   ],
   "source": [
    "#https://scikit-learn.org/stable/auto_examples/model_selection/plot_confusion_matrix.html#sphx-glr-auto-examples-model-selection-plot-confusion-matrix-py\n",
    "from sklearn.metrics import plot_confusion_matrix\n",
    "\n",
    "target_names=['0', '1']\n",
    "np.set_printoptions(precision=4)\n",
    "\n",
    "# Plot non-normalized confusion matrix\n",
    "titles_options = [(\"Confusion matrix, without normalization\", None, \"0.0f\"),\n",
    "                  (\"Normalized confusion matrix\", 'true', None)]\n",
    "for title, normalize, values_format in titles_options:\n",
    "    disp = plot_confusion_matrix(log_reg_5, X_test, y_test,\n",
    "                                 display_labels=target_names,\n",
    "                                 cmap=plt.cm.Reds,\n",
    "                                 normalize=normalize,\n",
    "                                 values_format=values_format,\n",
    "                                )\n",
    "    disp.ax_.set_title(title)\n",
    "\n",
    "    print(title)\n",
    "    print(disp.confusion_matrix)\n",
    "    plt.grid(None)\n",
    "    plt.savefig('Logistic {0}.png'.format(title))\n",
    "\n",
    "    \n",
    "plt.show()"
   ]
  },
  {
   "cell_type": "code",
   "execution_count": 48,
   "metadata": {},
   "outputs": [
    {
     "name": "stdout",
     "output_type": "stream",
     "text": [
      "Training set score: 0.73\n",
      "Test set score: 0.73\n"
     ]
    }
   ],
   "source": [
    "print(\"Training set score: {:.2f}\".format(lr.score(X_train, y_train)))\n",
    "print(\"Test set score: {:.2f}\".format(lr.score(X_test, y_test)))"
   ]
  },
  {
   "cell_type": "markdown",
   "metadata": {},
   "source": [
    "## ROC Curve"
   ]
  },
  {
   "cell_type": "code",
   "execution_count": 49,
   "metadata": {},
   "outputs": [],
   "source": [
    "# make predicted probabilities for the predictions\n",
    "# logistic regression, C = 0.1\n",
    "# store the predicted probabilities for class 1 of response\n",
    "\n",
    "y_pred_prob_5_class1 = log_reg_5.predict_proba(X_test)[:, 1]"
   ]
  },
  {
   "cell_type": "code",
   "execution_count": 50,
   "metadata": {},
   "outputs": [],
   "source": [
    "# the first argument is true values, \n",
    "# the second argument is predicted probabilities\n",
    "\n",
    "# pass y_test and y_pred_prob\n",
    "# do not use y_pred_class, because it will \n",
    "# give incorrect results without generating an error\n",
    "# roc_curve returns 3 objects fpr, tpr, thresholds\n",
    "# fpr: false positive rate\n",
    "# tpr: true positive rate\n",
    "\n",
    "fpr, tpr, thresholds = roc_curve(y_test, y_pred_prob_5_class1)"
   ]
  },
  {
   "cell_type": "code",
   "execution_count": 51,
   "metadata": {},
   "outputs": [
    {
     "data": {
      "text/plain": [
       "array([1.9995e+00, 9.9948e-01, 9.9865e-01, ..., 2.2522e-03, 2.0021e-03,\n",
       "       1.6483e-03])"
      ]
     },
     "execution_count": 51,
     "metadata": {},
     "output_type": "execute_result"
    }
   ],
   "source": [
    "# a check of thresholds\n",
    "thresholds"
   ]
  },
  {
   "cell_type": "code",
   "execution_count": 52,
   "metadata": {},
   "outputs": [
    {
     "data": {
      "image/png": "[encoded data removed]",
      "text/plain": [
       "<Figure size 576x396 with 1 Axes>"
      ]
     },
     "metadata": {},
     "output_type": "display_data"
    }
   ],
   "source": [
    "# plot the ROC curve for the logistic regression, C = 0.5\n",
    "    \n",
    "plot_roc_curve(fpr, tpr)\n",
    "plt.savefig('ROC_logistic_C_5_plot.pdf')\n",
    "plt.show()"
   ]
  },
  {
   "cell_type": "code",
   "execution_count": 53,
   "metadata": {},
   "outputs": [
    {
     "name": "stdout",
     "output_type": "stream",
     "text": [
      "When the threshold is set to 0.5\n",
      "Sensitivity: 0.6635706914344686\n",
      "Specificity: 0.7848428304865795\n"
     ]
    }
   ],
   "source": [
    "# evaluate the logistic regression model, C = 0.5\n",
    "# sensitivity and specificity when the threshold is set to 0.5\n",
    "\n",
    "print('When the threshold is set to 0.5')\n",
    "evaluate_threshold(0.5)"
   ]
  },
  {
   "cell_type": "code",
   "execution_count": 54,
   "metadata": {},
   "outputs": [
    {
     "name": "stdout",
     "output_type": "stream",
     "text": [
      "\n",
      "The AUC is: 0.78724691057933\n"
     ]
    }
   ],
   "source": [
    "# AUC is the percentage of the ROC plot that is underneath the curve\n",
    "# first argument is true values, second argument is predicted probabilities\n",
    "# AUC for logistic regression, C = 100\n",
    "\n",
    "roc_auc_y_5_class1 = metrics.roc_auc_score(y_test, y_pred_prob_5_class1)\n",
    "\n",
    "print('\\nThe AUC is:', roc_auc_y_5_class1)"
   ]
  },
  {
   "cell_type": "markdown",
   "metadata": {},
   "source": [
    "## PR Curve"
   ]
  },
  {
   "cell_type": "code",
   "execution_count": 55,
   "metadata": {},
   "outputs": [],
   "source": [
    "# let's see what the Precision-Recall curve looks like\n",
    "# for the logistic regression model, C = 0.5\n",
    "\n",
    "precision, recall, thresholds = precision_recall_curve(y_test, y_pred_prob_5_class1)"
   ]
  },
  {
   "cell_type": "code",
   "execution_count": 56,
   "metadata": {},
   "outputs": [
    {
     "data": {
      "image/png": "[encoded data removed]",
      "text/plain": [
       "<Figure size 576x396 with 1 Axes>"
      ]
     },
     "metadata": {},
     "output_type": "display_data"
    }
   ],
   "source": [
    "# plot the PR curve for logistic regression, C = 0.5\n",
    "    \n",
    "plot_pr_curve(recall, precision)\n",
    "plt.savefig('PR_logistic_C_5_plot.pdf')\n",
    "plt.show()"
   ]
  },
  {
   "cell_type": "markdown",
   "metadata": {},
   "source": [
    "## Interpreting the Logistic Regression Model, C = 0.5"
   ]
  },
  {
   "cell_type": "code",
   "execution_count": 57,
   "metadata": {},
   "outputs": [
    {
     "data": {
      "text/plain": [
       "array([[ 0.0512,  0.0029, -0.0707,  0.0823, -0.1876,  0.0477,  0.0204,\n",
       "         0.511 , -0.1238, -0.1526, -0.1865, -0.2324]])"
      ]
     },
     "execution_count": 57,
     "metadata": {},
     "output_type": "execute_result"
    }
   ],
   "source": [
    "log_reg_5.coef_"
   ]
  },
  {
   "cell_type": "code",
   "execution_count": 58,
   "metadata": {},
   "outputs": [
    {
     "data": {
      "text/html": [
       "<div>\n",
       "<style scoped>\n",
       "    .dataframe tbody tr th:only-of-type {\n",
       "        vertical-align: middle;\n",
       "    }\n",
       "\n",
       "    .dataframe tbody tr th {\n",
       "        vertical-align: top;\n",
       "    }\n",
       "\n",
       "    .dataframe thead th {\n",
       "        text-align: right;\n",
       "    }\n",
       "</style>\n",
       "<table border=\"1\" class=\"dataframe\">\n",
       "  <thead>\n",
       "    <tr style=\"text-align: right;\">\n",
       "      <th></th>\n",
       "      <th>Feature</th>\n",
       "      <th>Coefficients</th>\n",
       "    </tr>\n",
       "  </thead>\n",
       "  <tbody>\n",
       "    <tr>\n",
       "      <th>7</th>\n",
       "      <td>gluc</td>\n",
       "      <td>0.510960</td>\n",
       "    </tr>\n",
       "    <tr>\n",
       "      <th>3</th>\n",
       "      <td>BMI</td>\n",
       "      <td>0.082324</td>\n",
       "    </tr>\n",
       "    <tr>\n",
       "      <th>0</th>\n",
       "      <td>gender</td>\n",
       "      <td>0.051238</td>\n",
       "    </tr>\n",
       "    <tr>\n",
       "      <th>5</th>\n",
       "      <td>ap_lo</td>\n",
       "      <td>0.047657</td>\n",
       "    </tr>\n",
       "    <tr>\n",
       "      <th>6</th>\n",
       "      <td>cholesterol</td>\n",
       "      <td>0.020387</td>\n",
       "    </tr>\n",
       "    <tr>\n",
       "      <th>1</th>\n",
       "      <td>height_cm</td>\n",
       "      <td>0.002872</td>\n",
       "    </tr>\n",
       "    <tr>\n",
       "      <th>2</th>\n",
       "      <td>weight_kg</td>\n",
       "      <td>-0.070750</td>\n",
       "    </tr>\n",
       "    <tr>\n",
       "      <th>8</th>\n",
       "      <td>smoke</td>\n",
       "      <td>-0.123785</td>\n",
       "    </tr>\n",
       "    <tr>\n",
       "      <th>9</th>\n",
       "      <td>alcohol</td>\n",
       "      <td>-0.152561</td>\n",
       "    </tr>\n",
       "    <tr>\n",
       "      <th>10</th>\n",
       "      <td>active</td>\n",
       "      <td>-0.186450</td>\n",
       "    </tr>\n",
       "    <tr>\n",
       "      <th>4</th>\n",
       "      <td>ap_hi</td>\n",
       "      <td>-0.187640</td>\n",
       "    </tr>\n",
       "  </tbody>\n",
       "</table>\n",
       "</div>"
      ],
      "text/plain": [
       "        Feature  Coefficients\n",
       "7          gluc      0.510960\n",
       "3           BMI      0.082324\n",
       "0        gender      0.051238\n",
       "5         ap_lo      0.047657\n",
       "6   cholesterol      0.020387\n",
       "1     height_cm      0.002872\n",
       "2     weight_kg     -0.070750\n",
       "8         smoke     -0.123785\n",
       "9       alcohol     -0.152561\n",
       "10       active     -0.186450\n",
       "4         ap_hi     -0.187640"
      ]
     },
     "execution_count": 58,
     "metadata": {},
     "output_type": "execute_result"
    }
   ],
   "source": [
    "coeff_df = pd.DataFrame(X_train.columns.delete(0))\n",
    "coeff_df.columns = ['Feature']\n",
    "coeff_df[\"Coefficients\"] = pd.Series(log_reg_5.coef_[0])\n",
    "\n",
    "coeff_df.sort_values(by='Coefficients', ascending=False)\n"
   ]
  },
  {
   "cell_type": "code",
   "execution_count": null,
   "metadata": {},
   "outputs": [],
   "source": []
  },
  {
   "cell_type": "code",
   "execution_count": null,
   "metadata": {},
   "outputs": [],
   "source": []
  },
  {
   "cell_type": "code",
   "execution_count": null,
   "metadata": {},
   "outputs": [],
   "source": []
  }
 ],
 "metadata": {
  "kernelspec": {
   "display_name": "Python 3",
   "language": "python",
   "name": "python3"
  },
  "language_info": {
   "codemirror_mode": {
    "name": "ipython",
    "version": 3
   },
   "file_extension": ".py",
   "mimetype": "text/x-python",
   "name": "python",
   "nbconvert_exporter": "python",
   "pygments_lexer": "ipython3",
   "version": "3.7.6"
  }
 },
 "nbformat": 4,
 "nbformat_minor": 4
}
