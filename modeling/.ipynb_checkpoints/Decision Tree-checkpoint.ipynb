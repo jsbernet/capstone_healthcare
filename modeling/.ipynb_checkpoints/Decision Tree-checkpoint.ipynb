{
 "cells": [
  {
   "cell_type": "markdown",
   "metadata": {},
   "source": [
    "## Cardio Decision Tree"
   ]
  },
  {
   "cell_type": "code",
   "execution_count": 1,
   "metadata": {},
   "outputs": [
    {
     "name": "stderr",
     "output_type": "stream",
     "text": [
      "/Users/jmwanat/anaconda3/lib/python3.7/site-packages/sklearn/externals/six.py:31: FutureWarning: The module is deprecated in version 0.21 and will be removed in version 0.23 since we've dropped support for Python 2.7. Please rely on the official version of six (https://pypi.org/project/six/).\n",
      "  \"(https://pypi.org/project/six/).\", FutureWarning)\n"
     ]
    }
   ],
   "source": [
    "# seed value for random number generators to obtain reproducible results\n",
    "RANDOM_SEED = 1\n",
    "\n",
    "# although we standardize X and y variables on input,\n",
    "# we will fit the intercept term in the models\n",
    "# Expect fitted values to be close to zero\n",
    "SET_FIT_INTERCEPT = True\n",
    "\n",
    "# import base packages into the namespace for this program\n",
    "import numpy as np\n",
    "import pandas as pd\n",
    "\n",
    "# modeling routines from Scikit Learn packages\n",
    "import sklearn.linear_model \n",
    "from sklearn.linear_model import LinearRegression, Ridge, Lasso, ElasticNet\n",
    "from sklearn.tree import DecisionTreeClassifier #decision tree classifierfrom sklearn.model_selection import train_test_split\n",
    "from sklearn.preprocessing import StandardScaler #scale data\n",
    "from sklearn.tree import export_graphviz\n",
    "from sklearn.externals.six import StringIO \n",
    "from IPython.display import Image \n",
    "from sklearn.metrics import mean_squared_error, r2_score, classification_report, confusion_matrix \n",
    "from math import sqrt  # for root mean-squared error calculation\n",
    "import matplotlib\n",
    "import matplotlib.pyplot as plt  # static plotting\n",
    "import seaborn as sns  # pretty plotting, including heat map\n",
    "\n",
    "\n",
    "from sklearn.pipeline import Pipeline\n",
    "from sklearn.ensemble import RandomForestClassifier\n",
    "from sklearn.ensemble import GradientBoostingClassifier\n",
    "from sklearn.model_selection import cross_val_score\n",
    "# specify the k-fold cross-validation design\n",
    "from sklearn.model_selection import KFold\n",
    "\n",
    "from sklearn import metrics\n",
    "from sklearn.metrics import classification_report\n",
    "from sklearn.metrics import roc_curve\n",
    "from sklearn.preprocessing import binarize\n",
    "from sklearn.metrics import precision_recall_curve"
   ]
  },
  {
   "cell_type": "code",
   "execution_count": 2,
   "metadata": {},
   "outputs": [],
   "source": [
    "# define a function to return model metrics for evaluation\n",
    "\n",
    "def model_metrics(y_known, y_pred):\n",
    "    y_test = y_known\n",
    "    y_pred_class = y_pred\n",
    "    confusion = metrics.confusion_matrix(y_test, y_pred_class)\n",
    "    TP = confusion[1, 1]\n",
    "    TN = confusion[0, 0]\n",
    "    FP = confusion[0, 1]\n",
    "    FN = confusion[1, 0]\n",
    "    accuracy = metrics.accuracy_score(y_test, y_pred_class)\n",
    "    class_error = 1 - metrics.accuracy_score(y_test, y_pred_class)\n",
    "    sensitivity = metrics.recall_score(y_test, y_pred_class)\n",
    "    specificity = TN / (TN + FP)\n",
    "    false_positive_rate = FP / float(TN + FP)\n",
    "    precision = TP / float(TP + FP)\n",
    "    f1_score = metrics.f1_score(y_test, y_pred_class)\n",
    "#    F1 = 2*precision*sensitivity/(precision + sensitivity)\n",
    "    print('The model metrics are:',\n",
    "         '\\naccuracy:', accuracy,\n",
    "         '\\nclassification error:', class_error,\n",
    "         '\\nsensitivity:', sensitivity,\n",
    "         '\\nspecificity:', specificity,\n",
    "         '\\nfalse positive rate:', false_positive_rate,\n",
    "         '\\nprecision:', precision,\n",
    "          '\\nF1 score:', f1_score,\n",
    "#          '\\nF1 by hand:', F1,\n",
    "         '\\nconfusion matrix:')\n",
    "    return(confusion)\n"
   ]
  },
  {
   "cell_type": "code",
   "execution_count": 3,
   "metadata": {},
   "outputs": [],
   "source": [
    "# define a function that accepts a threshold and \n",
    "# prints sensitivity and specificity\n",
    "\n",
    "def evaluate_threshold(threshold):\n",
    "    print('Sensitivity:', tpr[thresholds > threshold][-1])\n",
    "    print('Specificity:', 1 - fpr[thresholds > threshold][-1])"
   ]
  },
  {
   "cell_type": "code",
   "execution_count": 4,
   "metadata": {},
   "outputs": [],
   "source": [
    "# define a function that accepts the fpr and tpr values \n",
    "# from the roc_curve function and plot the ROC curve\n",
    "\n",
    "def plot_roc_curve(fpr, tpr, label=None):\n",
    "    plt.plot(fpr, tpr, linewidth=2, label=label)\n",
    "    plt.plot([0, 1], [0, 1], 'k--')\n",
    "    plt.axis([0, 1, 0, 1])\n",
    "    plt.xlabel('False Positive Rate')\n",
    "    plt.ylabel('True Positive Rate')\n",
    "    plt.title('ROC curve for response')"
   ]
  },
  {
   "cell_type": "code",
   "execution_count": 5,
   "metadata": {},
   "outputs": [],
   "source": [
    "# define a function that accepts the recall and precision values \n",
    "# from the precision_recall_curve function and plot the PR curve\n",
    "\n",
    "def plot_pr_curve(recall, precision, label=None):\n",
    "    plt.plot(recall, precision, linewidth=2, label=label)\n",
    "#    plt.plot([0, 1], [0, 1], 'k--')\n",
    "    plt.axis([0, 1, 0, 1])\n",
    "    plt.xlabel('Recall')\n",
    "    plt.ylabel('Precision')\n",
    "    plt.title('PR curve for response')"
   ]
  },
  {
   "cell_type": "code",
   "execution_count": 6,
   "metadata": {},
   "outputs": [
    {
     "name": "stdout",
     "output_type": "stream",
     "text": [
      "The shape of the X test set is:  (13750, 24)\n",
      "The shape of the X train set is:  (54997, 24)\n",
      "The shape of the Y test set is:  (13750, 2)\n",
      "The shape of the Y train set is:  (54997, 2)\n"
     ]
    }
   ],
   "source": [
    "# initial work with the smaller data set\n",
    "X_test = pd.read_csv('cardio_x_test.csv', sep = ',', encoding = 'unicode_escape')  \n",
    "X_train = pd.read_csv('cardio_x_train.csv', sep = ',', encoding = 'unicode_escape')  \n",
    "y_test = pd.read_csv('cardio_y_test.csv', sep = ',', encoding = 'unicode_escape')  \n",
    "y_train = pd.read_csv('cardio_y_train.csv', sep = ',', encoding = 'unicode_escape')\n",
    "# examine the shape of original input data\n",
    "print('The shape of the X test set is: ', X_test.shape)\n",
    "print('The shape of the X train set is: ',X_train.shape)\n",
    "print('The shape of the Y test set is: ',y_test.shape)\n",
    "print('The shape of the Y train set is: ',y_train.shape)"
   ]
  },
  {
   "cell_type": "code",
   "execution_count": 7,
   "metadata": {},
   "outputs": [],
   "source": [
    "#drop unnecessary columns for model\n",
    "X_train = X_train.drop(['Unnamed: 0', 'id', 'age_days', 'LATITUDE',\n",
    "                 'LONGITUDE','ZIP','FACILITY_NAME','ADDRESS',\n",
    "                 'CITY','STATE','DESCRIPTION','FACILITY_TYPE' ], axis=1)\n",
    "X_test = X_test.drop(['Unnamed: 0', 'id', 'age_days', 'LATITUDE',\n",
    "                 'LONGITUDE','ZIP','FACILITY_NAME','ADDRESS',\n",
    "                 'CITY','STATE','DESCRIPTION','FACILITY_TYPE' ], axis=1)\n",
    "y_train = y_train.drop(['Unnamed: 0'], axis=1)\n",
    "y_test = y_test.drop(['Unnamed: 0'], axis=1)    \n"
   ]
  },
  {
   "cell_type": "code",
   "execution_count": 8,
   "metadata": {},
   "outputs": [],
   "source": [
    "y_train = y_train.rename(columns={\"x\": \"cardio\"})\n",
    "y_test = y_test.rename(columns={\"x\": \"cardio\"})"
   ]
  },
  {
   "cell_type": "code",
   "execution_count": 9,
   "metadata": {},
   "outputs": [
    {
     "name": "stdout",
     "output_type": "stream",
     "text": [
      "The total number of NaN values in the X test set is:\n",
      " age_years      0\n",
      "gender         0\n",
      "height_cm      0\n",
      "weight_kg      0\n",
      "BMI            0\n",
      "ap_hi          0\n",
      "ap_lo          0\n",
      "cholesterol    0\n",
      "gluc           0\n",
      "smoke          0\n",
      "alcohol        0\n",
      "active         0\n",
      "dtype: int64\n",
      "The total number of NaN values in the X train set is:\n",
      " age_years      0\n",
      "gender         0\n",
      "height_cm      0\n",
      "weight_kg      0\n",
      "BMI            0\n",
      "ap_hi          0\n",
      "ap_lo          0\n",
      "cholesterol    0\n",
      "gluc           0\n",
      "smoke          0\n",
      "alcohol        0\n",
      "active         0\n",
      "dtype: int64\n",
      "The total number of NaN values in the Y test set is:\n",
      " cardio    0\n",
      "dtype: int64\n",
      "The total number of NaN values in the Y train set is:\n",
      " cardio    0\n",
      "dtype: int64\n"
     ]
    }
   ],
   "source": [
    "#total number of NaN values in each column\n",
    "print('The total number of NaN values in the X test set is:\\n', X_test.isnull().sum())\n",
    "print('The total number of NaN values in the X train set is:\\n',X_train.isnull().sum())\n",
    "print('The total number of NaN values in the Y test set is:\\n',y_test.isnull().sum())\n",
    "print('The total number of NaN values in the Y train set is:\\n',y_train.isnull().sum())"
   ]
  },
  {
   "cell_type": "code",
   "execution_count": 10,
   "metadata": {},
   "outputs": [],
   "source": [
    "# mapping function to convert text female/male to integer 1/2\n",
    "convert_to_binary = {'female' : 1, 'male' : 2}\n",
    "\n",
    "# define binary variable for gender\n",
    "X_train['gender'] = X_train['gender'].map(convert_to_binary)\n",
    "X_test['gender'] = X_test['gender'].map(convert_to_binary)"
   ]
  },
  {
   "cell_type": "code",
   "execution_count": 11,
   "metadata": {},
   "outputs": [
    {
     "data": {
      "text/html": [
       "<div>\n",
       "<style scoped>\n",
       "    .dataframe tbody tr th:only-of-type {\n",
       "        vertical-align: middle;\n",
       "    }\n",
       "\n",
       "    .dataframe tbody tr th {\n",
       "        vertical-align: top;\n",
       "    }\n",
       "\n",
       "    .dataframe thead th {\n",
       "        text-align: right;\n",
       "    }\n",
       "</style>\n",
       "<table border=\"1\" class=\"dataframe\">\n",
       "  <thead>\n",
       "    <tr style=\"text-align: right;\">\n",
       "      <th></th>\n",
       "      <th>age_years</th>\n",
       "      <th>gender</th>\n",
       "      <th>height_cm</th>\n",
       "      <th>weight_kg</th>\n",
       "      <th>BMI</th>\n",
       "      <th>ap_hi</th>\n",
       "      <th>ap_lo</th>\n",
       "      <th>cholesterol</th>\n",
       "      <th>gluc</th>\n",
       "      <th>smoke</th>\n",
       "      <th>alcohol</th>\n",
       "      <th>active</th>\n",
       "    </tr>\n",
       "  </thead>\n",
       "  <tbody>\n",
       "    <tr>\n",
       "      <th>0</th>\n",
       "      <td>62</td>\n",
       "      <td>1</td>\n",
       "      <td>160</td>\n",
       "      <td>101.0</td>\n",
       "      <td>39.453125</td>\n",
       "      <td>120</td>\n",
       "      <td>70</td>\n",
       "      <td>1</td>\n",
       "      <td>1</td>\n",
       "      <td>0</td>\n",
       "      <td>0</td>\n",
       "      <td>1</td>\n",
       "    </tr>\n",
       "    <tr>\n",
       "      <th>1</th>\n",
       "      <td>41</td>\n",
       "      <td>2</td>\n",
       "      <td>172</td>\n",
       "      <td>78.0</td>\n",
       "      <td>26.365603</td>\n",
       "      <td>140</td>\n",
       "      <td>80</td>\n",
       "      <td>1</td>\n",
       "      <td>1</td>\n",
       "      <td>0</td>\n",
       "      <td>0</td>\n",
       "      <td>1</td>\n",
       "    </tr>\n",
       "    <tr>\n",
       "      <th>2</th>\n",
       "      <td>57</td>\n",
       "      <td>1</td>\n",
       "      <td>168</td>\n",
       "      <td>80.0</td>\n",
       "      <td>28.344671</td>\n",
       "      <td>140</td>\n",
       "      <td>90</td>\n",
       "      <td>1</td>\n",
       "      <td>1</td>\n",
       "      <td>0</td>\n",
       "      <td>0</td>\n",
       "      <td>1</td>\n",
       "    </tr>\n",
       "    <tr>\n",
       "      <th>3</th>\n",
       "      <td>52</td>\n",
       "      <td>1</td>\n",
       "      <td>161</td>\n",
       "      <td>75.0</td>\n",
       "      <td>28.934069</td>\n",
       "      <td>110</td>\n",
       "      <td>80</td>\n",
       "      <td>2</td>\n",
       "      <td>3</td>\n",
       "      <td>0</td>\n",
       "      <td>0</td>\n",
       "      <td>1</td>\n",
       "    </tr>\n",
       "    <tr>\n",
       "      <th>4</th>\n",
       "      <td>39</td>\n",
       "      <td>1</td>\n",
       "      <td>169</td>\n",
       "      <td>64.0</td>\n",
       "      <td>22.408179</td>\n",
       "      <td>100</td>\n",
       "      <td>70</td>\n",
       "      <td>1</td>\n",
       "      <td>1</td>\n",
       "      <td>0</td>\n",
       "      <td>0</td>\n",
       "      <td>1</td>\n",
       "    </tr>\n",
       "  </tbody>\n",
       "</table>\n",
       "</div>"
      ],
      "text/plain": [
       "   age_years  gender  height_cm  weight_kg        BMI  ap_hi  ap_lo  \\\n",
       "0         62       1        160      101.0  39.453125    120     70   \n",
       "1         41       2        172       78.0  26.365603    140     80   \n",
       "2         57       1        168       80.0  28.344671    140     90   \n",
       "3         52       1        161       75.0  28.934069    110     80   \n",
       "4         39       1        169       64.0  22.408179    100     70   \n",
       "\n",
       "   cholesterol  gluc  smoke  alcohol  active  \n",
       "0            1     1      0        0       1  \n",
       "1            1     1      0        0       1  \n",
       "2            1     1      0        0       1  \n",
       "3            2     3      0        0       1  \n",
       "4            1     1      0        0       1  "
      ]
     },
     "execution_count": 11,
     "metadata": {},
     "output_type": "execute_result"
    }
   ],
   "source": [
    "X_train.head()"
   ]
  },
  {
   "cell_type": "code",
   "execution_count": 12,
   "metadata": {},
   "outputs": [
    {
     "data": {
      "text/html": [
       "<div>\n",
       "<style scoped>\n",
       "    .dataframe tbody tr th:only-of-type {\n",
       "        vertical-align: middle;\n",
       "    }\n",
       "\n",
       "    .dataframe tbody tr th {\n",
       "        vertical-align: top;\n",
       "    }\n",
       "\n",
       "    .dataframe thead th {\n",
       "        text-align: right;\n",
       "    }\n",
       "</style>\n",
       "<table border=\"1\" class=\"dataframe\">\n",
       "  <thead>\n",
       "    <tr style=\"text-align: right;\">\n",
       "      <th></th>\n",
       "      <th>cardio</th>\n",
       "    </tr>\n",
       "  </thead>\n",
       "  <tbody>\n",
       "    <tr>\n",
       "      <th>0</th>\n",
       "      <td>1</td>\n",
       "    </tr>\n",
       "    <tr>\n",
       "      <th>1</th>\n",
       "      <td>0</td>\n",
       "    </tr>\n",
       "    <tr>\n",
       "      <th>2</th>\n",
       "      <td>1</td>\n",
       "    </tr>\n",
       "    <tr>\n",
       "      <th>3</th>\n",
       "      <td>0</td>\n",
       "    </tr>\n",
       "    <tr>\n",
       "      <th>4</th>\n",
       "      <td>0</td>\n",
       "    </tr>\n",
       "  </tbody>\n",
       "</table>\n",
       "</div>"
      ],
      "text/plain": [
       "   cardio\n",
       "0       1\n",
       "1       0\n",
       "2       1\n",
       "3       0\n",
       "4       0"
      ]
     },
     "execution_count": 12,
     "metadata": {},
     "output_type": "execute_result"
    }
   ],
   "source": [
    "y_train.head()"
   ]
  },
  {
   "cell_type": "code",
   "execution_count": 13,
   "metadata": {},
   "outputs": [
    {
     "name": "stdout",
     "output_type": "stream",
     "text": [
      "\n",
      "----------------------------\n",
      "Decision Tree\n",
      "\n",
      "DecisionTreeClassifier(ccp_alpha=0.0, class_weight=None, criterion='gini',\n",
      "                       max_depth=None, max_features=None, max_leaf_nodes=None,\n",
      "                       min_impurity_decrease=0.0, min_impurity_split=None,\n",
      "                       min_samples_leaf=1, min_samples_split=2,\n",
      "                       min_weight_fraction_leaf=0.0, presort='deprecated',\n",
      "                       random_state=None, splitter='best')\n"
     ]
    }
   ],
   "source": [
    "#Set the decision tree classifier\n",
    "dt = DecisionTreeClassifier()\n",
    "#dt.fit(X_train, y_train)\n",
    "\n",
    "# Fit the model\n",
    "dt_fit = dt.fit(X_train, y_train)\n",
    "\n",
    "print('\\n----------------------------')\n",
    "print('Decision Tree\\n')\n",
    "print(dt_fit)"
   ]
  },
  {
   "cell_type": "code",
   "execution_count": 14,
   "metadata": {},
   "outputs": [],
   "source": [
    "#make prediction\n",
    "y_pred = dt.predict(X_test)"
   ]
  },
  {
   "cell_type": "code",
   "execution_count": 15,
   "metadata": {
    "scrolled": true
   },
   "outputs": [
    {
     "name": "stdout",
     "output_type": "stream",
     "text": [
      "[[4535 2432]\n",
      " [2567 4216]]\n",
      "              precision    recall  f1-score   support\n",
      "\n",
      "           0       0.64      0.65      0.64      6967\n",
      "           1       0.63      0.62      0.63      6783\n",
      "\n",
      "    accuracy                           0.64     13750\n",
      "   macro avg       0.64      0.64      0.64     13750\n",
      "weighted avg       0.64      0.64      0.64     13750\n",
      "\n"
     ]
    }
   ],
   "source": [
    "# precision, recall, F1 score, and count of response variable\n",
    "# of decision tree\n",
    "print(confusion_matrix(y_test, y_pred))\n",
    "print(classification_report(y_test, y_pred))"
   ]
  },
  {
   "cell_type": "code",
   "execution_count": 16,
   "metadata": {},
   "outputs": [
    {
     "name": "stdout",
     "output_type": "stream",
     "text": [
      "The model metrics are: \n",
      "accuracy: 0.6364363636363637 \n",
      "classification error: 0.3635636363636363 \n",
      "sensitivity: 0.6215538847117794 \n",
      "specificity: 0.6509257930242572 \n",
      "false positive rate: 0.34907420697574276 \n",
      "precision: 0.6341756919374247 \n",
      "F1 score: 0.6278013550740823 \n",
      "confusion matrix:\n"
     ]
    },
    {
     "data": {
      "text/plain": [
       "array([[4535, 2432],\n",
       "       [2567, 4216]])"
      ]
     },
     "execution_count": 16,
     "metadata": {},
     "output_type": "execute_result"
    }
   ],
   "source": [
    "# evaluate gradient boosting classifer\n",
    "model_metrics(y_test, y_pred)"
   ]
  },
  {
   "cell_type": "code",
   "execution_count": 24,
   "metadata": {},
   "outputs": [
    {
     "name": "stdout",
     "output_type": "stream",
     "text": [
      "Confusion matrix, without normalization\n",
      "[[4535 2432]\n",
      " [2567 4216]]\n",
      "Normalized confusion matrix\n",
      "[[0.6509 0.3491]\n",
      " [0.3784 0.6216]]\n"
     ]
    },
    {
     "data": {
      "image/png": "[encoded data removed]",
      "text/plain": [
       "<Figure size 432x288 with 2 Axes>"
      ]
     },
     "metadata": {
      "needs_background": "light"
     },
     "output_type": "display_data"
    },
    {
     "data": {
      "image/png": "[encoded data removed]",
      "text/plain": [
       "<Figure size 432x288 with 2 Axes>"
      ]
     },
     "metadata": {
      "needs_background": "light"
     },
     "output_type": "display_data"
    }
   ],
   "source": [
    "#https://scikit-learn.org/stable/auto_examples/model_selection/plot_confusion_matrix.html#sphx-glr-auto-examples-model-selection-plot-confusion-matrix-py\n",
    "from sklearn.metrics import plot_confusion_matrix\n",
    "\n",
    "target_names=['0', '1']\n",
    "np.set_printoptions(precision=4)\n",
    "\n",
    "# Plot non-normalized confusion matrix\n",
    "titles_options = [(\"Confusion matrix, without normalization\", None, \"0.0f\"),\n",
    "                  (\"Normalized confusion matrix\", 'true', None)]\n",
    "for title, normalize, values_format in titles_options:\n",
    "    disp = plot_confusion_matrix(dt, X_test, y_test,\n",
    "                                 display_labels=target_names,\n",
    "                                 cmap=plt.cm.Reds,\n",
    "                                 normalize=normalize,\n",
    "                                 values_format=values_format,\n",
    "                                )\n",
    "    disp.ax_.set_title(title)\n",
    "\n",
    "    print(title)\n",
    "    print(disp.confusion_matrix)\n",
    "    #plt.grid(None)\n",
    "    plt.savefig('Decision Tree {0}.png'.format(title))\n",
    "\n",
    "    \n",
    "plt.show()"
   ]
  },
  {
   "cell_type": "code",
   "execution_count": 18,
   "metadata": {},
   "outputs": [
    {
     "name": "stdout",
     "output_type": "stream",
     "text": [
      "Training set score: 0.98\n",
      "Test set score: 0.64\n"
     ]
    }
   ],
   "source": [
    "print(\"Training set score: {:.2f}\".format(dt_fit.score(X_train, y_train)))\n",
    "print(\"Test set score: {:.2f}\".format(dt_fit.score(X_test, y_test)))"
   ]
  },
  {
   "cell_type": "markdown",
   "metadata": {},
   "source": [
    "## ROC Curve"
   ]
  },
  {
   "cell_type": "code",
   "execution_count": 19,
   "metadata": {},
   "outputs": [],
   "source": [
    "# make predicted probabilities for the predictions\n",
    "# logistic regression, C = 0.1\n",
    "# store the predicted probabilities for class 1 of response\n",
    "\n",
    "y_pred_prob_class1 = dt.predict_proba(X_test)[:, 1]"
   ]
  },
  {
   "cell_type": "code",
   "execution_count": 20,
   "metadata": {},
   "outputs": [],
   "source": [
    "# the first argument is true values, \n",
    "# the second argument is predicted probabilities\n",
    "\n",
    "# pass y_test and y_pred_prob\n",
    "# do not use y_pred_class, because it will \n",
    "# give incorrect results without generating an error\n",
    "# roc_curve returns 3 objects fpr, tpr, thresholds\n",
    "# fpr: false positive rate\n",
    "# tpr: true positive rate\n",
    "\n",
    "fpr, tpr, thresholds = roc_curve(y_test, y_pred_prob_class1)"
   ]
  },
  {
   "cell_type": "code",
   "execution_count": 21,
   "metadata": {},
   "outputs": [
    {
     "data": {
      "text/plain": [
       "array([2.    , 1.    , 0.8333, 0.75  , 0.7143, 0.6667, 0.625 , 0.6   ,\n",
       "       0.5833, 0.5   , 0.4615, 0.4545, 0.4286, 0.4   , 0.3636, 0.3333,\n",
       "       0.2857, 0.25  , 0.2   , 0.1875, 0.1818, 0.1667, 0.1429, 0.125 ,\n",
       "       0.    ])"
      ]
     },
     "execution_count": 21,
     "metadata": {},
     "output_type": "execute_result"
    }
   ],
   "source": [
    "# a check of thresholds\n",
    "thresholds"
   ]
  },
  {
   "cell_type": "code",
   "execution_count": 22,
   "metadata": {},
   "outputs": [
    {
     "data": {
      "image/png": "[encoded data removed]",
      "text/plain": [
       "<Figure size 432x288 with 1 Axes>"
      ]
     },
     "metadata": {
      "needs_background": "light"
     },
     "output_type": "display_data"
    }
   ],
   "source": [
    "# plot the ROC curve for the decision tree\n",
    "    \n",
    "plot_roc_curve(fpr, tpr)\n",
    "plt.savefig('ROC_decision_tree_plot.pdf')\n",
    "plt.show()"
   ]
  },
  {
   "cell_type": "code",
   "execution_count": 23,
   "metadata": {},
   "outputs": [
    {
     "name": "stdout",
     "output_type": "stream",
     "text": [
      "\n",
      "The AUC is: 0.6381911092797131\n"
     ]
    }
   ],
   "source": [
    "# AUC is the percentage of the ROC plot that is underneath the curve\n",
    "# first argument is true values, second argument is predicted probabilities\n",
    "# AUC for decision tree\n",
    "\n",
    "roc_auc_dt_class1 = metrics.roc_auc_score(y_test, y_pred_prob_class1)\n",
    "\n",
    "print('\\nThe AUC is:', roc_auc_dt_class1)"
   ]
  },
  {
   "cell_type": "code",
   "execution_count": null,
   "metadata": {},
   "outputs": [],
   "source": []
  },
  {
   "cell_type": "code",
   "execution_count": null,
   "metadata": {},
   "outputs": [],
   "source": []
  },
  {
   "cell_type": "code",
   "execution_count": null,
   "metadata": {},
   "outputs": [],
   "source": []
  },
  {
   "cell_type": "code",
   "execution_count": null,
   "metadata": {},
   "outputs": [],
   "source": []
  },
  {
   "cell_type": "code",
   "execution_count": null,
   "metadata": {},
   "outputs": [],
   "source": []
  }
 ],
 "metadata": {
  "kernelspec": {
   "display_name": "Python 3",
   "language": "python",
   "name": "python3"
  },
  "language_info": {
   "codemirror_mode": {
    "name": "ipython",
    "version": 3
   },
   "file_extension": ".py",
   "mimetype": "text/x-python",
   "name": "python",
   "nbconvert_exporter": "python",
   "pygments_lexer": "ipython3",
   "version": "3.7.6"
  }
 },
 "nbformat": 4,
 "nbformat_minor": 2
}
