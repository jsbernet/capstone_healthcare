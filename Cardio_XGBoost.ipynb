{
 "cells": [
  {
   "cell_type": "markdown",
   "metadata": {},
   "source": [
    "## Cardio XGBoost"
   ]
  },
  {
   "cell_type": "code",
   "execution_count": 3,
   "metadata": {},
   "outputs": [],
   "source": [
    "# seed value for random number generators to obtain reproducible results\n",
    "RANDOM_SEED = 1\n",
    "\n",
    "# although we standardize X and y variables on input,\n",
    "# we will fit the intercept term in the models\n",
    "# Expect fitted values to be close to zero\n",
    "SET_FIT_INTERCEPT = True\n",
    "\n",
    "# import base packages into the namespace for this program\n",
    "import numpy as np\n",
    "import pandas as pd\n",
    "\n",
    "# modeling routines from Scikit Learn packages\n",
    "import sklearn.linear_model \n",
    "#from sklearn.linear_model import LinearRegression, Ridge, Lasso, ElasticNet\n",
    "from sklearn.metrics import mean_squared_error, r2_score  \n",
    "from math import sqrt  # for root mean-squared error calculation\n",
    "import matplotlib\n",
    "import matplotlib.pyplot as plt  # static plotting\n",
    "import seaborn as sns  # pretty plotting, including heat map\n",
    "from sklearn.model_selection import train_test_split\n",
    "from sklearn.preprocessing import StandardScaler #scale data\n",
    "\n",
    "from sklearn.pipeline import Pipeline\n",
    "#from sklearn.ensemble import RandomForestClassifier\n",
    "#from sklearn.ensemble import GradientBoostingClassifier\n",
    "from sklearn.model_selection import cross_val_score\n",
    "# specify the k-fold cross-validation design\n",
    "from sklearn.model_selection import KFold\n",
    "\n",
    "from sklearn import metrics\n",
    "from sklearn.metrics import classification_report\n",
    "from sklearn.metrics import roc_curve\n",
    "from sklearn.preprocessing import binarize\n",
    "from sklearn.metrics import precision_recall_curve\n",
    "\n",
    "from xgboost import XGBClassifier"
   ]
  },
  {
   "cell_type": "markdown",
   "metadata": {},
   "source": [
    "## Defined functions"
   ]
  },
  {
   "cell_type": "code",
   "execution_count": 4,
   "metadata": {},
   "outputs": [],
   "source": [
    "# define a function to return model metrics for evaluation\n",
    "\n",
    "def model_metrics(y_known, y_pred):\n",
    "    y_test = y_known\n",
    "    y_pred_class = y_pred\n",
    "    confusion = metrics.confusion_matrix(y_test, y_pred_class)\n",
    "    TP = confusion[1, 1]\n",
    "    TN = confusion[0, 0]\n",
    "    FP = confusion[0, 1]\n",
    "    FN = confusion[1, 0]\n",
    "    accuracy = metrics.accuracy_score(y_test, y_pred_class)\n",
    "    class_error = 1 - metrics.accuracy_score(y_test, y_pred_class)\n",
    "    sensitivity = metrics.recall_score(y_test, y_pred_class)\n",
    "    specificity = TN / (TN + FP)\n",
    "    false_positive_rate = FP / float(TN + FP)\n",
    "    precision = TP / float(TP + FP)\n",
    "    f1_score = metrics.f1_score(y_test, y_pred_class)\n",
    "#    F1 = 2*precision*sensitivity/(precision + sensitivity)\n",
    "    print('The model metrics are:',\n",
    "         '\\naccuracy:', accuracy,\n",
    "         '\\nclassification error:', class_error,\n",
    "         '\\nsensitivity:', sensitivity,\n",
    "         '\\nspecificity:', specificity,\n",
    "         '\\nfalse positive rate:', false_positive_rate,\n",
    "         '\\nprecision:', precision,\n",
    "          '\\nF1 score:', f1_score,\n",
    "#          '\\nF1 by hand:', F1,\n",
    "         '\\nconfusion matrix:')\n",
    "    return(confusion)"
   ]
  },
  {
   "cell_type": "code",
   "execution_count": 5,
   "metadata": {},
   "outputs": [],
   "source": [
    "# define a function that accepts a threshold and \n",
    "# prints sensitivity and specificity\n",
    "\n",
    "def evaluate_threshold(threshold):\n",
    "    print('Sensitivity:', tpr[thresholds > threshold][-1])\n",
    "    print('Specificity:', 1 - fpr[thresholds > threshold][-1])"
   ]
  },
  {
   "cell_type": "code",
   "execution_count": 6,
   "metadata": {},
   "outputs": [],
   "source": [
    "# define a function that accepts the fpr and tpr values \n",
    "# from the roc_curve function and plot the ROC curve\n",
    "\n",
    "def plot_roc_curve(fpr, tpr, label=None):\n",
    "    plt.plot(fpr, tpr, linewidth=2, label=label)\n",
    "    plt.plot([0, 1], [0, 1], 'k--')\n",
    "    plt.axis([0, 1, 0, 1])\n",
    "    plt.xlabel('False Positive Rate')\n",
    "    plt.ylabel('True Positive Rate')\n",
    "    plt.title('ROC curve for response')"
   ]
  },
  {
   "cell_type": "code",
   "execution_count": 7,
   "metadata": {},
   "outputs": [],
   "source": [
    "# define a function that accepts the recall and precision values \n",
    "# from the precision_recall_curve function and plot the PR curve\n",
    "\n",
    "def plot_pr_curve(recall, precision, label=None):\n",
    "    plt.plot(recall, precision, linewidth=2, label=label)\n",
    "#    plt.plot([0, 1], [0, 1], 'k--')\n",
    "    plt.axis([0, 1, 0, 1])\n",
    "    plt.xlabel('Recall')\n",
    "    plt.ylabel('Precision')\n",
    "    plt.title('PR curve for response')"
   ]
  },
  {
   "cell_type": "markdown",
   "metadata": {},
   "source": [
    "## Import data set and prepare for analysis"
   ]
  },
  {
   "cell_type": "code",
   "execution_count": 8,
   "metadata": {},
   "outputs": [
    {
     "name": "stdout",
     "output_type": "stream",
     "text": [
      "The shape of the X test set is:  (13750, 24)\n",
      "The shape of the X train set is:  (54997, 24)\n",
      "The shape of the Y test set is:  (13750, 2)\n",
      "The shape of the Y train set is:  (54997, 2)\n"
     ]
    }
   ],
   "source": [
    "# initial work with the smaller data set\n",
    "X_test = pd.read_csv('cardio_x_test.csv', sep = ',', encoding = 'unicode_escape')  \n",
    "X_train = pd.read_csv('cardio_x_train.csv', sep = ',', encoding = 'unicode_escape')  \n",
    "y_test = pd.read_csv('cardio_y_test.csv', sep = ',', encoding = 'unicode_escape')  \n",
    "y_train = pd.read_csv('cardio_y_train.csv', sep = ',', encoding = 'unicode_escape')\n",
    "# examine the shape of original input data\n",
    "print('The shape of the X test set is: ', X_test.shape)\n",
    "print('The shape of the X train set is: ',X_train.shape)\n",
    "print('The shape of the Y test set is: ',y_test.shape)\n",
    "print('The shape of the Y train set is: ',y_train.shape)"
   ]
  },
  {
   "cell_type": "code",
   "execution_count": 9,
   "metadata": {},
   "outputs": [],
   "source": [
    "#drop unnecessary columns for model\n",
    "X_train = X_train.drop(['Unnamed: 0', 'id', 'age_days', 'LATITUDE',\n",
    "                 'LONGITUDE','ZIP','FACILITY_NAME','ADDRESS',\n",
    "                 'CITY','STATE','DESCRIPTION','FACILITY_TYPE' ], axis=1)\n",
    "X_test = X_test.drop(['Unnamed: 0', 'id', 'age_days', 'LATITUDE',\n",
    "                 'LONGITUDE','ZIP','FACILITY_NAME','ADDRESS',\n",
    "                 'CITY','STATE','DESCRIPTION','FACILITY_TYPE' ], axis=1)\n",
    "y_train = y_train.drop(['Unnamed: 0'], axis=1)\n",
    "y_test = y_test.drop(['Unnamed: 0'], axis=1)    \n"
   ]
  },
  {
   "cell_type": "code",
   "execution_count": 10,
   "metadata": {},
   "outputs": [],
   "source": [
    "#rename the column in the target train and test sets\n",
    "y_train = y_train.rename(columns={\"x\": \"cardio\"})\n",
    "y_test = y_test.rename(columns={\"x\": \"cardio\"})"
   ]
  },
  {
   "cell_type": "code",
   "execution_count": 11,
   "metadata": {},
   "outputs": [
    {
     "name": "stdout",
     "output_type": "stream",
     "text": [
      "The total number of NaN values in the X test set is:\n",
      " age_years      0\n",
      "gender         0\n",
      "height_cm      0\n",
      "weight_kg      0\n",
      "BMI            0\n",
      "ap_hi          0\n",
      "ap_lo          0\n",
      "cholesterol    0\n",
      "gluc           0\n",
      "smoke          0\n",
      "alcohol        0\n",
      "active         0\n",
      "dtype: int64\n",
      "The total number of NaN values in the X train set is:\n",
      " age_years      0\n",
      "gender         0\n",
      "height_cm      0\n",
      "weight_kg      0\n",
      "BMI            0\n",
      "ap_hi          0\n",
      "ap_lo          0\n",
      "cholesterol    0\n",
      "gluc           0\n",
      "smoke          0\n",
      "alcohol        0\n",
      "active         0\n",
      "dtype: int64\n",
      "The total number of NaN values in the Y test set is:\n",
      " cardio    0\n",
      "dtype: int64\n",
      "The total number of NaN values in the Y train set is:\n",
      " cardio    0\n",
      "dtype: int64\n"
     ]
    }
   ],
   "source": [
    "#total number of NaN values in each column\n",
    "print('The total number of NaN values in the X test set is:\\n', X_test.isnull().sum())\n",
    "print('The total number of NaN values in the X train set is:\\n',X_train.isnull().sum())\n",
    "print('The total number of NaN values in the Y test set is:\\n',y_test.isnull().sum())\n",
    "print('The total number of NaN values in the Y train set is:\\n',y_train.isnull().sum())\n"
   ]
  },
  {
   "cell_type": "code",
   "execution_count": 12,
   "metadata": {},
   "outputs": [],
   "source": [
    "# mapping function to convert text female/male to integer 1/2\n",
    "convert_to_binary = {'female' : 1, 'male' : 2}\n",
    "\n",
    "# define binary variable for gender\n",
    "X_train['gender'] = X_train['gender'].map(convert_to_binary)\n",
    "X_test['gender'] = X_test['gender'].map(convert_to_binary)"
   ]
  },
  {
   "cell_type": "code",
   "execution_count": 13,
   "metadata": {},
   "outputs": [
    {
     "data": {
      "text/html": [
       "<div>\n",
       "<style scoped>\n",
       "    .dataframe tbody tr th:only-of-type {\n",
       "        vertical-align: middle;\n",
       "    }\n",
       "\n",
       "    .dataframe tbody tr th {\n",
       "        vertical-align: top;\n",
       "    }\n",
       "\n",
       "    .dataframe thead th {\n",
       "        text-align: right;\n",
       "    }\n",
       "</style>\n",
       "<table border=\"1\" class=\"dataframe\">\n",
       "  <thead>\n",
       "    <tr style=\"text-align: right;\">\n",
       "      <th></th>\n",
       "      <th>age_years</th>\n",
       "      <th>gender</th>\n",
       "      <th>height_cm</th>\n",
       "      <th>weight_kg</th>\n",
       "      <th>BMI</th>\n",
       "      <th>ap_hi</th>\n",
       "      <th>ap_lo</th>\n",
       "      <th>cholesterol</th>\n",
       "      <th>gluc</th>\n",
       "      <th>smoke</th>\n",
       "      <th>alcohol</th>\n",
       "      <th>active</th>\n",
       "    </tr>\n",
       "  </thead>\n",
       "  <tbody>\n",
       "    <tr>\n",
       "      <th>0</th>\n",
       "      <td>62</td>\n",
       "      <td>1</td>\n",
       "      <td>160</td>\n",
       "      <td>101.0</td>\n",
       "      <td>39.453125</td>\n",
       "      <td>120</td>\n",
       "      <td>70</td>\n",
       "      <td>1</td>\n",
       "      <td>1</td>\n",
       "      <td>0</td>\n",
       "      <td>0</td>\n",
       "      <td>1</td>\n",
       "    </tr>\n",
       "    <tr>\n",
       "      <th>1</th>\n",
       "      <td>41</td>\n",
       "      <td>2</td>\n",
       "      <td>172</td>\n",
       "      <td>78.0</td>\n",
       "      <td>26.365603</td>\n",
       "      <td>140</td>\n",
       "      <td>80</td>\n",
       "      <td>1</td>\n",
       "      <td>1</td>\n",
       "      <td>0</td>\n",
       "      <td>0</td>\n",
       "      <td>1</td>\n",
       "    </tr>\n",
       "    <tr>\n",
       "      <th>2</th>\n",
       "      <td>57</td>\n",
       "      <td>1</td>\n",
       "      <td>168</td>\n",
       "      <td>80.0</td>\n",
       "      <td>28.344671</td>\n",
       "      <td>140</td>\n",
       "      <td>90</td>\n",
       "      <td>1</td>\n",
       "      <td>1</td>\n",
       "      <td>0</td>\n",
       "      <td>0</td>\n",
       "      <td>1</td>\n",
       "    </tr>\n",
       "    <tr>\n",
       "      <th>3</th>\n",
       "      <td>52</td>\n",
       "      <td>1</td>\n",
       "      <td>161</td>\n",
       "      <td>75.0</td>\n",
       "      <td>28.934069</td>\n",
       "      <td>110</td>\n",
       "      <td>80</td>\n",
       "      <td>2</td>\n",
       "      <td>3</td>\n",
       "      <td>0</td>\n",
       "      <td>0</td>\n",
       "      <td>1</td>\n",
       "    </tr>\n",
       "    <tr>\n",
       "      <th>4</th>\n",
       "      <td>39</td>\n",
       "      <td>1</td>\n",
       "      <td>169</td>\n",
       "      <td>64.0</td>\n",
       "      <td>22.408179</td>\n",
       "      <td>100</td>\n",
       "      <td>70</td>\n",
       "      <td>1</td>\n",
       "      <td>1</td>\n",
       "      <td>0</td>\n",
       "      <td>0</td>\n",
       "      <td>1</td>\n",
       "    </tr>\n",
       "  </tbody>\n",
       "</table>\n",
       "</div>"
      ],
      "text/plain": [
       "   age_years  gender  height_cm  weight_kg        BMI  ap_hi  ap_lo  \\\n",
       "0         62       1        160      101.0  39.453125    120     70   \n",
       "1         41       2        172       78.0  26.365603    140     80   \n",
       "2         57       1        168       80.0  28.344671    140     90   \n",
       "3         52       1        161       75.0  28.934069    110     80   \n",
       "4         39       1        169       64.0  22.408179    100     70   \n",
       "\n",
       "   cholesterol  gluc  smoke  alcohol  active  \n",
       "0            1     1      0        0       1  \n",
       "1            1     1      0        0       1  \n",
       "2            1     1      0        0       1  \n",
       "3            2     3      0        0       1  \n",
       "4            1     1      0        0       1  "
      ]
     },
     "execution_count": 13,
     "metadata": {},
     "output_type": "execute_result"
    }
   ],
   "source": [
    "X_train.head()"
   ]
  },
  {
   "cell_type": "code",
   "execution_count": 14,
   "metadata": {},
   "outputs": [
    {
     "data": {
      "text/html": [
       "<div>\n",
       "<style scoped>\n",
       "    .dataframe tbody tr th:only-of-type {\n",
       "        vertical-align: middle;\n",
       "    }\n",
       "\n",
       "    .dataframe tbody tr th {\n",
       "        vertical-align: top;\n",
       "    }\n",
       "\n",
       "    .dataframe thead th {\n",
       "        text-align: right;\n",
       "    }\n",
       "</style>\n",
       "<table border=\"1\" class=\"dataframe\">\n",
       "  <thead>\n",
       "    <tr style=\"text-align: right;\">\n",
       "      <th></th>\n",
       "      <th>cardio</th>\n",
       "    </tr>\n",
       "  </thead>\n",
       "  <tbody>\n",
       "    <tr>\n",
       "      <th>0</th>\n",
       "      <td>1</td>\n",
       "    </tr>\n",
       "    <tr>\n",
       "      <th>1</th>\n",
       "      <td>0</td>\n",
       "    </tr>\n",
       "    <tr>\n",
       "      <th>2</th>\n",
       "      <td>1</td>\n",
       "    </tr>\n",
       "    <tr>\n",
       "      <th>3</th>\n",
       "      <td>0</td>\n",
       "    </tr>\n",
       "    <tr>\n",
       "      <th>4</th>\n",
       "      <td>0</td>\n",
       "    </tr>\n",
       "  </tbody>\n",
       "</table>\n",
       "</div>"
      ],
      "text/plain": [
       "   cardio\n",
       "0       1\n",
       "1       0\n",
       "2       1\n",
       "3       0\n",
       "4       0"
      ]
     },
     "execution_count": 14,
     "metadata": {},
     "output_type": "execute_result"
    }
   ],
   "source": [
    "y_train.head()"
   ]
  },
  {
   "cell_type": "markdown",
   "metadata": {},
   "source": [
    "## XGBoost basic model"
   ]
  },
  {
   "cell_type": "code",
   "execution_count": 20,
   "metadata": {},
   "outputs": [
    {
     "data": {
      "text/plain": [
       "XGBClassifier(base_score=0.5, booster='gbtree', colsample_bylevel=1,\n",
       "              colsample_bynode=1, colsample_bytree=1, gamma=0,\n",
       "              learning_rate=1.0, max_delta_step=0, max_depth=3,\n",
       "              min_child_weight=1, missing=None, n_estimators=100, n_jobs=1,\n",
       "              nthread=None, objective='binary:logistic', random_state=1,\n",
       "              reg_alpha=0, reg_lambda=1, scale_pos_weight=1, seed=None,\n",
       "              silent=None, subsample=1, verbosity=1)"
      ]
     },
     "execution_count": 20,
     "metadata": {},
     "output_type": "execute_result"
    }
   ],
   "source": [
    "# Instantiate model\n",
    "xgb_model = XGBClassifier(random_state=RANDOM_SEED, learning_rate=1.0)\n",
    "\n",
    "# Fit the model\n",
    "xgb_model.fit(X_train, y_train.values.ravel())"
   ]
  },
  {
   "cell_type": "code",
   "execution_count": 21,
   "metadata": {},
   "outputs": [],
   "source": [
    "# make predictions for the testing set\n",
    "y_predictions_xgb = xgb_model.predict(X_test)"
   ]
  },
  {
   "cell_type": "code",
   "execution_count": 22,
   "metadata": {},
   "outputs": [],
   "source": [
    "# make predicted probabilities for the predictions\n",
    "y_predict_prob_xgb = xgb_model.predict_proba(X_test)"
   ]
  },
  {
   "cell_type": "code",
   "execution_count": 23,
   "metadata": {},
   "outputs": [
    {
     "name": "stdout",
     "output_type": "stream",
     "text": [
      "[[5365 1602]\n",
      " [2104 4679]]\n"
     ]
    }
   ],
   "source": [
    "# the first argument is true values, \n",
    "# the second argument is predicted values\n",
    "# this produces a 2x2 numpy array (matrix)\n",
    "\n",
    "confusion_xgb = metrics.confusion_matrix(y_test, y_predictions_xgb)\n",
    "print(confusion_xgb)"
   ]
  },
  {
   "cell_type": "code",
   "execution_count": 24,
   "metadata": {},
   "outputs": [
    {
     "name": "stdout",
     "output_type": "stream",
     "text": [
      "              precision    recall  f1-score   support\n",
      "\n",
      "           0       0.72      0.77      0.74      6967\n",
      "           1       0.74      0.69      0.72      6783\n",
      "\n",
      "    accuracy                           0.73     13750\n",
      "   macro avg       0.73      0.73      0.73     13750\n",
      "weighted avg       0.73      0.73      0.73     13750\n",
      "\n"
     ]
    }
   ],
   "source": [
    "# precision, recall, F1 score, and count of response variable\n",
    "# of logistic regression model, C =100 when threshold set to 0.5\n",
    "\n",
    "print(classification_report(y_test, y_predictions_xgb))"
   ]
  },
  {
   "cell_type": "markdown",
   "metadata": {},
   "source": [
    "## Grid Search"
   ]
  },
  {
   "cell_type": "markdown",
   "metadata": {},
   "source": [
    "### Grid Search for XGBoost Classifier"
   ]
  },
  {
   "cell_type": "markdown",
   "metadata": {},
   "source": [
    "This is using train sets instead of the unsplit data"
   ]
  },
  {
   "cell_type": "code",
   "execution_count": 26,
   "metadata": {},
   "outputs": [
    {
     "data": {
      "text/plain": [
       "GridSearchCV(cv=5, error_score=nan,\n",
       "             estimator=XGBClassifier(base_score=0.5, booster='gbtree',\n",
       "                                     colsample_bylevel=1, colsample_bynode=1,\n",
       "                                     colsample_bytree=1, gamma=0,\n",
       "                                     learning_rate=0.1, max_delta_step=0,\n",
       "                                     max_depth=3, min_child_weight=1,\n",
       "                                     missing=None, n_estimators=100, n_jobs=1,\n",
       "                                     nthread=None, objective='binary:logistic',\n",
       "                                     random_state=1, reg_alpha=0, reg_lambda=1,\n",
       "                                     scale_pos_weight=1, seed=None, silent=None,\n",
       "                                     subsample=1, verbosity=1),\n",
       "             iid='deprecated', n_jobs=None,\n",
       "             param_grid=[{'learning_rate': [0.01, 0.1, 1.0, 10],\n",
       "                          'max_depth': [2, 4, 6],\n",
       "                          'n_estimators': [50, 100, 200]}],\n",
       "             pre_dispatch='2*n_jobs', refit=True, return_train_score=True,\n",
       "             scoring='neg_mean_squared_error', verbose=0)"
      ]
     },
     "execution_count": 26,
     "metadata": {},
     "output_type": "execute_result"
    }
   ],
   "source": [
    "from sklearn.model_selection import GridSearchCV\n",
    "\n",
    "xgb_param_grid = [\n",
    "    {'learning_rate': [0.01, 0.1, 1.0, 10], \n",
    "     'max_depth': [2,4,6],\n",
    "     'n_estimators': [50,100,200]}]\n",
    "\n",
    "\n",
    "xgb = XGBClassifier(random_state=RANDOM_SEED)\n",
    "\n",
    "xgb_grid_search = GridSearchCV(xgb, xgb_param_grid, cv=5,\n",
    "                           scoring='neg_mean_squared_error',\n",
    "                           return_train_score=True)\n",
    "\n",
    "xgb_grid_search.fit(X_train, y_train.values.ravel())"
   ]
  },
  {
   "cell_type": "code",
   "execution_count": 27,
   "metadata": {},
   "outputs": [
    {
     "name": "stdout",
     "output_type": "stream",
     "text": [
      "\n",
      "----------------------------\n",
      "The parameters choosen by Grid Search for XGBoost Classifier:\n",
      " \n"
     ]
    },
    {
     "data": {
      "text/plain": [
       "{'learning_rate': 0.1, 'max_depth': 2, 'n_estimators': 200}"
      ]
     },
     "execution_count": 27,
     "metadata": {},
     "output_type": "execute_result"
    }
   ],
   "source": [
    "print('\\n----------------------------')\n",
    "print('The parameters choosen by Grid Search for XGBoost Classifier:\\n ')\n",
    "xgb_grid_search.best_params_"
   ]
  },
  {
   "cell_type": "code",
   "execution_count": 28,
   "metadata": {},
   "outputs": [
    {
     "name": "stdout",
     "output_type": "stream",
     "text": [
      "Mean RMSE: 0.5270127193289172 {'learning_rate': 0.01, 'max_depth': 2, 'n_estimators': 50}\n",
      "Mean RMSE: 0.5270127193289172 {'learning_rate': 0.01, 'max_depth': 2, 'n_estimators': 100}\n",
      "Mean RMSE: 0.525855669212808 {'learning_rate': 0.01, 'max_depth': 2, 'n_estimators': 200}\n",
      "Mean RMSE: 0.5219860100983211 {'learning_rate': 0.01, 'max_depth': 4, 'n_estimators': 50}\n",
      "Mean RMSE: 0.521480677700957 {'learning_rate': 0.01, 'max_depth': 4, 'n_estimators': 100}\n",
      "Mean RMSE: 0.5186662485330658 {'learning_rate': 0.01, 'max_depth': 4, 'n_estimators': 200}\n",
      "Mean RMSE: 0.5192443409730897 {'learning_rate': 0.01, 'max_depth': 6, 'n_estimators': 50}\n",
      "Mean RMSE: 0.517314757520293 {'learning_rate': 0.01, 'max_depth': 6, 'n_estimators': 100}\n",
      "Mean RMSE: 0.5166465371007939 {'learning_rate': 0.01, 'max_depth': 6, 'n_estimators': 200}\n",
      "Mean RMSE: 0.5206955866028736 {'learning_rate': 0.1, 'max_depth': 2, 'n_estimators': 50}\n",
      "Mean RMSE: 0.5159069311895375 {'learning_rate': 0.1, 'max_depth': 2, 'n_estimators': 100}\n",
      "Mean RMSE: 0.5147778671931077 {'learning_rate': 0.1, 'max_depth': 2, 'n_estimators': 200}\n",
      "Mean RMSE: 0.5153426650962337 {'learning_rate': 0.1, 'max_depth': 4, 'n_estimators': 50}\n",
      "Mean RMSE: 0.5148131118651486 {'learning_rate': 0.1, 'max_depth': 4, 'n_estimators': 100}\n",
      "Mean RMSE: 0.514954392253864 {'learning_rate': 0.1, 'max_depth': 4, 'n_estimators': 200}\n",
      "Mean RMSE: 0.5161183392997214 {'learning_rate': 0.1, 'max_depth': 6, 'n_estimators': 50}\n",
      "Mean RMSE: 0.515183928956704 {'learning_rate': 0.1, 'max_depth': 6, 'n_estimators': 100}\n",
      "Mean RMSE: 0.5170334752639049 {'learning_rate': 0.1, 'max_depth': 6, 'n_estimators': 200}\n",
      "Mean RMSE: 0.5172620142676023 {'learning_rate': 1.0, 'max_depth': 2, 'n_estimators': 50}\n",
      "Mean RMSE: 0.5189465279265317 {'learning_rate': 1.0, 'max_depth': 2, 'n_estimators': 100}\n",
      "Mean RMSE: 0.5191566823500111 {'learning_rate': 1.0, 'max_depth': 2, 'n_estimators': 200}\n",
      "Mean RMSE: 0.5227344233823267 {'learning_rate': 1.0, 'max_depth': 4, 'n_estimators': 50}\n",
      "Mean RMSE: 0.527374839379158 {'learning_rate': 1.0, 'max_depth': 4, 'n_estimators': 100}\n",
      "Mean RMSE: 0.5321627257564876 {'learning_rate': 1.0, 'max_depth': 4, 'n_estimators': 200}\n",
      "Mean RMSE: 0.5352969205464239 {'learning_rate': 1.0, 'max_depth': 6, 'n_estimators': 50}\n",
      "Mean RMSE: 0.5440569350480124 {'learning_rate': 1.0, 'max_depth': 6, 'n_estimators': 100}\n",
      "Mean RMSE: 0.5554346937732831 {'learning_rate': 1.0, 'max_depth': 6, 'n_estimators': 200}\n",
      "Mean RMSE: 0.7110493752738363 {'learning_rate': 10, 'max_depth': 2, 'n_estimators': 50}\n",
      "Mean RMSE: 0.7094622390393779 {'learning_rate': 10, 'max_depth': 2, 'n_estimators': 100}\n",
      "Mean RMSE: 0.7094622390393779 {'learning_rate': 10, 'max_depth': 2, 'n_estimators': 200}\n",
      "Mean RMSE: 0.7078972289849605 {'learning_rate': 10, 'max_depth': 4, 'n_estimators': 50}\n",
      "Mean RMSE: 0.6493115226055399 {'learning_rate': 10, 'max_depth': 4, 'n_estimators': 100}\n",
      "Mean RMSE: 0.7047306952895694 {'learning_rate': 10, 'max_depth': 4, 'n_estimators': 200}\n",
      "Mean RMSE: 0.6743114115827529 {'learning_rate': 10, 'max_depth': 6, 'n_estimators': 50}\n",
      "Mean RMSE: 0.674068674030088 {'learning_rate': 10, 'max_depth': 6, 'n_estimators': 100}\n",
      "Mean RMSE: 0.673852833910407 {'learning_rate': 10, 'max_depth': 6, 'n_estimators': 200}\n"
     ]
    }
   ],
   "source": [
    "#print the mean RMSE for each model evaluated\n",
    "#the model with the lowest mean RMSE is best\n",
    "\n",
    "xgb_cvres = xgb_grid_search.cv_results_\n",
    "\n",
    "for mean_score, params in zip(xgb_cvres[\"mean_test_score\"], xgb_cvres[\"params\"]):\n",
    "    print('Mean RMSE:', np.sqrt(-mean_score), params)"
   ]
  },
  {
   "cell_type": "markdown",
   "metadata": {},
   "source": [
    "### Fitting the best XGB model based on GridSearchCV results"
   ]
  },
  {
   "cell_type": "code",
   "execution_count": 29,
   "metadata": {},
   "outputs": [
    {
     "name": "stdout",
     "output_type": "stream",
     "text": [
      "\n",
      "----------------------------\n",
      "XGBoost\n",
      "\n",
      "XGBClassifier(base_score=0.5, booster='gbtree', colsample_bylevel=1,\n",
      "              colsample_bynode=1, colsample_bytree=1, gamma=0,\n",
      "              learning_rate=0.1, max_delta_step=0, max_depth=2,\n",
      "              min_child_weight=1, missing=None, n_estimators=200, n_jobs=1,\n",
      "              nthread=None, objective='binary:logistic', random_state=1,\n",
      "              reg_alpha=0, reg_lambda=1, scale_pos_weight=1, seed=None,\n",
      "              silent=None, subsample=1, verbosity=1)\n"
     ]
    }
   ],
   "source": [
    "#use the information from GridSearch to fit the best GB model\n",
    "# Instantiate model\n",
    "xgb_best = XGBClassifier(n_estimators=200, max_depth=2, \n",
    "                         learning_rate=0.1, random_state=RANDOM_SEED)\n",
    "\n",
    "# Fit the model\n",
    "xgb = xgb_best.fit(X_train, y_train.values.ravel())\n",
    "\n",
    "print('\\n----------------------------')\n",
    "print('XGBoost\\n')\n",
    "print(xgb)\n",
    "#print('intercept:', lr_intercept)\n",
    "#print('coefficients:', lr_coef)"
   ]
  },
  {
   "cell_type": "code",
   "execution_count": 30,
   "metadata": {},
   "outputs": [],
   "source": [
    "# make predictions for the testing set\n",
    "y_predictions_xgb = xgb.predict(X_test)"
   ]
  },
  {
   "cell_type": "code",
   "execution_count": 31,
   "metadata": {},
   "outputs": [],
   "source": [
    "# make predicted probabilities for the predictions\n",
    "y_predict_prob_xgb = xgb.predict_proba(X_test)"
   ]
  },
  {
   "cell_type": "code",
   "execution_count": 32,
   "metadata": {},
   "outputs": [
    {
     "name": "stdout",
     "output_type": "stream",
     "text": [
      "[[5425 1542]\n",
      " [2092 4691]]\n"
     ]
    }
   ],
   "source": [
    "# the first argument is true values, \n",
    "# the second argument is predicted values\n",
    "# this produces a 2x2 numpy array (matrix)\n",
    "\n",
    "confusion_xgb = metrics.confusion_matrix(y_test, y_predictions_xgb)\n",
    "print(confusion_xgb)"
   ]
  },
  {
   "cell_type": "code",
   "execution_count": 33,
   "metadata": {},
   "outputs": [
    {
     "name": "stdout",
     "output_type": "stream",
     "text": [
      "              precision    recall  f1-score   support\n",
      "\n",
      "           0       0.72      0.78      0.75      6967\n",
      "           1       0.75      0.69      0.72      6783\n",
      "\n",
      "    accuracy                           0.74     13750\n",
      "   macro avg       0.74      0.74      0.73     13750\n",
      "weighted avg       0.74      0.74      0.74     13750\n",
      "\n"
     ]
    }
   ],
   "source": [
    "# precision, recall, F1 score, and count of response variable\n",
    "# of XGBoost classifier\n",
    "\n",
    "print(classification_report(y_test, y_predictions_xgb))"
   ]
  },
  {
   "cell_type": "code",
   "execution_count": 34,
   "metadata": {},
   "outputs": [
    {
     "name": "stdout",
     "output_type": "stream",
     "text": [
      "The model metrics are: \n",
      "accuracy: 0.7357090909090909 \n",
      "classification error: 0.26429090909090913 \n",
      "sensitivity: 0.6915818959162613 \n",
      "specificity: 0.7786708769915315 \n",
      "false positive rate: 0.2213291230084685 \n",
      "precision: 0.7526070912883042 \n",
      "F1 score: 0.7208051628764598 \n",
      "confusion matrix:\n"
     ]
    },
    {
     "data": {
      "text/plain": [
       "array([[5425, 1542],\n",
       "       [2092, 4691]])"
      ]
     },
     "execution_count": 34,
     "metadata": {},
     "output_type": "execute_result"
    }
   ],
   "source": [
    "# evaluate XGBoost classifer\n",
    "\n",
    "\n",
    "model_metrics(y_test, y_predictions_xgb)\n",
    "\n",
    "#y_predictions_gbr is the predicted response value"
   ]
  },
  {
   "cell_type": "code",
   "execution_count": 35,
   "metadata": {},
   "outputs": [
    {
     "name": "stdout",
     "output_type": "stream",
     "text": [
      "Training set score: 0.74\n",
      "Test set score: 0.74\n"
     ]
    }
   ],
   "source": [
    "print(\"Training set score: {:.2f}\".format(xgb.score(X_train, y_train)))\n",
    "print(\"Test set score: {:.2f}\".format(xgb.score(X_test, y_test)))"
   ]
  },
  {
   "cell_type": "markdown",
   "metadata": {},
   "source": [
    "## ROC Curve"
   ]
  },
  {
   "cell_type": "code",
   "execution_count": 36,
   "metadata": {},
   "outputs": [],
   "source": [
    "# make predicted probabilities for the predictions\n",
    "# XGBoost classifier\n",
    "# store the predicted probabilities for class 1 of response\n",
    "\n",
    "y_pred_prob_xgb = xgb.predict_proba(X_test)[:, 1]"
   ]
  },
  {
   "cell_type": "code",
   "execution_count": 37,
   "metadata": {},
   "outputs": [],
   "source": [
    "# the first argument is true values, \n",
    "# the second argument is predicted probabilities\n",
    "\n",
    "# pass y_test and y_pred_prob\n",
    "# do not use y_pred_class, because it will \n",
    "# give incorrect results without generating an error\n",
    "# roc_curve returns 3 objects fpr, tpr, thresholds\n",
    "# fpr: false positive rate\n",
    "# tpr: true positive rate\n",
    "\n",
    "fpr, tpr, thresholds = roc_curve(y_test, y_pred_prob_xgb)"
   ]
  },
  {
   "cell_type": "code",
   "execution_count": 38,
   "metadata": {},
   "outputs": [
    {
     "data": {
      "image/png": "[encoded data removed]",
      "text/plain": [
       "<Figure size 432x288 with 1 Axes>"
      ]
     },
     "metadata": {
      "needs_background": "light"
     },
     "output_type": "display_data"
    }
   ],
   "source": [
    "# plot the ROC curve for the gradient boosting classifer\n",
    "    \n",
    "plot_roc_curve(fpr, tpr)\n",
    "plt.savefig('ROC_XGB_plot.pdf')\n",
    "plt.show()"
   ]
  },
  {
   "cell_type": "code",
   "execution_count": 39,
   "metadata": {},
   "outputs": [
    {
     "name": "stdout",
     "output_type": "stream",
     "text": [
      "When the threshold is set to 0.5\n",
      "Sensitivity: 0.6915818959162613\n",
      "Specificity: 0.7786708769915315\n"
     ]
    }
   ],
   "source": [
    "# evaluate the XGB\n",
    "# sensitivity and specificity when the threshold is set to 0.5\n",
    "\n",
    "print('When the threshold is set to 0.5')\n",
    "evaluate_threshold(0.5)"
   ]
  },
  {
   "cell_type": "code",
   "execution_count": 40,
   "metadata": {},
   "outputs": [
    {
     "name": "stdout",
     "output_type": "stream",
     "text": [
      "\n",
      "The AUC is: 0.8001460879124753\n"
     ]
    }
   ],
   "source": [
    "# AUC is the percentage of the ROC plot that is underneath the curve\n",
    "# first argument is true values, second argument is predicted probabilities\n",
    "# AUC for logistic regression, C = 100\n",
    "\n",
    "roc_auc_y_xgb_class1 = metrics.roc_auc_score(y_test, y_pred_prob_xgb)\n",
    "\n",
    "print('\\nThe AUC is:', roc_auc_y_xgb_class1)"
   ]
  },
  {
   "cell_type": "markdown",
   "metadata": {},
   "source": [
    "## XGBoost Feature Importance"
   ]
  },
  {
   "cell_type": "code",
   "execution_count": 50,
   "metadata": {},
   "outputs": [
    {
     "data": {
      "image/png": "[encoded data removed]",
      "text/plain": [
       "<Figure size 432x288 with 1 Axes>"
      ]
     },
     "metadata": {
      "needs_background": "light"
     },
     "output_type": "display_data"
    }
   ],
   "source": [
    "#https://machinelearningmastery.com/feature-importance-and-feature-selection-with-xgboost-in-python/\n",
    "# plot feature importance\n",
    "from xgboost import plot_importance\n",
    "plot_importance(xgb)\n",
    "plt.show()"
   ]
  },
  {
   "cell_type": "code",
   "execution_count": null,
   "metadata": {},
   "outputs": [],
   "source": []
  },
  {
   "cell_type": "code",
   "execution_count": null,
   "metadata": {},
   "outputs": [],
   "source": []
  },
  {
   "cell_type": "code",
   "execution_count": null,
   "metadata": {},
   "outputs": [],
   "source": []
  },
  {
   "cell_type": "code",
   "execution_count": null,
   "metadata": {},
   "outputs": [],
   "source": []
  }
 ],
 "metadata": {
  "kernelspec": {
   "display_name": "Python 3",
   "language": "python",
   "name": "python3"
  },
  "language_info": {
   "codemirror_mode": {
    "name": "ipython",
    "version": 3
   },
   "file_extension": ".py",
   "mimetype": "text/x-python",
   "name": "python",
   "nbconvert_exporter": "python",
   "pygments_lexer": "ipython3",
   "version": "3.7.6"
  }
 },
 "nbformat": 4,
 "nbformat_minor": 4
}
